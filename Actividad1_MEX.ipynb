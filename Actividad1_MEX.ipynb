{
  "nbformat": 4,
  "nbformat_minor": 0,
  "metadata": {
    "colab": {
      "provenance": [],
      "collapsed_sections": [],
      "authorship_tag": "ABX9TyPUttfeaeNZ02xCZ2VmkyVT",
      "include_colab_link": true
    },
    "kernelspec": {
      "name": "python3",
      "display_name": "Python 3"
    },
    "language_info": {
      "name": "python"
    }
  },
  "cells": [
    {
      "cell_type": "markdown",
      "metadata": {
        "id": "view-in-github",
        "colab_type": "text"
      },
      "source": [
        "<a href=\"https://colab.research.google.com/github/DianaAguilar-A01733009/Actividad1/blob/main/Actividad1_MEX.ipynb\" target=\"_parent\"><img src=\"https://colab.research.google.com/assets/colab-badge.svg\" alt=\"Open In Colab\"/></a>"
      ]
    },
    {
      "cell_type": "markdown",
      "source": [
        "##Importar librerias y carga del documento"
      ],
      "metadata": {
        "id": "BP-pKUngL6cu"
      }
    },
    {
      "cell_type": "code",
      "execution_count": 1,
      "metadata": {
        "id": "jBkijY-v9im8"
      },
      "outputs": [],
      "source": [
        "import pandas as pd\n",
        "import numpy as np\n",
        "import matplotlib.pyplot as plt\n",
        "import seaborn as sns"
      ]
    },
    {
      "cell_type": "code",
      "source": [
        "# Cargar archivo csv desde el equipo\n",
        "\n",
        "from google.colab import files\n",
        "files.upload()"
      ],
      "metadata": {
        "colab": {
          "base_uri": "https://localhost:8080/",
          "height": 74
        },
        "id": "jNa6BlmV9xpH",
        "outputId": "18ab200d-adeb-4596-f1d0-fa079cbbbb16"
      },
      "execution_count": 2,
      "outputs": [
        {
          "output_type": "display_data",
          "data": {
            "text/plain": [
              "<IPython.core.display.HTML object>"
            ],
            "text/html": [
              "\n",
              "     <input type=\"file\" id=\"files-6abf3251-d7d9-42a0-94e5-37d8eaeb505e\" name=\"files[]\" multiple disabled\n",
              "        style=\"border:none\" />\n",
              "     <output id=\"result-6abf3251-d7d9-42a0-94e5-37d8eaeb505e\">\n",
              "      Upload widget is only available when the cell has been executed in the\n",
              "      current browser session. Please rerun this cell to enable.\n",
              "      </output>\n",
              "      <script>// Copyright 2017 Google LLC\n",
              "//\n",
              "// Licensed under the Apache License, Version 2.0 (the \"License\");\n",
              "// you may not use this file except in compliance with the License.\n",
              "// You may obtain a copy of the License at\n",
              "//\n",
              "//      http://www.apache.org/licenses/LICENSE-2.0\n",
              "//\n",
              "// Unless required by applicable law or agreed to in writing, software\n",
              "// distributed under the License is distributed on an \"AS IS\" BASIS,\n",
              "// WITHOUT WARRANTIES OR CONDITIONS OF ANY KIND, either express or implied.\n",
              "// See the License for the specific language governing permissions and\n",
              "// limitations under the License.\n",
              "\n",
              "/**\n",
              " * @fileoverview Helpers for google.colab Python module.\n",
              " */\n",
              "(function(scope) {\n",
              "function span(text, styleAttributes = {}) {\n",
              "  const element = document.createElement('span');\n",
              "  element.textContent = text;\n",
              "  for (const key of Object.keys(styleAttributes)) {\n",
              "    element.style[key] = styleAttributes[key];\n",
              "  }\n",
              "  return element;\n",
              "}\n",
              "\n",
              "// Max number of bytes which will be uploaded at a time.\n",
              "const MAX_PAYLOAD_SIZE = 100 * 1024;\n",
              "\n",
              "function _uploadFiles(inputId, outputId) {\n",
              "  const steps = uploadFilesStep(inputId, outputId);\n",
              "  const outputElement = document.getElementById(outputId);\n",
              "  // Cache steps on the outputElement to make it available for the next call\n",
              "  // to uploadFilesContinue from Python.\n",
              "  outputElement.steps = steps;\n",
              "\n",
              "  return _uploadFilesContinue(outputId);\n",
              "}\n",
              "\n",
              "// This is roughly an async generator (not supported in the browser yet),\n",
              "// where there are multiple asynchronous steps and the Python side is going\n",
              "// to poll for completion of each step.\n",
              "// This uses a Promise to block the python side on completion of each step,\n",
              "// then passes the result of the previous step as the input to the next step.\n",
              "function _uploadFilesContinue(outputId) {\n",
              "  const outputElement = document.getElementById(outputId);\n",
              "  const steps = outputElement.steps;\n",
              "\n",
              "  const next = steps.next(outputElement.lastPromiseValue);\n",
              "  return Promise.resolve(next.value.promise).then((value) => {\n",
              "    // Cache the last promise value to make it available to the next\n",
              "    // step of the generator.\n",
              "    outputElement.lastPromiseValue = value;\n",
              "    return next.value.response;\n",
              "  });\n",
              "}\n",
              "\n",
              "/**\n",
              " * Generator function which is called between each async step of the upload\n",
              " * process.\n",
              " * @param {string} inputId Element ID of the input file picker element.\n",
              " * @param {string} outputId Element ID of the output display.\n",
              " * @return {!Iterable<!Object>} Iterable of next steps.\n",
              " */\n",
              "function* uploadFilesStep(inputId, outputId) {\n",
              "  const inputElement = document.getElementById(inputId);\n",
              "  inputElement.disabled = false;\n",
              "\n",
              "  const outputElement = document.getElementById(outputId);\n",
              "  outputElement.innerHTML = '';\n",
              "\n",
              "  const pickedPromise = new Promise((resolve) => {\n",
              "    inputElement.addEventListener('change', (e) => {\n",
              "      resolve(e.target.files);\n",
              "    });\n",
              "  });\n",
              "\n",
              "  const cancel = document.createElement('button');\n",
              "  inputElement.parentElement.appendChild(cancel);\n",
              "  cancel.textContent = 'Cancel upload';\n",
              "  const cancelPromise = new Promise((resolve) => {\n",
              "    cancel.onclick = () => {\n",
              "      resolve(null);\n",
              "    };\n",
              "  });\n",
              "\n",
              "  // Wait for the user to pick the files.\n",
              "  const files = yield {\n",
              "    promise: Promise.race([pickedPromise, cancelPromise]),\n",
              "    response: {\n",
              "      action: 'starting',\n",
              "    }\n",
              "  };\n",
              "\n",
              "  cancel.remove();\n",
              "\n",
              "  // Disable the input element since further picks are not allowed.\n",
              "  inputElement.disabled = true;\n",
              "\n",
              "  if (!files) {\n",
              "    return {\n",
              "      response: {\n",
              "        action: 'complete',\n",
              "      }\n",
              "    };\n",
              "  }\n",
              "\n",
              "  for (const file of files) {\n",
              "    const li = document.createElement('li');\n",
              "    li.append(span(file.name, {fontWeight: 'bold'}));\n",
              "    li.append(span(\n",
              "        `(${file.type || 'n/a'}) - ${file.size} bytes, ` +\n",
              "        `last modified: ${\n",
              "            file.lastModifiedDate ? file.lastModifiedDate.toLocaleDateString() :\n",
              "                                    'n/a'} - `));\n",
              "    const percent = span('0% done');\n",
              "    li.appendChild(percent);\n",
              "\n",
              "    outputElement.appendChild(li);\n",
              "\n",
              "    const fileDataPromise = new Promise((resolve) => {\n",
              "      const reader = new FileReader();\n",
              "      reader.onload = (e) => {\n",
              "        resolve(e.target.result);\n",
              "      };\n",
              "      reader.readAsArrayBuffer(file);\n",
              "    });\n",
              "    // Wait for the data to be ready.\n",
              "    let fileData = yield {\n",
              "      promise: fileDataPromise,\n",
              "      response: {\n",
              "        action: 'continue',\n",
              "      }\n",
              "    };\n",
              "\n",
              "    // Use a chunked sending to avoid message size limits. See b/62115660.\n",
              "    let position = 0;\n",
              "    do {\n",
              "      const length = Math.min(fileData.byteLength - position, MAX_PAYLOAD_SIZE);\n",
              "      const chunk = new Uint8Array(fileData, position, length);\n",
              "      position += length;\n",
              "\n",
              "      const base64 = btoa(String.fromCharCode.apply(null, chunk));\n",
              "      yield {\n",
              "        response: {\n",
              "          action: 'append',\n",
              "          file: file.name,\n",
              "          data: base64,\n",
              "        },\n",
              "      };\n",
              "\n",
              "      let percentDone = fileData.byteLength === 0 ?\n",
              "          100 :\n",
              "          Math.round((position / fileData.byteLength) * 100);\n",
              "      percent.textContent = `${percentDone}% done`;\n",
              "\n",
              "    } while (position < fileData.byteLength);\n",
              "  }\n",
              "\n",
              "  // All done.\n",
              "  yield {\n",
              "    response: {\n",
              "      action: 'complete',\n",
              "    }\n",
              "  };\n",
              "}\n",
              "\n",
              "scope.google = scope.google || {};\n",
              "scope.google.colab = scope.google.colab || {};\n",
              "scope.google.colab._files = {\n",
              "  _uploadFiles,\n",
              "  _uploadFilesContinue,\n",
              "};\n",
              "})(self);\n",
              "</script> "
            ]
          },
          "metadata": {}
        },
        {
          "output_type": "stream",
          "name": "stdout",
          "text": [
            "Saving listings_MEX.csv to listings_MEX.csv\n"
          ]
        }
      ]
    },
    {
      "cell_type": "code",
      "source": [
        "df = pd.read_csv('listings_MEX.csv')\n",
        "df.head()"
      ],
      "metadata": {
        "id": "HFfBELwc92m2"
      },
      "execution_count": null,
      "outputs": []
    },
    {
      "cell_type": "code",
      "source": [
        "df.dtypes"
      ],
      "metadata": {
        "id": "0PLNgwTzrcjS"
      },
      "execution_count": null,
      "outputs": []
    },
    {
      "cell_type": "markdown",
      "source": [
        "#Filtrado"
      ],
      "metadata": {
        "id": "Pm91cniY8TnQ"
      }
    },
    {
      "cell_type": "code",
      "source": [
        "df = df[['host_acceptance_rate', 'review_scores_rating', 'price', 'review_scores_cleanliness', 'availability_365', 'review_scores_communication', 'room_type', 'number_of_reviews']]\n",
        "df"
      ],
      "metadata": {
        "id": "vZBM61N3a1n_"
      },
      "execution_count": null,
      "outputs": []
    },
    {
      "cell_type": "code",
      "source": [
        "df[\"host_acceptance_rate\"] = df[\"host_acceptance_rate\"].str.replace(\"%\",\"\")\n",
        "df[\"price\"] = df[\"price\"].str.replace(\"$\",\"\")\n",
        "df[\"price\"] = df[\"price\"].str.replace(\",\",\"\")\n",
        "df"
      ],
      "metadata": {
        "id": "HXsb1baCbKbO"
      },
      "execution_count": null,
      "outputs": []
    },
    {
      "cell_type": "code",
      "source": [
        "df['host_acceptance_rate']=df['host_acceptance_rate'].astype({'host_acceptance_rate': 'float64'})\n",
        "df['price']=df['price'].astype({'price': 'float64'})\n",
        "df['availability_365']=df['availability_365'].astype({'availability_365': 'float64'})\n",
        "df['number_of_reviews']=df['number_of_reviews'].astype({'number_of_reviews': 'float64'})"
      ],
      "metadata": {
        "id": "6vqBHsTRblo2"
      },
      "execution_count": null,
      "outputs": []
    },
    {
      "cell_type": "code",
      "source": [
        "df['room_type'].unique()"
      ],
      "metadata": {
        "id": "lJbpt7vR-XQK"
      },
      "execution_count": null,
      "outputs": []
    },
    {
      "cell_type": "code",
      "source": [
        "EntireHome=df[df['room_type']=='Entire home/apt']\n",
        "EntireHome.head()"
      ],
      "metadata": {
        "id": "y2kbcmaySP1D"
      },
      "execution_count": null,
      "outputs": []
    },
    {
      "cell_type": "code",
      "source": [
        "PrivateRoom=df[df['room_type']=='Private room']\n",
        "PrivateRoom.head()"
      ],
      "metadata": {
        "id": "3FtiY6bp_51i"
      },
      "execution_count": null,
      "outputs": []
    },
    {
      "cell_type": "code",
      "source": [
        "SharedRoom=df[df['room_type']=='Shared room']\n",
        "SharedRoom.head()"
      ],
      "metadata": {
        "id": "1flxC94TADnW"
      },
      "execution_count": null,
      "outputs": []
    },
    {
      "cell_type": "markdown",
      "source": [
        "#Limpieza de Base de datos"
      ],
      "metadata": {
        "id": "GxgN2FuTBanR"
      }
    },
    {
      "cell_type": "markdown",
      "source": [
        "##Entire Home"
      ],
      "metadata": {
        "id": "qzFUKBeUbUDN"
      }
    },
    {
      "cell_type": "code",
      "source": [
        "#Remplazar datos nulos con promedios\n",
        "from numpy import nan as NaN\n",
        "EntireHome=EntireHome.fillna({'host_acceptance_rate':float(EntireHome['host_acceptance_rate'].mean())})\n",
        "EntireHome=EntireHome.fillna({'review_scores_rating':float(EntireHome['review_scores_rating'].mean())})\n",
        "EntireHome=EntireHome.fillna({'review_scores_cleanliness':float(EntireHome['review_scores_cleanliness'].mean())})\n",
        "EntireHome=EntireHome.fillna({'review_scores_communication':float(EntireHome['review_scores_communication'].mean())})\n",
        "\n",
        "EntireHome"
      ],
      "metadata": {
        "id": "_eAX5mO9bS51"
      },
      "execution_count": null,
      "outputs": []
    },
    {
      "cell_type": "code",
      "source": [
        "#Eliminación de outliers\n",
        "y=EntireHome\n",
        "\n",
        "percentile25=y.quantile(0.25) #Q1\n",
        "percentile75=y.quantile(0.75) #Q3\n",
        "iqr= percentile75 - percentile25\n",
        "\n",
        "Limite_Superior_iqr= percentile75 + 1.5*iqr\n",
        "Limite_Inferior_iqr= percentile25 - 1.5*iqr\n",
        "print(\"Limite superior permitido\", Limite_Superior_iqr)\n",
        "print(\"Limite inferior permitido\", Limite_Inferior_iqr)\n",
        "\n",
        "df3= df[(y<=Limite_Superior_iqr)&(y>=Limite_Inferior_iqr)]\n",
        "df3"
      ],
      "metadata": {
        "id": "fDcAolhpFUOr"
      },
      "execution_count": null,
      "outputs": []
    },
    {
      "cell_type": "code",
      "source": [
        "#Llenar los outliers con el promedio\n",
        "EntireHome=df3.fillna(round(df3.mean(),1))\n",
        "EntireHome"
      ],
      "metadata": {
        "id": "0HJ0YKUYcHqW"
      },
      "execution_count": null,
      "outputs": []
    },
    {
      "cell_type": "code",
      "source": [
        "print(len(EntireHome)-EntireHome.count())"
      ],
      "metadata": {
        "id": "fzfTzHR4P_gs"
      },
      "execution_count": null,
      "outputs": []
    },
    {
      "cell_type": "markdown",
      "source": [
        "##PrivateRoom"
      ],
      "metadata": {
        "id": "kG4sIgcvcuvg"
      }
    },
    {
      "cell_type": "code",
      "source": [
        "#Remplazar datos nulos con promedios\n",
        "from numpy import nan as NaN\n",
        "PrivateRoom=PrivateRoom.fillna({'host_acceptance_rate':float(PrivateRoom['host_acceptance_rate'].mean())})\n",
        "PrivateRoom=PrivateRoom.fillna({'review_scores_rating':float(PrivateRoom['review_scores_rating'].mean())})\n",
        "PrivateRoom=PrivateRoom.fillna({'review_scores_cleanliness':float(PrivateRoom['review_scores_cleanliness'].mean())})\n",
        "PrivateRoom=PrivateRoom.fillna({'review_scores_communication':float(PrivateRoom['review_scores_communication'].mean())})\n",
        "\n",
        "PrivateRoom"
      ],
      "metadata": {
        "id": "VYhIvRCncuvh"
      },
      "execution_count": null,
      "outputs": []
    },
    {
      "cell_type": "code",
      "source": [
        "#Eliminación de outliers\n",
        "y=PrivateRoom\n",
        "\n",
        "percentile25=y.quantile(0.25) #Q1\n",
        "percentile75=y.quantile(0.75) #Q3\n",
        "iqr= percentile75 - percentile25\n",
        "\n",
        "Limite_Superior_iqr= percentile75 + 1.5*iqr\n",
        "Limite_Inferior_iqr= percentile25 - 1.5*iqr\n",
        "print(\"Limite superior permitido\", Limite_Superior_iqr)\n",
        "print(\"Limite inferior permitido\", Limite_Inferior_iqr)\n",
        "\n",
        "df3= df[(y<=Limite_Superior_iqr)&(y>=Limite_Inferior_iqr)]\n",
        "df3"
      ],
      "metadata": {
        "id": "bLhSIRDvcuvi"
      },
      "execution_count": null,
      "outputs": []
    },
    {
      "cell_type": "code",
      "source": [
        "#Llenar los outliers con el promedio\n",
        "PrivateRoom=df3.fillna(round(df3.mean(),1))\n",
        "PrivateRoom"
      ],
      "metadata": {
        "id": "hjw_fn9bcuvj"
      },
      "execution_count": null,
      "outputs": []
    },
    {
      "cell_type": "code",
      "source": [
        "print(len(PrivateRoom)-PrivateRoom.count())"
      ],
      "metadata": {
        "id": "BjWlMqJ9dCc_"
      },
      "execution_count": null,
      "outputs": []
    },
    {
      "cell_type": "markdown",
      "source": [
        "##SharedRoom"
      ],
      "metadata": {
        "id": "5NlAUJMwdaIv"
      }
    },
    {
      "cell_type": "code",
      "source": [
        "#Remplazar datos nulos con promedios\n",
        "from numpy import nan as NaN\n",
        "SharedRoom=SharedRoom.fillna({'host_acceptance_rate':float(SharedRoom['host_acceptance_rate'].mean())})\n",
        "SharedRoom=SharedRoom.fillna({'review_scores_rating':float(SharedRoom['review_scores_rating'].mean())})\n",
        "SharedRoom=SharedRoom.fillna({'review_scores_cleanliness':float(SharedRoom['review_scores_cleanliness'].mean())})\n",
        "SharedRoom=SharedRoom.fillna({'review_scores_communication':float(SharedRoom['review_scores_communication'].mean())})\n",
        "\n",
        "SharedRoom"
      ],
      "metadata": {
        "id": "YLTZqqbddaIw"
      },
      "execution_count": null,
      "outputs": []
    },
    {
      "cell_type": "code",
      "source": [
        "#Eliminación de outliers\n",
        "y=SharedRoom\n",
        "\n",
        "percentile25=y.quantile(0.25) #Q1\n",
        "percentile75=y.quantile(0.75) #Q3\n",
        "iqr= percentile75 - percentile25\n",
        "\n",
        "Limite_Superior_iqr= percentile75 + 1.5*iqr\n",
        "Limite_Inferior_iqr= percentile25 - 1.5*iqr\n",
        "print(\"Limite superior permitido\", Limite_Superior_iqr)\n",
        "print(\"Limite inferior permitido\", Limite_Inferior_iqr)\n",
        "\n",
        "df3= df[(y<=Limite_Superior_iqr)&(y>=Limite_Inferior_iqr)]\n",
        "df3"
      ],
      "metadata": {
        "id": "TSmF6MYYdaIx"
      },
      "execution_count": null,
      "outputs": []
    },
    {
      "cell_type": "code",
      "source": [
        "#Llenar los outliers con el promedio\n",
        "SharedRoom=df3.fillna(round(df3.mean(),1))\n",
        "SharedRoom"
      ],
      "metadata": {
        "id": "dBTTeCOCdaIx"
      },
      "execution_count": null,
      "outputs": []
    },
    {
      "cell_type": "code",
      "source": [
        "print(len(SharedRoom)-SharedRoom.count())"
      ],
      "metadata": {
        "id": "kYKq0xqadaIx"
      },
      "execution_count": null,
      "outputs": []
    },
    {
      "cell_type": "markdown",
      "source": [
        "#Análisis de correlaciones por tipo de cuarto"
      ],
      "metadata": {
        "id": "Nbjb6ZuYA3GX"
      }
    },
    {
      "cell_type": "markdown",
      "source": [
        "##Entire home/apt"
      ],
      "metadata": {
        "id": "ZvdJLpjgA6RP"
      }
    },
    {
      "cell_type": "code",
      "source": [
        "Vars_Dep = EntireHome['number_of_reviews']\n",
        "Vars_Indep1 = EntireHome[['host_acceptance_rate']]\n",
        "Vars_Indep2 = EntireHome[['review_scores_rating']]\n",
        "Vars_Indep3 = EntireHome[['price']]\n",
        "Vars_Indep4 = EntireHome[['review_scores_cleanliness']]\n",
        "Vars_Indep5 = EntireHome[['availability_365']]\n",
        "Vars_Indep6 = EntireHome[['review_scores_communication']]\n",
        "from sklearn.linear_model import LinearRegression"
      ],
      "metadata": {
        "id": "3cY3ACGoBsS2"
      },
      "execution_count": null,
      "outputs": []
    },
    {
      "cell_type": "code",
      "source": [
        "#Gráficas de correlaciones \n",
        "column_sels=['host_acceptance_rate','review_scores_rating', 'price', 'review_scores_cleanliness', 'availability_365','review_scores_communication']\n",
        "x=EntireHome.loc[:,column_sels]#variables explicativas\n",
        "\n",
        "y=EntireHome['number_of_reviews']#target, variable dependiente\n",
        "\n",
        "fig, axs=plt.subplots(ncols=3,nrows=2,figsize=(16,8))\n",
        "\n",
        "#index=0\n",
        "\n",
        "axs=axs.flatten()\n",
        "for i, k in enumerate(column_sels):\n",
        "  sns.regplot(x=x[k],y=y,data=EntireHome,ax=axs[i])\n",
        "  plt.tight_layout(pad=0.4)"
      ],
      "metadata": {
        "id": "ljqwzbRAMEfT"
      },
      "execution_count": null,
      "outputs": []
    },
    {
      "cell_type": "code",
      "source": [
        "model1 = LinearRegression()\n",
        "model2 = LinearRegression()\n",
        "model3 = LinearRegression()\n",
        "model4 = LinearRegression()\n",
        "model5 = LinearRegression()\n",
        "model6 = LinearRegression()"
      ],
      "metadata": {
        "id": "ypHRnIvwFij8"
      },
      "execution_count": null,
      "outputs": []
    },
    {
      "cell_type": "code",
      "source": [
        "# Correlación de number_of_reviews vs host_acceptance_rate \n",
        "\n",
        "model1.fit(X = Vars_Indep1, y = Vars_Dep)\n",
        "model1.__dict__\n",
        "model1.score(Vars_Indep1, Vars_Dep)"
      ],
      "metadata": {
        "id": "J-R3RcngFwGA"
      },
      "execution_count": null,
      "outputs": []
    },
    {
      "cell_type": "code",
      "source": [
        "# Correlación de number_of_reviews vs review_scores_rating \n",
        "\n",
        "model2.fit(X = Vars_Indep2, y = Vars_Dep)\n",
        "model2.__dict__\n",
        "model2.score(Vars_Indep2, Vars_Dep)"
      ],
      "metadata": {
        "id": "gKL8VbA7E8hH"
      },
      "execution_count": null,
      "outputs": []
    },
    {
      "cell_type": "code",
      "source": [
        "# Correlación de number_of_reviews vs price \n",
        "\n",
        "model3.fit(X = Vars_Indep3, y = Vars_Dep)\n",
        "model3.__dict__\n",
        "model3.score(Vars_Indep3, Vars_Dep)"
      ],
      "metadata": {
        "id": "ltAeSqyXe7CW"
      },
      "execution_count": null,
      "outputs": []
    },
    {
      "cell_type": "code",
      "source": [
        "# Correlación de number_of_reviews vs review_scores_cleanliness \n",
        "\n",
        "model4.fit(X = Vars_Indep4, y = Vars_Dep)\n",
        "model4.__dict__\n",
        "model4.score(Vars_Indep4, Vars_Dep)"
      ],
      "metadata": {
        "id": "iuWtFuB4e7nh"
      },
      "execution_count": null,
      "outputs": []
    },
    {
      "cell_type": "code",
      "source": [
        "# Correlación de number_of_reviews vs availability_365\n",
        "\n",
        "model5.fit(X = Vars_Indep5, y = Vars_Dep)\n",
        "model5.__dict__\n",
        "model5.score(Vars_Indep5, Vars_Dep)"
      ],
      "metadata": {
        "id": "RRk94-ple75r"
      },
      "execution_count": null,
      "outputs": []
    },
    {
      "cell_type": "code",
      "source": [
        "# Correlación de number_of_reviews vs review_scores_communication\n",
        "\n",
        "model6.fit(X = Vars_Indep6, y = Vars_Dep)\n",
        "model6.__dict__\n",
        "model6.score(Vars_Indep6, Vars_Dep)"
      ],
      "metadata": {
        "id": "9VLyueiNe8PK"
      },
      "execution_count": null,
      "outputs": []
    },
    {
      "cell_type": "markdown",
      "source": [
        "## Private room"
      ],
      "metadata": {
        "id": "ek_TZRcY04pb"
      }
    },
    {
      "cell_type": "code",
      "source": [
        "Vars_Dep = PrivateRoom['number_of_reviews']\n",
        "Vars_Indep1 = PrivateRoom[['host_acceptance_rate']]\n",
        "Vars_Indep2 = PrivateRoom[['review_scores_rating']]\n",
        "Vars_Indep3 = PrivateRoom[['price']]\n",
        "Vars_Indep4 = PrivateRoom[['review_scores_cleanliness']]\n",
        "Vars_Indep5 = PrivateRoom[['availability_365']]\n",
        "Vars_Indep6 = PrivateRoom[['review_scores_communication']]\n",
        "from sklearn.linear_model import LinearRegression"
      ],
      "metadata": {
        "id": "rc6We6pT080b"
      },
      "execution_count": null,
      "outputs": []
    },
    {
      "cell_type": "code",
      "source": [
        "#Gráficas de correlaciones \n",
        "column_sels=['host_acceptance_rate','review_scores_rating', 'price', 'review_scores_cleanliness', 'availability_365','review_scores_communication']\n",
        "x=PrivateRoom.loc[:,column_sels]#variables explicativas\n",
        "\n",
        "y=PrivateRoom['number_of_reviews']#target, variable dependiente\n",
        "\n",
        "fig, axs=plt.subplots(ncols=3,nrows=2,figsize=(16,8))\n",
        "\n",
        "#index=0\n",
        "\n",
        "axs=axs.flatten()\n",
        "for i, k in enumerate(column_sels):\n",
        "  sns.regplot(x=x[k],y=y,data=PrivateRoom,ax=axs[i])\n",
        "  plt.tight_layout(pad=0.4)"
      ],
      "metadata": {
        "id": "qzPkqaGdMf1d"
      },
      "execution_count": null,
      "outputs": []
    },
    {
      "cell_type": "code",
      "source": [
        "model1 = LinearRegression()\n",
        "model2 = LinearRegression()\n",
        "model3 = LinearRegression()\n",
        "model4 = LinearRegression()\n",
        "model5 = LinearRegression()\n",
        "model6 = LinearRegression()"
      ],
      "metadata": {
        "id": "GMhcvabM080c"
      },
      "execution_count": null,
      "outputs": []
    },
    {
      "cell_type": "code",
      "source": [
        "# Correlación de number_of_reviews vs host_acceptance_rate \n",
        "\n",
        "model1.fit(X = Vars_Indep1, y = Vars_Dep)\n",
        "model1.__dict__\n",
        "model1.score(Vars_Indep1, Vars_Dep)"
      ],
      "metadata": {
        "id": "GAsKBGhD080c"
      },
      "execution_count": null,
      "outputs": []
    },
    {
      "cell_type": "code",
      "source": [
        "# Correlación de number_of_reviews vs review_scores_rating \n",
        "\n",
        "model2.fit(X = Vars_Indep2, y = Vars_Dep)\n",
        "model2.__dict__\n",
        "model2.score(Vars_Indep2, Vars_Dep)"
      ],
      "metadata": {
        "id": "oh1wlrjp080d"
      },
      "execution_count": null,
      "outputs": []
    },
    {
      "cell_type": "code",
      "source": [
        "# Correlación de number_of_reviews vs price \n",
        "\n",
        "model3.fit(X = Vars_Indep3, y = Vars_Dep)\n",
        "model3.__dict__\n",
        "model3.score(Vars_Indep3, Vars_Dep)"
      ],
      "metadata": {
        "id": "ylLEG0IO080e"
      },
      "execution_count": null,
      "outputs": []
    },
    {
      "cell_type": "code",
      "source": [
        "# Correlación de number_of_reviews vs review_scores_cleanliness \n",
        "\n",
        "model4.fit(X = Vars_Indep4, y = Vars_Dep)\n",
        "model4.__dict__\n",
        "model4.score(Vars_Indep4, Vars_Dep)"
      ],
      "metadata": {
        "id": "xOOg_lGe080e"
      },
      "execution_count": null,
      "outputs": []
    },
    {
      "cell_type": "code",
      "source": [
        "# Correlación de number_of_reviews vs availability_365\n",
        "\n",
        "model5.fit(X = Vars_Indep5, y = Vars_Dep)\n",
        "model5.__dict__\n",
        "model5.score(Vars_Indep5, Vars_Dep)"
      ],
      "metadata": {
        "id": "MNZDDjYq080f"
      },
      "execution_count": null,
      "outputs": []
    },
    {
      "cell_type": "code",
      "source": [
        "# Correlación de number_of_reviews vs review_scores_communication\n",
        "\n",
        "model6.fit(X = Vars_Indep6, y = Vars_Dep)\n",
        "model6.__dict__\n",
        "model6.score(Vars_Indep6, Vars_Dep)"
      ],
      "metadata": {
        "id": "u_jtkvwe080g"
      },
      "execution_count": null,
      "outputs": []
    },
    {
      "cell_type": "markdown",
      "source": [
        "## Shared room"
      ],
      "metadata": {
        "id": "1xg7DlYw3_Jo"
      }
    },
    {
      "cell_type": "code",
      "source": [
        "Vars_Dep = SharedRoom['number_of_reviews']\n",
        "Vars_Indep1 = SharedRoom[['host_acceptance_rate']]\n",
        "Vars_Indep2 = SharedRoom[['review_scores_rating']]\n",
        "Vars_Indep3 = SharedRoom[['price']]\n",
        "Vars_Indep4 = SharedRoom[['review_scores_cleanliness']]\n",
        "Vars_Indep5 = SharedRoom[['availability_365']]\n",
        "Vars_Indep6 = SharedRoom[['review_scores_communication']]\n",
        "from sklearn.linear_model import LinearRegression"
      ],
      "metadata": {
        "id": "K3R4x_OV4GlM"
      },
      "execution_count": null,
      "outputs": []
    },
    {
      "cell_type": "code",
      "source": [
        "column_sels=['host_acceptance_rate','review_scores_rating', 'price', 'review_scores_cleanliness', 'availability_365','review_scores_communication']\n",
        "x=SharedRoom.loc[:,column_sels]#variables explicativas\n",
        "\n",
        "y=SharedRoom['number_of_reviews']#target, variable dependiente\n",
        "\n",
        "fig, axs=plt.subplots(ncols=3,nrows=2,figsize=(16,8))\n",
        "\n",
        "#index=0\n",
        "\n",
        "axs=axs.flatten()\n",
        "for i, k in enumerate(column_sels):\n",
        "  sns.regplot(x=x[k],y=y,data=SharedRoom,ax=axs[i])\n",
        "  plt.tight_layout(pad=0.4)"
      ],
      "metadata": {
        "id": "P9RYvpDKMw_S"
      },
      "execution_count": null,
      "outputs": []
    },
    {
      "cell_type": "code",
      "source": [
        "model1 = LinearRegression()\n",
        "model2 = LinearRegression()\n",
        "model3 = LinearRegression()\n",
        "model4 = LinearRegression()\n",
        "model5 = LinearRegression()\n",
        "model6 = LinearRegression()"
      ],
      "metadata": {
        "id": "8EJJ-5YK4GlM"
      },
      "execution_count": null,
      "outputs": []
    },
    {
      "cell_type": "code",
      "source": [
        "# Correlación de number_of_reviews vs host_acceptance_rate \n",
        "\n",
        "model1.fit(X = Vars_Indep1, y = Vars_Dep)\n",
        "model1.__dict__\n",
        "model1.score(Vars_Indep1, Vars_Dep)"
      ],
      "metadata": {
        "id": "q4bkiW0X4GlM"
      },
      "execution_count": null,
      "outputs": []
    },
    {
      "cell_type": "code",
      "source": [
        "# Correlación de number_of_reviews vs review_scores_rating \n",
        "\n",
        "model2.fit(X = Vars_Indep2, y = Vars_Dep)\n",
        "model2.__dict__\n",
        "model2.score(Vars_Indep2, Vars_Dep)"
      ],
      "metadata": {
        "id": "HRQzEjsb4GlM"
      },
      "execution_count": null,
      "outputs": []
    },
    {
      "cell_type": "code",
      "source": [
        "# Correlación de number_of_reviews vs price \n",
        "\n",
        "model3.fit(X = Vars_Indep3, y = Vars_Dep)\n",
        "model3.__dict__\n",
        "model3.score(Vars_Indep3, Vars_Dep)"
      ],
      "metadata": {
        "id": "bGyt5gja4GlN"
      },
      "execution_count": null,
      "outputs": []
    },
    {
      "cell_type": "code",
      "source": [
        "# Correlación de number_of_reviews vs review_scores_cleanliness \n",
        "\n",
        "model4.fit(X = Vars_Indep4, y = Vars_Dep)\n",
        "model4.__dict__\n",
        "model4.score(Vars_Indep4, Vars_Dep)"
      ],
      "metadata": {
        "id": "Vucz_xBM4GlN"
      },
      "execution_count": null,
      "outputs": []
    },
    {
      "cell_type": "code",
      "source": [
        "# Correlación de number_of_reviews vs availability_365\n",
        "\n",
        "model5.fit(X = Vars_Indep5, y = Vars_Dep)\n",
        "model5.__dict__\n",
        "model5.score(Vars_Indep5, Vars_Dep)"
      ],
      "metadata": {
        "id": "Trvlp5kE4GlN"
      },
      "execution_count": null,
      "outputs": []
    },
    {
      "cell_type": "code",
      "source": [
        "# Correlación de number_of_reviews vs review_scores_communication\n",
        "\n",
        "model6.fit(X = Vars_Indep6, y = Vars_Dep)\n",
        "model6.__dict__\n",
        "model6.score(Vars_Indep6, Vars_Dep)"
      ],
      "metadata": {
        "id": "7qbfN5UD4GlN"
      },
      "execution_count": null,
      "outputs": []
    },
    {
      "cell_type": "markdown",
      "source": [
        "#Creación del modelo predictivo"
      ],
      "metadata": {
        "id": "aZEF8vCMvgaK"
      }
    },
    {
      "cell_type": "code",
      "source": [
        "from sklearn.linear_model import LinearRegression"
      ],
      "metadata": {
        "id": "g7-P1rgnv1Wv"
      },
      "execution_count": null,
      "outputs": []
    },
    {
      "cell_type": "markdown",
      "source": [
        "##Entire home/apt"
      ],
      "metadata": {
        "id": "7B8sE0Uxvuce"
      }
    },
    {
      "cell_type": "code",
      "source": [
        "#Declaramos las variables dependientes e independientes para la regresión lineal\n",
        "Vars_IndepEntHom = EntireHome[['host_acceptance_rate']]\n",
        "Var_DepEntHom = EntireHome['number_of_reviews']\n",
        "#Se define model como la función de regresión lineal\n",
        "modelEntHom= LinearRegression()\n",
        "modelEntHom.fit(X=Vars_IndepEntHom, y=Var_DepEntHom)\n",
        "y_predEntHom=modelEntHom.predict(X=EntireHome[['number_of_reviews']])\n",
        "EntireHome.insert(0,'Predicciones_EntireHome',y_predEntHom)\n",
        "EntireHome"
      ],
      "metadata": {
        "colab": {
          "base_uri": "https://localhost:8080/",
          "height": 609
        },
        "id": "WZ-0edYxwhdh",
        "outputId": "eafa11d4-9d13-46ca-da23-fe6ee8e4c9a2"
      },
      "execution_count": 67,
      "outputs": [
        {
          "output_type": "stream",
          "name": "stderr",
          "text": [
            "/usr/local/lib/python3.7/dist-packages/sklearn/base.py:493: FutureWarning: The feature names should match those that were passed during fit. Starting version 1.2, an error will be raised.\n",
            "Feature names unseen at fit time:\n",
            "- number_of_reviews\n",
            "Feature names seen at fit time, yet now missing:\n",
            "- host_acceptance_rate\n",
            "\n",
            "  warnings.warn(message, FutureWarning)\n"
          ]
        },
        {
          "output_type": "execute_result",
          "data": {
            "text/plain": [
              "       Predicciones_EntireHome  host_acceptance_rate  review_scores_rating  \\\n",
              "0                    -1.438380                  98.2                  4.80   \n",
              "1                     4.523763                  98.2                  4.80   \n",
              "2                     4.523763                  98.2                  4.80   \n",
              "3                    13.276698                  98.2                  4.59   \n",
              "4                    14.037822                 100.0                  4.85   \n",
              "...                        ...                   ...                   ...   \n",
              "22943                 4.523763                  98.2                  4.80   \n",
              "22944                 4.523763                  98.2                  4.80   \n",
              "22945                 5.665450                 100.0                  4.89   \n",
              "22946                16.828613                  99.0                  4.44   \n",
              "22947                 8.709949                  99.0                  4.75   \n",
              "\n",
              "        price  review_scores_cleanliness  availability_365  \\\n",
              "0      1252.7                       4.90             363.0   \n",
              "1      1252.7                       4.90             237.6   \n",
              "2      1252.7                       4.90             237.6   \n",
              "3      1252.7                       4.70             331.0   \n",
              "4       740.0                       4.80             314.0   \n",
              "...       ...                        ...               ...   \n",
              "22943  1252.7                       4.90             237.6   \n",
              "22944  1252.7                       4.90             237.6   \n",
              "22945  1252.7                       4.96             348.0   \n",
              "22946  1100.0                       4.64             361.0   \n",
              "22947   959.0                       4.80             352.0   \n",
              "\n",
              "       review_scores_communication  room_type  number_of_reviews  \n",
              "0                             4.90        NaN                0.0  \n",
              "1                             4.90        NaN               23.5  \n",
              "2                             4.90        NaN               23.5  \n",
              "3                             4.75        NaN               58.0  \n",
              "4                             4.95        NaN               61.0  \n",
              "...                            ...        ...                ...  \n",
              "22943                         4.90        NaN               23.5  \n",
              "22944                         4.90        NaN               23.5  \n",
              "22945                         4.93        NaN               28.0  \n",
              "22946                         4.90        NaN               72.0  \n",
              "22947                         4.90        NaN               40.0  \n",
              "\n",
              "[22948 rows x 9 columns]"
            ],
            "text/html": [
              "\n",
              "  <div id=\"df-e31fc050-4f71-4278-a9c5-4d0a5c06ff1a\">\n",
              "    <div class=\"colab-df-container\">\n",
              "      <div>\n",
              "<style scoped>\n",
              "    .dataframe tbody tr th:only-of-type {\n",
              "        vertical-align: middle;\n",
              "    }\n",
              "\n",
              "    .dataframe tbody tr th {\n",
              "        vertical-align: top;\n",
              "    }\n",
              "\n",
              "    .dataframe thead th {\n",
              "        text-align: right;\n",
              "    }\n",
              "</style>\n",
              "<table border=\"1\" class=\"dataframe\">\n",
              "  <thead>\n",
              "    <tr style=\"text-align: right;\">\n",
              "      <th></th>\n",
              "      <th>Predicciones_EntireHome</th>\n",
              "      <th>host_acceptance_rate</th>\n",
              "      <th>review_scores_rating</th>\n",
              "      <th>price</th>\n",
              "      <th>review_scores_cleanliness</th>\n",
              "      <th>availability_365</th>\n",
              "      <th>review_scores_communication</th>\n",
              "      <th>room_type</th>\n",
              "      <th>number_of_reviews</th>\n",
              "    </tr>\n",
              "  </thead>\n",
              "  <tbody>\n",
              "    <tr>\n",
              "      <th>0</th>\n",
              "      <td>-1.438380</td>\n",
              "      <td>98.2</td>\n",
              "      <td>4.80</td>\n",
              "      <td>1252.7</td>\n",
              "      <td>4.90</td>\n",
              "      <td>363.0</td>\n",
              "      <td>4.90</td>\n",
              "      <td>NaN</td>\n",
              "      <td>0.0</td>\n",
              "    </tr>\n",
              "    <tr>\n",
              "      <th>1</th>\n",
              "      <td>4.523763</td>\n",
              "      <td>98.2</td>\n",
              "      <td>4.80</td>\n",
              "      <td>1252.7</td>\n",
              "      <td>4.90</td>\n",
              "      <td>237.6</td>\n",
              "      <td>4.90</td>\n",
              "      <td>NaN</td>\n",
              "      <td>23.5</td>\n",
              "    </tr>\n",
              "    <tr>\n",
              "      <th>2</th>\n",
              "      <td>4.523763</td>\n",
              "      <td>98.2</td>\n",
              "      <td>4.80</td>\n",
              "      <td>1252.7</td>\n",
              "      <td>4.90</td>\n",
              "      <td>237.6</td>\n",
              "      <td>4.90</td>\n",
              "      <td>NaN</td>\n",
              "      <td>23.5</td>\n",
              "    </tr>\n",
              "    <tr>\n",
              "      <th>3</th>\n",
              "      <td>13.276698</td>\n",
              "      <td>98.2</td>\n",
              "      <td>4.59</td>\n",
              "      <td>1252.7</td>\n",
              "      <td>4.70</td>\n",
              "      <td>331.0</td>\n",
              "      <td>4.75</td>\n",
              "      <td>NaN</td>\n",
              "      <td>58.0</td>\n",
              "    </tr>\n",
              "    <tr>\n",
              "      <th>4</th>\n",
              "      <td>14.037822</td>\n",
              "      <td>100.0</td>\n",
              "      <td>4.85</td>\n",
              "      <td>740.0</td>\n",
              "      <td>4.80</td>\n",
              "      <td>314.0</td>\n",
              "      <td>4.95</td>\n",
              "      <td>NaN</td>\n",
              "      <td>61.0</td>\n",
              "    </tr>\n",
              "    <tr>\n",
              "      <th>...</th>\n",
              "      <td>...</td>\n",
              "      <td>...</td>\n",
              "      <td>...</td>\n",
              "      <td>...</td>\n",
              "      <td>...</td>\n",
              "      <td>...</td>\n",
              "      <td>...</td>\n",
              "      <td>...</td>\n",
              "      <td>...</td>\n",
              "    </tr>\n",
              "    <tr>\n",
              "      <th>22943</th>\n",
              "      <td>4.523763</td>\n",
              "      <td>98.2</td>\n",
              "      <td>4.80</td>\n",
              "      <td>1252.7</td>\n",
              "      <td>4.90</td>\n",
              "      <td>237.6</td>\n",
              "      <td>4.90</td>\n",
              "      <td>NaN</td>\n",
              "      <td>23.5</td>\n",
              "    </tr>\n",
              "    <tr>\n",
              "      <th>22944</th>\n",
              "      <td>4.523763</td>\n",
              "      <td>98.2</td>\n",
              "      <td>4.80</td>\n",
              "      <td>1252.7</td>\n",
              "      <td>4.90</td>\n",
              "      <td>237.6</td>\n",
              "      <td>4.90</td>\n",
              "      <td>NaN</td>\n",
              "      <td>23.5</td>\n",
              "    </tr>\n",
              "    <tr>\n",
              "      <th>22945</th>\n",
              "      <td>5.665450</td>\n",
              "      <td>100.0</td>\n",
              "      <td>4.89</td>\n",
              "      <td>1252.7</td>\n",
              "      <td>4.96</td>\n",
              "      <td>348.0</td>\n",
              "      <td>4.93</td>\n",
              "      <td>NaN</td>\n",
              "      <td>28.0</td>\n",
              "    </tr>\n",
              "    <tr>\n",
              "      <th>22946</th>\n",
              "      <td>16.828613</td>\n",
              "      <td>99.0</td>\n",
              "      <td>4.44</td>\n",
              "      <td>1100.0</td>\n",
              "      <td>4.64</td>\n",
              "      <td>361.0</td>\n",
              "      <td>4.90</td>\n",
              "      <td>NaN</td>\n",
              "      <td>72.0</td>\n",
              "    </tr>\n",
              "    <tr>\n",
              "      <th>22947</th>\n",
              "      <td>8.709949</td>\n",
              "      <td>99.0</td>\n",
              "      <td>4.75</td>\n",
              "      <td>959.0</td>\n",
              "      <td>4.80</td>\n",
              "      <td>352.0</td>\n",
              "      <td>4.90</td>\n",
              "      <td>NaN</td>\n",
              "      <td>40.0</td>\n",
              "    </tr>\n",
              "  </tbody>\n",
              "</table>\n",
              "<p>22948 rows × 9 columns</p>\n",
              "</div>\n",
              "      <button class=\"colab-df-convert\" onclick=\"convertToInteractive('df-e31fc050-4f71-4278-a9c5-4d0a5c06ff1a')\"\n",
              "              title=\"Convert this dataframe to an interactive table.\"\n",
              "              style=\"display:none;\">\n",
              "        \n",
              "  <svg xmlns=\"http://www.w3.org/2000/svg\" height=\"24px\"viewBox=\"0 0 24 24\"\n",
              "       width=\"24px\">\n",
              "    <path d=\"M0 0h24v24H0V0z\" fill=\"none\"/>\n",
              "    <path d=\"M18.56 5.44l.94 2.06.94-2.06 2.06-.94-2.06-.94-.94-2.06-.94 2.06-2.06.94zm-11 1L8.5 8.5l.94-2.06 2.06-.94-2.06-.94L8.5 2.5l-.94 2.06-2.06.94zm10 10l.94 2.06.94-2.06 2.06-.94-2.06-.94-.94-2.06-.94 2.06-2.06.94z\"/><path d=\"M17.41 7.96l-1.37-1.37c-.4-.4-.92-.59-1.43-.59-.52 0-1.04.2-1.43.59L10.3 9.45l-7.72 7.72c-.78.78-.78 2.05 0 2.83L4 21.41c.39.39.9.59 1.41.59.51 0 1.02-.2 1.41-.59l7.78-7.78 2.81-2.81c.8-.78.8-2.07 0-2.86zM5.41 20L4 18.59l7.72-7.72 1.47 1.35L5.41 20z\"/>\n",
              "  </svg>\n",
              "      </button>\n",
              "      \n",
              "  <style>\n",
              "    .colab-df-container {\n",
              "      display:flex;\n",
              "      flex-wrap:wrap;\n",
              "      gap: 12px;\n",
              "    }\n",
              "\n",
              "    .colab-df-convert {\n",
              "      background-color: #E8F0FE;\n",
              "      border: none;\n",
              "      border-radius: 50%;\n",
              "      cursor: pointer;\n",
              "      display: none;\n",
              "      fill: #1967D2;\n",
              "      height: 32px;\n",
              "      padding: 0 0 0 0;\n",
              "      width: 32px;\n",
              "    }\n",
              "\n",
              "    .colab-df-convert:hover {\n",
              "      background-color: #E2EBFA;\n",
              "      box-shadow: 0px 1px 2px rgba(60, 64, 67, 0.3), 0px 1px 3px 1px rgba(60, 64, 67, 0.15);\n",
              "      fill: #174EA6;\n",
              "    }\n",
              "\n",
              "    [theme=dark] .colab-df-convert {\n",
              "      background-color: #3B4455;\n",
              "      fill: #D2E3FC;\n",
              "    }\n",
              "\n",
              "    [theme=dark] .colab-df-convert:hover {\n",
              "      background-color: #434B5C;\n",
              "      box-shadow: 0px 1px 3px 1px rgba(0, 0, 0, 0.15);\n",
              "      filter: drop-shadow(0px 1px 2px rgba(0, 0, 0, 0.3));\n",
              "      fill: #FFFFFF;\n",
              "    }\n",
              "  </style>\n",
              "\n",
              "      <script>\n",
              "        const buttonEl =\n",
              "          document.querySelector('#df-e31fc050-4f71-4278-a9c5-4d0a5c06ff1a button.colab-df-convert');\n",
              "        buttonEl.style.display =\n",
              "          google.colab.kernel.accessAllowed ? 'block' : 'none';\n",
              "\n",
              "        async function convertToInteractive(key) {\n",
              "          const element = document.querySelector('#df-e31fc050-4f71-4278-a9c5-4d0a5c06ff1a');\n",
              "          const dataTable =\n",
              "            await google.colab.kernel.invokeFunction('convertToInteractive',\n",
              "                                                     [key], {});\n",
              "          if (!dataTable) return;\n",
              "\n",
              "          const docLinkHtml = 'Like what you see? Visit the ' +\n",
              "            '<a target=\"_blank\" href=https://colab.research.google.com/notebooks/data_table.ipynb>data table notebook</a>'\n",
              "            + ' to learn more about interactive tables.';\n",
              "          element.innerHTML = '';\n",
              "          dataTable['output_type'] = 'display_data';\n",
              "          await google.colab.output.renderOutput(dataTable, element);\n",
              "          const docLink = document.createElement('div');\n",
              "          docLink.innerHTML = docLinkHtml;\n",
              "          element.appendChild(docLink);\n",
              "        }\n",
              "      </script>\n",
              "    </div>\n",
              "  </div>\n",
              "  "
            ]
          },
          "metadata": {},
          "execution_count": 67
        }
      ]
    },
    {
      "cell_type": "code",
      "source": [
        "#Corroboramos cual es el coeficiente de Determinación de nuestro modelo\n",
        "coef_DeterEntHom=modelEntHom.score(X=Vars_IndepEntHom, y=Var_DepEntHom)\n",
        "coef_DeterEntHom"
      ],
      "metadata": {
        "colab": {
          "base_uri": "https://localhost:8080/"
        },
        "id": "2kU3vespz3If",
        "outputId": "88a2a992-e8b9-41fe-8e29-e17f991594d5"
      },
      "execution_count": 68,
      "outputs": [
        {
          "output_type": "execute_result",
          "data": {
            "text/plain": [
              "0.0009004309613001027"
            ]
          },
          "metadata": {},
          "execution_count": 68
        }
      ]
    },
    {
      "cell_type": "markdown",
      "source": [
        "##Private room"
      ],
      "metadata": {
        "id": "A1Pnn8X70ifP"
      }
    },
    {
      "cell_type": "code",
      "source": [
        "#Declaramos las variables dependientes e independientes para la regresión lineal\n",
        "Vars_IndepPrivRoom = PrivateRoom[['host_acceptance_rate']]\n",
        "Var_DepPrivRoom = PrivateRoom['number_of_reviews']\n",
        "#Se define model como la función de regresión lineal\n",
        "modelPrivRoom= LinearRegression()\n",
        "modelPrivRoom.fit(X=Vars_IndepPrivRoom, y=Var_DepPrivRoom)\n",
        "y_predPrivRoom=modelPrivRoom.predict(X=PrivateRoom[['number_of_reviews']])\n",
        "PrivateRoom.insert(0,'Predicciones_PrivateRoom',y_predPrivRoom)\n",
        "PrivateRoom"
      ],
      "metadata": {
        "id": "MlbEyLAN0ifY"
      },
      "execution_count": null,
      "outputs": []
    },
    {
      "cell_type": "code",
      "source": [
        "#Corroboramos cual es el coeficiente de Determinación de nuestro modelo\n",
        "coef_DeterPrivRoom=modelPrivRoom.score(X=Vars_IndepPrivRoom, y=Var_DepPrivRoom)\n",
        "coef_DeterPrivRoom"
      ],
      "metadata": {
        "id": "j0IKIsNZ0ifZ"
      },
      "execution_count": null,
      "outputs": []
    },
    {
      "cell_type": "markdown",
      "source": [
        "##Private room"
      ],
      "metadata": {
        "id": "bLfZuo_Q3SYp"
      }
    },
    {
      "cell_type": "code",
      "source": [
        "#Declaramos las variables dependientes e independientes para la regresión lineal\n",
        "Vars_IndepPrivRoom = PrivateRoom[['host_acceptance_rate']]\n",
        "Var_DepPrivRoom = PrivateRoom['number_of_reviews']\n",
        "#Se define model como la función de regresión lineal\n",
        "modelPrivRoom= LinearRegression()\n",
        "modelPrivRoom.fit(X=Vars_IndepPrivRoom, y=Var_DepPrivRoom)\n",
        "y_predPrivRoom=modelPrivRoom.predict(X=PrivateRoom[['number_of_reviews']])\n",
        "PrivateRoom.insert(0,'Predicciones',y_predPrivRoom)\n",
        "PrivateRoom"
      ],
      "metadata": {
        "colab": {
          "base_uri": "https://localhost:8080/",
          "height": 0
        },
        "outputId": "4c76bf1c-2407-4da7-c757-6b9f8be59302",
        "id": "-NOScPd53SYw"
      },
      "execution_count": 69,
      "outputs": [
        {
          "output_type": "stream",
          "name": "stderr",
          "text": [
            "/usr/local/lib/python3.7/dist-packages/sklearn/base.py:493: FutureWarning: The feature names should match those that were passed during fit. Starting version 1.2, an error will be raised.\n",
            "Feature names unseen at fit time:\n",
            "- number_of_reviews\n",
            "Feature names seen at fit time, yet now missing:\n",
            "- host_acceptance_rate\n",
            "\n",
            "  warnings.warn(message, FutureWarning)\n"
          ]
        },
        {
          "output_type": "error",
          "ename": "ValueError",
          "evalue": "ignored",
          "traceback": [
            "\u001b[0;31m---------------------------------------------------------------------------\u001b[0m",
            "\u001b[0;31mValueError\u001b[0m                                Traceback (most recent call last)",
            "\u001b[0;32m<ipython-input-69-d6b0f505b6e2>\u001b[0m in \u001b[0;36m<module>\u001b[0;34m\u001b[0m\n\u001b[1;32m      6\u001b[0m \u001b[0mmodelPrivRoom\u001b[0m\u001b[0;34m.\u001b[0m\u001b[0mfit\u001b[0m\u001b[0;34m(\u001b[0m\u001b[0mX\u001b[0m\u001b[0;34m=\u001b[0m\u001b[0mVars_IndepPrivRoom\u001b[0m\u001b[0;34m,\u001b[0m \u001b[0my\u001b[0m\u001b[0;34m=\u001b[0m\u001b[0mVar_DepPrivRoom\u001b[0m\u001b[0;34m)\u001b[0m\u001b[0;34m\u001b[0m\u001b[0;34m\u001b[0m\u001b[0m\n\u001b[1;32m      7\u001b[0m \u001b[0my_predPrivRoom\u001b[0m\u001b[0;34m=\u001b[0m\u001b[0mmodelPrivRoom\u001b[0m\u001b[0;34m.\u001b[0m\u001b[0mpredict\u001b[0m\u001b[0;34m(\u001b[0m\u001b[0mX\u001b[0m\u001b[0;34m=\u001b[0m\u001b[0mPrivateRoom\u001b[0m\u001b[0;34m[\u001b[0m\u001b[0;34m[\u001b[0m\u001b[0;34m'number_of_reviews'\u001b[0m\u001b[0;34m]\u001b[0m\u001b[0;34m]\u001b[0m\u001b[0;34m)\u001b[0m\u001b[0;34m\u001b[0m\u001b[0;34m\u001b[0m\u001b[0m\n\u001b[0;32m----> 8\u001b[0;31m \u001b[0mPrivateRoom\u001b[0m\u001b[0;34m.\u001b[0m\u001b[0minsert\u001b[0m\u001b[0;34m(\u001b[0m\u001b[0;36m0\u001b[0m\u001b[0;34m,\u001b[0m\u001b[0;34m'Predicciones'\u001b[0m\u001b[0;34m,\u001b[0m\u001b[0my_predPrivRoom\u001b[0m\u001b[0;34m)\u001b[0m\u001b[0;34m\u001b[0m\u001b[0;34m\u001b[0m\u001b[0m\n\u001b[0m\u001b[1;32m      9\u001b[0m \u001b[0mPrivateRoom\u001b[0m\u001b[0;34m\u001b[0m\u001b[0;34m\u001b[0m\u001b[0m\n",
            "\u001b[0;32m/usr/local/lib/python3.7/dist-packages/pandas/core/frame.py\u001b[0m in \u001b[0;36minsert\u001b[0;34m(self, loc, column, value, allow_duplicates)\u001b[0m\n\u001b[1;32m   4412\u001b[0m         \u001b[0;32mif\u001b[0m \u001b[0;32mnot\u001b[0m \u001b[0mallow_duplicates\u001b[0m \u001b[0;32mand\u001b[0m \u001b[0mcolumn\u001b[0m \u001b[0;32min\u001b[0m \u001b[0mself\u001b[0m\u001b[0;34m.\u001b[0m\u001b[0mcolumns\u001b[0m\u001b[0;34m:\u001b[0m\u001b[0;34m\u001b[0m\u001b[0;34m\u001b[0m\u001b[0m\n\u001b[1;32m   4413\u001b[0m             \u001b[0;31m# Should this be a different kind of error??\u001b[0m\u001b[0;34m\u001b[0m\u001b[0;34m\u001b[0m\u001b[0;34m\u001b[0m\u001b[0m\n\u001b[0;32m-> 4414\u001b[0;31m             \u001b[0;32mraise\u001b[0m \u001b[0mValueError\u001b[0m\u001b[0;34m(\u001b[0m\u001b[0;34mf\"cannot insert {column}, already exists\"\u001b[0m\u001b[0;34m)\u001b[0m\u001b[0;34m\u001b[0m\u001b[0;34m\u001b[0m\u001b[0m\n\u001b[0m\u001b[1;32m   4415\u001b[0m         \u001b[0;32mif\u001b[0m \u001b[0;32mnot\u001b[0m \u001b[0misinstance\u001b[0m\u001b[0;34m(\u001b[0m\u001b[0mloc\u001b[0m\u001b[0;34m,\u001b[0m \u001b[0mint\u001b[0m\u001b[0;34m)\u001b[0m\u001b[0;34m:\u001b[0m\u001b[0;34m\u001b[0m\u001b[0;34m\u001b[0m\u001b[0m\n\u001b[1;32m   4416\u001b[0m             \u001b[0;32mraise\u001b[0m \u001b[0mTypeError\u001b[0m\u001b[0;34m(\u001b[0m\u001b[0;34m\"loc must be int\"\u001b[0m\u001b[0;34m)\u001b[0m\u001b[0;34m\u001b[0m\u001b[0;34m\u001b[0m\u001b[0m\n",
            "\u001b[0;31mValueError\u001b[0m: cannot insert Predicciones, already exists"
          ]
        }
      ]
    },
    {
      "cell_type": "code",
      "source": [
        "#Corroboramos cual es el coeficiente de Determinación de nuestro modelo\n",
        "coef_DeterPrivRoom=modelPrivRoom.score(X=Vars_IndepPrivRoom, y=Var_DepPrivRoom)\n",
        "coef_DeterPrivRoom"
      ],
      "metadata": {
        "id": "GldE4Pa43SYw"
      },
      "execution_count": null,
      "outputs": []
    },
    {
      "cell_type": "markdown",
      "source": [
        "## Shared room"
      ],
      "metadata": {
        "id": "f-rrtjrI4dkX"
      }
    },
    {
      "cell_type": "code",
      "source": [
        "#Declaramos las variables dependientes e independientes para la regresión lineal\n",
        "Vars_IndepSharRoom = SharedRoom[['host_acceptance_rate']]\n",
        "Var_DepSharRoom = SharedRoom['number_of_reviews']\n",
        "#Se define model como la función de regresión lineal\n",
        "modelSharRoom = LinearRegression()\n",
        "modelSharRoom.fit(X=Vars_IndepSharRoom, y=Var_DepSharRoom)\n",
        "y_predSharRoom=modelSharRoom.predict(X=SharedRoom[['number_of_reviews']])\n",
        "SharedRoom.insert(0,'Predicciones',y_predSharRoom)\n",
        "SharedRoom"
      ],
      "metadata": {
        "id": "rHLEr5tY4dkX"
      },
      "execution_count": null,
      "outputs": []
    },
    {
      "cell_type": "code",
      "source": [
        "#Corroboramos cual es el coeficiente de Determinación de nuestro modelo\n",
        "coef_DeterSharRoom=modelSharRoom.score(X=Vars_IndepSharRoom, y=Var_DepSharRoom)\n",
        "coef_DeterSharRoom"
      ],
      "metadata": {
        "id": "dttxP_bw4dkX"
      },
      "execution_count": null,
      "outputs": []
    },
    {
      "cell_type": "markdown",
      "source": [
        "# Tablas de correlación y determinación"
      ],
      "metadata": {
        "id": "sCEoay6f6qvq"
      }
    },
    {
      "cell_type": "markdown",
      "source": [
        "##Entire home/apt"
      ],
      "metadata": {
        "id": "Z0jFt2FN6zSL"
      }
    },
    {
      "cell_type": "code",
      "source": [
        "#Tabla de correlación\n",
        "\n",
        "Corr_factoresEntireHome=EntireHome.corr()\n",
        "Corr_factoresEntireHome"
      ],
      "metadata": {
        "colab": {
          "base_uri": "https://localhost:8080/",
          "height": 396
        },
        "id": "UhEeswtn64hl",
        "outputId": "b4c8b169-e2a5-4a60-c457-8f22272312ec"
      },
      "execution_count": 70,
      "outputs": [
        {
          "output_type": "execute_result",
          "data": {
            "text/plain": [
              "                             Predicciones_EntireHome  host_acceptance_rate  \\\n",
              "Predicciones_EntireHome                     1.000000              0.030007   \n",
              "host_acceptance_rate                        0.030007              1.000000   \n",
              "review_scores_rating                       -0.120710             -0.010317   \n",
              "price                                      -0.058859              0.030287   \n",
              "review_scores_cleanliness                  -0.207912              0.020066   \n",
              "availability_365                           -0.072600              0.064165   \n",
              "review_scores_communication                -0.155502             -0.016215   \n",
              "room_type                                        NaN                   NaN   \n",
              "number_of_reviews                           1.000000              0.030007   \n",
              "\n",
              "                             review_scores_rating     price  \\\n",
              "Predicciones_EntireHome                 -0.120710 -0.058859   \n",
              "host_acceptance_rate                    -0.010317  0.030287   \n",
              "review_scores_rating                     1.000000  0.123884   \n",
              "price                                    0.123884  1.000000   \n",
              "review_scores_cleanliness                0.491470  0.114736   \n",
              "availability_365                        -0.087712  0.041327   \n",
              "review_scores_communication              0.538377  0.059271   \n",
              "room_type                                     NaN       NaN   \n",
              "number_of_reviews                       -0.120710 -0.058859   \n",
              "\n",
              "                             review_scores_cleanliness  availability_365  \\\n",
              "Predicciones_EntireHome                      -0.207912         -0.072600   \n",
              "host_acceptance_rate                          0.020066          0.064165   \n",
              "review_scores_rating                          0.491470         -0.087712   \n",
              "price                                         0.114736          0.041327   \n",
              "review_scores_cleanliness                     1.000000         -0.005057   \n",
              "availability_365                             -0.005057          1.000000   \n",
              "review_scores_communication                   0.343191         -0.090068   \n",
              "room_type                                          NaN               NaN   \n",
              "number_of_reviews                            -0.207912         -0.072600   \n",
              "\n",
              "                             review_scores_communication  room_type  \\\n",
              "Predicciones_EntireHome                        -0.155502        NaN   \n",
              "host_acceptance_rate                           -0.016215        NaN   \n",
              "review_scores_rating                            0.538377        NaN   \n",
              "price                                           0.059271        NaN   \n",
              "review_scores_cleanliness                       0.343191        NaN   \n",
              "availability_365                               -0.090068        NaN   \n",
              "review_scores_communication                     1.000000        NaN   \n",
              "room_type                                            NaN        NaN   \n",
              "number_of_reviews                              -0.155502        NaN   \n",
              "\n",
              "                             number_of_reviews  \n",
              "Predicciones_EntireHome               1.000000  \n",
              "host_acceptance_rate                  0.030007  \n",
              "review_scores_rating                 -0.120710  \n",
              "price                                -0.058859  \n",
              "review_scores_cleanliness            -0.207912  \n",
              "availability_365                     -0.072600  \n",
              "review_scores_communication          -0.155502  \n",
              "room_type                                  NaN  \n",
              "number_of_reviews                     1.000000  "
            ],
            "text/html": [
              "\n",
              "  <div id=\"df-33528ed8-3666-4833-8d0a-f85bc665431f\">\n",
              "    <div class=\"colab-df-container\">\n",
              "      <div>\n",
              "<style scoped>\n",
              "    .dataframe tbody tr th:only-of-type {\n",
              "        vertical-align: middle;\n",
              "    }\n",
              "\n",
              "    .dataframe tbody tr th {\n",
              "        vertical-align: top;\n",
              "    }\n",
              "\n",
              "    .dataframe thead th {\n",
              "        text-align: right;\n",
              "    }\n",
              "</style>\n",
              "<table border=\"1\" class=\"dataframe\">\n",
              "  <thead>\n",
              "    <tr style=\"text-align: right;\">\n",
              "      <th></th>\n",
              "      <th>Predicciones_EntireHome</th>\n",
              "      <th>host_acceptance_rate</th>\n",
              "      <th>review_scores_rating</th>\n",
              "      <th>price</th>\n",
              "      <th>review_scores_cleanliness</th>\n",
              "      <th>availability_365</th>\n",
              "      <th>review_scores_communication</th>\n",
              "      <th>room_type</th>\n",
              "      <th>number_of_reviews</th>\n",
              "    </tr>\n",
              "  </thead>\n",
              "  <tbody>\n",
              "    <tr>\n",
              "      <th>Predicciones_EntireHome</th>\n",
              "      <td>1.000000</td>\n",
              "      <td>0.030007</td>\n",
              "      <td>-0.120710</td>\n",
              "      <td>-0.058859</td>\n",
              "      <td>-0.207912</td>\n",
              "      <td>-0.072600</td>\n",
              "      <td>-0.155502</td>\n",
              "      <td>NaN</td>\n",
              "      <td>1.000000</td>\n",
              "    </tr>\n",
              "    <tr>\n",
              "      <th>host_acceptance_rate</th>\n",
              "      <td>0.030007</td>\n",
              "      <td>1.000000</td>\n",
              "      <td>-0.010317</td>\n",
              "      <td>0.030287</td>\n",
              "      <td>0.020066</td>\n",
              "      <td>0.064165</td>\n",
              "      <td>-0.016215</td>\n",
              "      <td>NaN</td>\n",
              "      <td>0.030007</td>\n",
              "    </tr>\n",
              "    <tr>\n",
              "      <th>review_scores_rating</th>\n",
              "      <td>-0.120710</td>\n",
              "      <td>-0.010317</td>\n",
              "      <td>1.000000</td>\n",
              "      <td>0.123884</td>\n",
              "      <td>0.491470</td>\n",
              "      <td>-0.087712</td>\n",
              "      <td>0.538377</td>\n",
              "      <td>NaN</td>\n",
              "      <td>-0.120710</td>\n",
              "    </tr>\n",
              "    <tr>\n",
              "      <th>price</th>\n",
              "      <td>-0.058859</td>\n",
              "      <td>0.030287</td>\n",
              "      <td>0.123884</td>\n",
              "      <td>1.000000</td>\n",
              "      <td>0.114736</td>\n",
              "      <td>0.041327</td>\n",
              "      <td>0.059271</td>\n",
              "      <td>NaN</td>\n",
              "      <td>-0.058859</td>\n",
              "    </tr>\n",
              "    <tr>\n",
              "      <th>review_scores_cleanliness</th>\n",
              "      <td>-0.207912</td>\n",
              "      <td>0.020066</td>\n",
              "      <td>0.491470</td>\n",
              "      <td>0.114736</td>\n",
              "      <td>1.000000</td>\n",
              "      <td>-0.005057</td>\n",
              "      <td>0.343191</td>\n",
              "      <td>NaN</td>\n",
              "      <td>-0.207912</td>\n",
              "    </tr>\n",
              "    <tr>\n",
              "      <th>availability_365</th>\n",
              "      <td>-0.072600</td>\n",
              "      <td>0.064165</td>\n",
              "      <td>-0.087712</td>\n",
              "      <td>0.041327</td>\n",
              "      <td>-0.005057</td>\n",
              "      <td>1.000000</td>\n",
              "      <td>-0.090068</td>\n",
              "      <td>NaN</td>\n",
              "      <td>-0.072600</td>\n",
              "    </tr>\n",
              "    <tr>\n",
              "      <th>review_scores_communication</th>\n",
              "      <td>-0.155502</td>\n",
              "      <td>-0.016215</td>\n",
              "      <td>0.538377</td>\n",
              "      <td>0.059271</td>\n",
              "      <td>0.343191</td>\n",
              "      <td>-0.090068</td>\n",
              "      <td>1.000000</td>\n",
              "      <td>NaN</td>\n",
              "      <td>-0.155502</td>\n",
              "    </tr>\n",
              "    <tr>\n",
              "      <th>room_type</th>\n",
              "      <td>NaN</td>\n",
              "      <td>NaN</td>\n",
              "      <td>NaN</td>\n",
              "      <td>NaN</td>\n",
              "      <td>NaN</td>\n",
              "      <td>NaN</td>\n",
              "      <td>NaN</td>\n",
              "      <td>NaN</td>\n",
              "      <td>NaN</td>\n",
              "    </tr>\n",
              "    <tr>\n",
              "      <th>number_of_reviews</th>\n",
              "      <td>1.000000</td>\n",
              "      <td>0.030007</td>\n",
              "      <td>-0.120710</td>\n",
              "      <td>-0.058859</td>\n",
              "      <td>-0.207912</td>\n",
              "      <td>-0.072600</td>\n",
              "      <td>-0.155502</td>\n",
              "      <td>NaN</td>\n",
              "      <td>1.000000</td>\n",
              "    </tr>\n",
              "  </tbody>\n",
              "</table>\n",
              "</div>\n",
              "      <button class=\"colab-df-convert\" onclick=\"convertToInteractive('df-33528ed8-3666-4833-8d0a-f85bc665431f')\"\n",
              "              title=\"Convert this dataframe to an interactive table.\"\n",
              "              style=\"display:none;\">\n",
              "        \n",
              "  <svg xmlns=\"http://www.w3.org/2000/svg\" height=\"24px\"viewBox=\"0 0 24 24\"\n",
              "       width=\"24px\">\n",
              "    <path d=\"M0 0h24v24H0V0z\" fill=\"none\"/>\n",
              "    <path d=\"M18.56 5.44l.94 2.06.94-2.06 2.06-.94-2.06-.94-.94-2.06-.94 2.06-2.06.94zm-11 1L8.5 8.5l.94-2.06 2.06-.94-2.06-.94L8.5 2.5l-.94 2.06-2.06.94zm10 10l.94 2.06.94-2.06 2.06-.94-2.06-.94-.94-2.06-.94 2.06-2.06.94z\"/><path d=\"M17.41 7.96l-1.37-1.37c-.4-.4-.92-.59-1.43-.59-.52 0-1.04.2-1.43.59L10.3 9.45l-7.72 7.72c-.78.78-.78 2.05 0 2.83L4 21.41c.39.39.9.59 1.41.59.51 0 1.02-.2 1.41-.59l7.78-7.78 2.81-2.81c.8-.78.8-2.07 0-2.86zM5.41 20L4 18.59l7.72-7.72 1.47 1.35L5.41 20z\"/>\n",
              "  </svg>\n",
              "      </button>\n",
              "      \n",
              "  <style>\n",
              "    .colab-df-container {\n",
              "      display:flex;\n",
              "      flex-wrap:wrap;\n",
              "      gap: 12px;\n",
              "    }\n",
              "\n",
              "    .colab-df-convert {\n",
              "      background-color: #E8F0FE;\n",
              "      border: none;\n",
              "      border-radius: 50%;\n",
              "      cursor: pointer;\n",
              "      display: none;\n",
              "      fill: #1967D2;\n",
              "      height: 32px;\n",
              "      padding: 0 0 0 0;\n",
              "      width: 32px;\n",
              "    }\n",
              "\n",
              "    .colab-df-convert:hover {\n",
              "      background-color: #E2EBFA;\n",
              "      box-shadow: 0px 1px 2px rgba(60, 64, 67, 0.3), 0px 1px 3px 1px rgba(60, 64, 67, 0.15);\n",
              "      fill: #174EA6;\n",
              "    }\n",
              "\n",
              "    [theme=dark] .colab-df-convert {\n",
              "      background-color: #3B4455;\n",
              "      fill: #D2E3FC;\n",
              "    }\n",
              "\n",
              "    [theme=dark] .colab-df-convert:hover {\n",
              "      background-color: #434B5C;\n",
              "      box-shadow: 0px 1px 3px 1px rgba(0, 0, 0, 0.15);\n",
              "      filter: drop-shadow(0px 1px 2px rgba(0, 0, 0, 0.3));\n",
              "      fill: #FFFFFF;\n",
              "    }\n",
              "  </style>\n",
              "\n",
              "      <script>\n",
              "        const buttonEl =\n",
              "          document.querySelector('#df-33528ed8-3666-4833-8d0a-f85bc665431f button.colab-df-convert');\n",
              "        buttonEl.style.display =\n",
              "          google.colab.kernel.accessAllowed ? 'block' : 'none';\n",
              "\n",
              "        async function convertToInteractive(key) {\n",
              "          const element = document.querySelector('#df-33528ed8-3666-4833-8d0a-f85bc665431f');\n",
              "          const dataTable =\n",
              "            await google.colab.kernel.invokeFunction('convertToInteractive',\n",
              "                                                     [key], {});\n",
              "          if (!dataTable) return;\n",
              "\n",
              "          const docLinkHtml = 'Like what you see? Visit the ' +\n",
              "            '<a target=\"_blank\" href=https://colab.research.google.com/notebooks/data_table.ipynb>data table notebook</a>'\n",
              "            + ' to learn more about interactive tables.';\n",
              "          element.innerHTML = '';\n",
              "          dataTable['output_type'] = 'display_data';\n",
              "          await google.colab.output.renderOutput(dataTable, element);\n",
              "          const docLink = document.createElement('div');\n",
              "          docLink.innerHTML = docLinkHtml;\n",
              "          element.appendChild(docLink);\n",
              "        }\n",
              "      </script>\n",
              "    </div>\n",
              "  </div>\n",
              "  "
            ]
          },
          "metadata": {},
          "execution_count": 70
        }
      ]
    },
    {
      "cell_type": "code",
      "source": [
        "#Tabla de determinación\n",
        "\n",
        "Det_factoresEntireHome=(EntireHome.corr())**2\n",
        "Det_factoresEntireHome"
      ],
      "metadata": {
        "colab": {
          "base_uri": "https://localhost:8080/",
          "height": 396
        },
        "id": "28WAdpFCNWiQ",
        "outputId": "7d056df3-3bc1-4be8-f776-218fdbc119b5"
      },
      "execution_count": 71,
      "outputs": [
        {
          "output_type": "execute_result",
          "data": {
            "text/plain": [
              "                             Predicciones_EntireHome  host_acceptance_rate  \\\n",
              "Predicciones_EntireHome                     1.000000              0.000900   \n",
              "host_acceptance_rate                        0.000900              1.000000   \n",
              "review_scores_rating                        0.014571              0.000106   \n",
              "price                                       0.003464              0.000917   \n",
              "review_scores_cleanliness                   0.043227              0.000403   \n",
              "availability_365                            0.005271              0.004117   \n",
              "review_scores_communication                 0.024181              0.000263   \n",
              "room_type                                        NaN                   NaN   \n",
              "number_of_reviews                           1.000000              0.000900   \n",
              "\n",
              "                             review_scores_rating     price  \\\n",
              "Predicciones_EntireHome                  0.014571  0.003464   \n",
              "host_acceptance_rate                     0.000106  0.000917   \n",
              "review_scores_rating                     1.000000  0.015347   \n",
              "price                                    0.015347  1.000000   \n",
              "review_scores_cleanliness                0.241543  0.013164   \n",
              "availability_365                         0.007693  0.001708   \n",
              "review_scores_communication              0.289850  0.003513   \n",
              "room_type                                     NaN       NaN   \n",
              "number_of_reviews                        0.014571  0.003464   \n",
              "\n",
              "                             review_scores_cleanliness  availability_365  \\\n",
              "Predicciones_EntireHome                       0.043227          0.005271   \n",
              "host_acceptance_rate                          0.000403          0.004117   \n",
              "review_scores_rating                          0.241543          0.007693   \n",
              "price                                         0.013164          0.001708   \n",
              "review_scores_cleanliness                     1.000000          0.000026   \n",
              "availability_365                              0.000026          1.000000   \n",
              "review_scores_communication                   0.117780          0.008112   \n",
              "room_type                                          NaN               NaN   \n",
              "number_of_reviews                             0.043227          0.005271   \n",
              "\n",
              "                             review_scores_communication  room_type  \\\n",
              "Predicciones_EntireHome                         0.024181        NaN   \n",
              "host_acceptance_rate                            0.000263        NaN   \n",
              "review_scores_rating                            0.289850        NaN   \n",
              "price                                           0.003513        NaN   \n",
              "review_scores_cleanliness                       0.117780        NaN   \n",
              "availability_365                                0.008112        NaN   \n",
              "review_scores_communication                     1.000000        NaN   \n",
              "room_type                                            NaN        NaN   \n",
              "number_of_reviews                               0.024181        NaN   \n",
              "\n",
              "                             number_of_reviews  \n",
              "Predicciones_EntireHome               1.000000  \n",
              "host_acceptance_rate                  0.000900  \n",
              "review_scores_rating                  0.014571  \n",
              "price                                 0.003464  \n",
              "review_scores_cleanliness             0.043227  \n",
              "availability_365                      0.005271  \n",
              "review_scores_communication           0.024181  \n",
              "room_type                                  NaN  \n",
              "number_of_reviews                     1.000000  "
            ],
            "text/html": [
              "\n",
              "  <div id=\"df-c820958c-3cdb-4491-80b0-23d2ed28134f\">\n",
              "    <div class=\"colab-df-container\">\n",
              "      <div>\n",
              "<style scoped>\n",
              "    .dataframe tbody tr th:only-of-type {\n",
              "        vertical-align: middle;\n",
              "    }\n",
              "\n",
              "    .dataframe tbody tr th {\n",
              "        vertical-align: top;\n",
              "    }\n",
              "\n",
              "    .dataframe thead th {\n",
              "        text-align: right;\n",
              "    }\n",
              "</style>\n",
              "<table border=\"1\" class=\"dataframe\">\n",
              "  <thead>\n",
              "    <tr style=\"text-align: right;\">\n",
              "      <th></th>\n",
              "      <th>Predicciones_EntireHome</th>\n",
              "      <th>host_acceptance_rate</th>\n",
              "      <th>review_scores_rating</th>\n",
              "      <th>price</th>\n",
              "      <th>review_scores_cleanliness</th>\n",
              "      <th>availability_365</th>\n",
              "      <th>review_scores_communication</th>\n",
              "      <th>room_type</th>\n",
              "      <th>number_of_reviews</th>\n",
              "    </tr>\n",
              "  </thead>\n",
              "  <tbody>\n",
              "    <tr>\n",
              "      <th>Predicciones_EntireHome</th>\n",
              "      <td>1.000000</td>\n",
              "      <td>0.000900</td>\n",
              "      <td>0.014571</td>\n",
              "      <td>0.003464</td>\n",
              "      <td>0.043227</td>\n",
              "      <td>0.005271</td>\n",
              "      <td>0.024181</td>\n",
              "      <td>NaN</td>\n",
              "      <td>1.000000</td>\n",
              "    </tr>\n",
              "    <tr>\n",
              "      <th>host_acceptance_rate</th>\n",
              "      <td>0.000900</td>\n",
              "      <td>1.000000</td>\n",
              "      <td>0.000106</td>\n",
              "      <td>0.000917</td>\n",
              "      <td>0.000403</td>\n",
              "      <td>0.004117</td>\n",
              "      <td>0.000263</td>\n",
              "      <td>NaN</td>\n",
              "      <td>0.000900</td>\n",
              "    </tr>\n",
              "    <tr>\n",
              "      <th>review_scores_rating</th>\n",
              "      <td>0.014571</td>\n",
              "      <td>0.000106</td>\n",
              "      <td>1.000000</td>\n",
              "      <td>0.015347</td>\n",
              "      <td>0.241543</td>\n",
              "      <td>0.007693</td>\n",
              "      <td>0.289850</td>\n",
              "      <td>NaN</td>\n",
              "      <td>0.014571</td>\n",
              "    </tr>\n",
              "    <tr>\n",
              "      <th>price</th>\n",
              "      <td>0.003464</td>\n",
              "      <td>0.000917</td>\n",
              "      <td>0.015347</td>\n",
              "      <td>1.000000</td>\n",
              "      <td>0.013164</td>\n",
              "      <td>0.001708</td>\n",
              "      <td>0.003513</td>\n",
              "      <td>NaN</td>\n",
              "      <td>0.003464</td>\n",
              "    </tr>\n",
              "    <tr>\n",
              "      <th>review_scores_cleanliness</th>\n",
              "      <td>0.043227</td>\n",
              "      <td>0.000403</td>\n",
              "      <td>0.241543</td>\n",
              "      <td>0.013164</td>\n",
              "      <td>1.000000</td>\n",
              "      <td>0.000026</td>\n",
              "      <td>0.117780</td>\n",
              "      <td>NaN</td>\n",
              "      <td>0.043227</td>\n",
              "    </tr>\n",
              "    <tr>\n",
              "      <th>availability_365</th>\n",
              "      <td>0.005271</td>\n",
              "      <td>0.004117</td>\n",
              "      <td>0.007693</td>\n",
              "      <td>0.001708</td>\n",
              "      <td>0.000026</td>\n",
              "      <td>1.000000</td>\n",
              "      <td>0.008112</td>\n",
              "      <td>NaN</td>\n",
              "      <td>0.005271</td>\n",
              "    </tr>\n",
              "    <tr>\n",
              "      <th>review_scores_communication</th>\n",
              "      <td>0.024181</td>\n",
              "      <td>0.000263</td>\n",
              "      <td>0.289850</td>\n",
              "      <td>0.003513</td>\n",
              "      <td>0.117780</td>\n",
              "      <td>0.008112</td>\n",
              "      <td>1.000000</td>\n",
              "      <td>NaN</td>\n",
              "      <td>0.024181</td>\n",
              "    </tr>\n",
              "    <tr>\n",
              "      <th>room_type</th>\n",
              "      <td>NaN</td>\n",
              "      <td>NaN</td>\n",
              "      <td>NaN</td>\n",
              "      <td>NaN</td>\n",
              "      <td>NaN</td>\n",
              "      <td>NaN</td>\n",
              "      <td>NaN</td>\n",
              "      <td>NaN</td>\n",
              "      <td>NaN</td>\n",
              "    </tr>\n",
              "    <tr>\n",
              "      <th>number_of_reviews</th>\n",
              "      <td>1.000000</td>\n",
              "      <td>0.000900</td>\n",
              "      <td>0.014571</td>\n",
              "      <td>0.003464</td>\n",
              "      <td>0.043227</td>\n",
              "      <td>0.005271</td>\n",
              "      <td>0.024181</td>\n",
              "      <td>NaN</td>\n",
              "      <td>1.000000</td>\n",
              "    </tr>\n",
              "  </tbody>\n",
              "</table>\n",
              "</div>\n",
              "      <button class=\"colab-df-convert\" onclick=\"convertToInteractive('df-c820958c-3cdb-4491-80b0-23d2ed28134f')\"\n",
              "              title=\"Convert this dataframe to an interactive table.\"\n",
              "              style=\"display:none;\">\n",
              "        \n",
              "  <svg xmlns=\"http://www.w3.org/2000/svg\" height=\"24px\"viewBox=\"0 0 24 24\"\n",
              "       width=\"24px\">\n",
              "    <path d=\"M0 0h24v24H0V0z\" fill=\"none\"/>\n",
              "    <path d=\"M18.56 5.44l.94 2.06.94-2.06 2.06-.94-2.06-.94-.94-2.06-.94 2.06-2.06.94zm-11 1L8.5 8.5l.94-2.06 2.06-.94-2.06-.94L8.5 2.5l-.94 2.06-2.06.94zm10 10l.94 2.06.94-2.06 2.06-.94-2.06-.94-.94-2.06-.94 2.06-2.06.94z\"/><path d=\"M17.41 7.96l-1.37-1.37c-.4-.4-.92-.59-1.43-.59-.52 0-1.04.2-1.43.59L10.3 9.45l-7.72 7.72c-.78.78-.78 2.05 0 2.83L4 21.41c.39.39.9.59 1.41.59.51 0 1.02-.2 1.41-.59l7.78-7.78 2.81-2.81c.8-.78.8-2.07 0-2.86zM5.41 20L4 18.59l7.72-7.72 1.47 1.35L5.41 20z\"/>\n",
              "  </svg>\n",
              "      </button>\n",
              "      \n",
              "  <style>\n",
              "    .colab-df-container {\n",
              "      display:flex;\n",
              "      flex-wrap:wrap;\n",
              "      gap: 12px;\n",
              "    }\n",
              "\n",
              "    .colab-df-convert {\n",
              "      background-color: #E8F0FE;\n",
              "      border: none;\n",
              "      border-radius: 50%;\n",
              "      cursor: pointer;\n",
              "      display: none;\n",
              "      fill: #1967D2;\n",
              "      height: 32px;\n",
              "      padding: 0 0 0 0;\n",
              "      width: 32px;\n",
              "    }\n",
              "\n",
              "    .colab-df-convert:hover {\n",
              "      background-color: #E2EBFA;\n",
              "      box-shadow: 0px 1px 2px rgba(60, 64, 67, 0.3), 0px 1px 3px 1px rgba(60, 64, 67, 0.15);\n",
              "      fill: #174EA6;\n",
              "    }\n",
              "\n",
              "    [theme=dark] .colab-df-convert {\n",
              "      background-color: #3B4455;\n",
              "      fill: #D2E3FC;\n",
              "    }\n",
              "\n",
              "    [theme=dark] .colab-df-convert:hover {\n",
              "      background-color: #434B5C;\n",
              "      box-shadow: 0px 1px 3px 1px rgba(0, 0, 0, 0.15);\n",
              "      filter: drop-shadow(0px 1px 2px rgba(0, 0, 0, 0.3));\n",
              "      fill: #FFFFFF;\n",
              "    }\n",
              "  </style>\n",
              "\n",
              "      <script>\n",
              "        const buttonEl =\n",
              "          document.querySelector('#df-c820958c-3cdb-4491-80b0-23d2ed28134f button.colab-df-convert');\n",
              "        buttonEl.style.display =\n",
              "          google.colab.kernel.accessAllowed ? 'block' : 'none';\n",
              "\n",
              "        async function convertToInteractive(key) {\n",
              "          const element = document.querySelector('#df-c820958c-3cdb-4491-80b0-23d2ed28134f');\n",
              "          const dataTable =\n",
              "            await google.colab.kernel.invokeFunction('convertToInteractive',\n",
              "                                                     [key], {});\n",
              "          if (!dataTable) return;\n",
              "\n",
              "          const docLinkHtml = 'Like what you see? Visit the ' +\n",
              "            '<a target=\"_blank\" href=https://colab.research.google.com/notebooks/data_table.ipynb>data table notebook</a>'\n",
              "            + ' to learn more about interactive tables.';\n",
              "          element.innerHTML = '';\n",
              "          dataTable['output_type'] = 'display_data';\n",
              "          await google.colab.output.renderOutput(dataTable, element);\n",
              "          const docLink = document.createElement('div');\n",
              "          docLink.innerHTML = docLinkHtml;\n",
              "          element.appendChild(docLink);\n",
              "        }\n",
              "      </script>\n",
              "    </div>\n",
              "  </div>\n",
              "  "
            ]
          },
          "metadata": {},
          "execution_count": 71
        }
      ]
    },
    {
      "cell_type": "markdown",
      "source": [
        "## Private room"
      ],
      "metadata": {
        "id": "q6g4tlj36wC5"
      }
    },
    {
      "cell_type": "code",
      "source": [
        "#Tabla de correlación\n",
        "\n",
        "Corr_factoresPrivRoom=PrivateRoom.corr()\n",
        "Corr_factoresPrivRoom"
      ],
      "metadata": {
        "id": "jl4yzYUD7JTv"
      },
      "execution_count": null,
      "outputs": []
    },
    {
      "cell_type": "code",
      "source": [
        "#Tabla de determinación\n",
        "\n",
        "Det_factoresPrivRoom=(PrivateRoom.corr())**2\n",
        "Det_factoresPrivRoom"
      ],
      "metadata": {
        "id": "Dtjl-yf3NjuW"
      },
      "execution_count": null,
      "outputs": []
    },
    {
      "cell_type": "markdown",
      "source": [
        "##Shared room"
      ],
      "metadata": {
        "id": "1Dxs3cCA6uNt"
      }
    },
    {
      "cell_type": "code",
      "source": [
        "#Tabla de correlación\n",
        "\n",
        "Corr_factoresSharRoom=SharedRoom.corr()\n",
        "Corr_factoresSharRoom"
      ],
      "metadata": {
        "id": "hoYcGHA66tix"
      },
      "execution_count": null,
      "outputs": []
    },
    {
      "cell_type": "code",
      "source": [
        "#Tabla de determinación\n",
        "\n",
        "Det_factoresSharRoom=(SharedRoom.corr())**2\n",
        "Det_factoresSharRoom"
      ],
      "metadata": {
        "id": "KFeFo8IKN2M1"
      },
      "execution_count": null,
      "outputs": []
    }
  ]
}