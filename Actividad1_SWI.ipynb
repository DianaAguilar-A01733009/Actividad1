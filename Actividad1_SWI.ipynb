{
  "nbformat": 4,
  "nbformat_minor": 0,
  "metadata": {
    "colab": {
      "provenance": [],
      "collapsed_sections": [],
      "authorship_tag": "ABX9TyOiyHZUnbNfyVCvQpnXHTRF",
      "include_colab_link": true
    },
    "kernelspec": {
      "name": "python3",
      "display_name": "Python 3"
    },
    "language_info": {
      "name": "python"
    }
  },
  "cells": [
    {
      "cell_type": "markdown",
      "metadata": {
        "id": "view-in-github",
        "colab_type": "text"
      },
      "source": [
        "<a href=\"https://colab.research.google.com/github/DianaAguilar-A01733009/Actividad1/blob/main/Actividad1_SWI.ipynb\" target=\"_parent\"><img src=\"https://colab.research.google.com/assets/colab-badge.svg\" alt=\"Open In Colab\"/></a>"
      ]
    },
    {
      "cell_type": "markdown",
      "source": [
        "##Importar librerias y carga del documento"
      ],
      "metadata": {
        "id": "BP-pKUngL6cu"
      }
    },
    {
      "cell_type": "code",
      "execution_count": 1,
      "metadata": {
        "id": "jBkijY-v9im8"
      },
      "outputs": [],
      "source": [
        "import pandas as pd\n",
        "import numpy as np\n",
        "import matplotlib.pyplot as plt\n",
        "import seaborn as sns"
      ]
    },
    {
      "cell_type": "code",
      "source": [
        "# Cargar archivo csv desde el equipo\n",
        "\n",
        "from google.colab import files\n",
        "files.upload()"
      ],
      "metadata": {
        "id": "jNa6BlmV9xpH"
      },
      "execution_count": null,
      "outputs": []
    },
    {
      "cell_type": "code",
      "source": [
        "df = pd.read_csv('listings_SWI.csv')\n",
        "df.head()"
      ],
      "metadata": {
        "id": "HFfBELwc92m2"
      },
      "execution_count": null,
      "outputs": []
    },
    {
      "cell_type": "code",
      "source": [
        "df.dtypes"
      ],
      "metadata": {
        "id": "0PLNgwTzrcjS"
      },
      "execution_count": null,
      "outputs": []
    },
    {
      "cell_type": "markdown",
      "source": [
        "#Filtrado"
      ],
      "metadata": {
        "id": "Pm91cniY8TnQ"
      }
    },
    {
      "cell_type": "code",
      "source": [
        "df = df[['host_acceptance_rate', 'review_scores_rating', 'price', 'review_scores_cleanliness', 'availability_365', 'review_scores_communication', 'room_type', 'number_of_reviews']]\n",
        "df"
      ],
      "metadata": {
        "id": "vZBM61N3a1n_"
      },
      "execution_count": null,
      "outputs": []
    },
    {
      "cell_type": "code",
      "source": [
        "df[\"host_acceptance_rate\"] = df[\"host_acceptance_rate\"].str.replace(\"%\",\"\")\n",
        "df[\"price\"] = df[\"price\"].str.replace(\"$\",\"\")\n",
        "df[\"price\"] = df[\"price\"].str.replace(\",\",\"\")\n",
        "df"
      ],
      "metadata": {
        "id": "HXsb1baCbKbO"
      },
      "execution_count": null,
      "outputs": []
    },
    {
      "cell_type": "code",
      "source": [
        "df['host_acceptance_rate']=df['host_acceptance_rate'].astype({'host_acceptance_rate': 'float64'})\n",
        "df['price']=df['price'].astype({'price': 'float64'})\n",
        "df['availability_365']=df['availability_365'].astype({'availability_365': 'float64'})\n",
        "df['number_of_reviews']=df['number_of_reviews'].astype({'number_of_reviews': 'float64'})"
      ],
      "metadata": {
        "id": "6vqBHsTRblo2"
      },
      "execution_count": 7,
      "outputs": []
    },
    {
      "cell_type": "code",
      "source": [
        "df['room_type'].unique()"
      ],
      "metadata": {
        "id": "lJbpt7vR-XQK"
      },
      "execution_count": null,
      "outputs": []
    },
    {
      "cell_type": "code",
      "source": [
        "EntireHome=df[df['room_type']=='Entire home/apt']\n",
        "EntireHome.head()"
      ],
      "metadata": {
        "id": "y2kbcmaySP1D"
      },
      "execution_count": null,
      "outputs": []
    },
    {
      "cell_type": "code",
      "source": [
        "PrivateRoom=df[df['room_type']=='Private room']\n",
        "PrivateRoom.head()"
      ],
      "metadata": {
        "id": "3FtiY6bp_51i"
      },
      "execution_count": null,
      "outputs": []
    },
    {
      "cell_type": "code",
      "source": [
        "SharedRoom=df[df['room_type']=='Shared room']\n",
        "SharedRoom.head()"
      ],
      "metadata": {
        "id": "1flxC94TADnW"
      },
      "execution_count": null,
      "outputs": []
    },
    {
      "cell_type": "markdown",
      "source": [
        "#Limpieza de Base de datos"
      ],
      "metadata": {
        "id": "GxgN2FuTBanR"
      }
    },
    {
      "cell_type": "markdown",
      "source": [
        "##Entire Home"
      ],
      "metadata": {
        "id": "qzFUKBeUbUDN"
      }
    },
    {
      "cell_type": "code",
      "source": [
        "#Remplazar datos nulos con promedios\n",
        "from numpy import nan as NaN\n",
        "EntireHome=EntireHome.fillna({'host_acceptance_rate':float(EntireHome['host_acceptance_rate'].mean())})\n",
        "EntireHome=EntireHome.fillna({'review_scores_rating':float(EntireHome['review_scores_rating'].mean())})\n",
        "EntireHome=EntireHome.fillna({'review_scores_cleanliness':float(EntireHome['review_scores_cleanliness'].mean())})\n",
        "EntireHome=EntireHome.fillna({'review_scores_communication':float(EntireHome['review_scores_communication'].mean())})\n",
        "\n",
        "EntireHome"
      ],
      "metadata": {
        "id": "_eAX5mO9bS51"
      },
      "execution_count": null,
      "outputs": []
    },
    {
      "cell_type": "code",
      "source": [
        "#Eliminación de outliers\n",
        "y=EntireHome\n",
        "\n",
        "percentile25=y.quantile(0.25) #Q1\n",
        "percentile75=y.quantile(0.75) #Q3\n",
        "iqr= percentile75 - percentile25\n",
        "\n",
        "Limite_Superior_iqr= percentile75 + 1.5*iqr\n",
        "Limite_Inferior_iqr= percentile25 - 1.5*iqr\n",
        "print(\"Limite superior permitido\", Limite_Superior_iqr)\n",
        "print(\"Limite inferior permitido\", Limite_Inferior_iqr)\n",
        "\n",
        "df3= df[(y<=Limite_Superior_iqr)&(y>=Limite_Inferior_iqr)]\n",
        "df3"
      ],
      "metadata": {
        "id": "fDcAolhpFUOr"
      },
      "execution_count": null,
      "outputs": []
    },
    {
      "cell_type": "code",
      "source": [
        "#Llenar los outliers con el promedio\n",
        "EntireHome=df3.fillna(round(df3.mean(),1))\n",
        "EntireHome"
      ],
      "metadata": {
        "id": "0HJ0YKUYcHqW"
      },
      "execution_count": null,
      "outputs": []
    },
    {
      "cell_type": "code",
      "source": [
        "print(len(EntireHome)-EntireHome.count())"
      ],
      "metadata": {
        "id": "fzfTzHR4P_gs"
      },
      "execution_count": null,
      "outputs": []
    },
    {
      "cell_type": "markdown",
      "source": [
        "##PrivateRoom"
      ],
      "metadata": {
        "id": "kG4sIgcvcuvg"
      }
    },
    {
      "cell_type": "code",
      "source": [
        "#Remplazar datos nulos con promedios\n",
        "from numpy import nan as NaN\n",
        "PrivateRoom=PrivateRoom.fillna({'host_acceptance_rate':float(PrivateRoom['host_acceptance_rate'].mean())})\n",
        "PrivateRoom=PrivateRoom.fillna({'review_scores_rating':float(PrivateRoom['review_scores_rating'].mean())})\n",
        "PrivateRoom=PrivateRoom.fillna({'review_scores_cleanliness':float(PrivateRoom['review_scores_cleanliness'].mean())})\n",
        "PrivateRoom=PrivateRoom.fillna({'review_scores_communication':float(PrivateRoom['review_scores_communication'].mean())})\n",
        "\n",
        "PrivateRoom"
      ],
      "metadata": {
        "id": "VYhIvRCncuvh"
      },
      "execution_count": null,
      "outputs": []
    },
    {
      "cell_type": "code",
      "source": [
        "#Eliminación de outliers\n",
        "y=PrivateRoom\n",
        "\n",
        "percentile25=y.quantile(0.25) #Q1\n",
        "percentile75=y.quantile(0.75) #Q3\n",
        "iqr= percentile75 - percentile25\n",
        "\n",
        "Limite_Superior_iqr= percentile75 + 1.5*iqr\n",
        "Limite_Inferior_iqr= percentile25 - 1.5*iqr\n",
        "print(\"Limite superior permitido\", Limite_Superior_iqr)\n",
        "print(\"Limite inferior permitido\", Limite_Inferior_iqr)\n",
        "\n",
        "df3= df[(y<=Limite_Superior_iqr)&(y>=Limite_Inferior_iqr)]\n",
        "df3"
      ],
      "metadata": {
        "id": "bLhSIRDvcuvi"
      },
      "execution_count": null,
      "outputs": []
    },
    {
      "cell_type": "code",
      "source": [
        "#Llenar los outliers con el promedio\n",
        "PrivateRoom=df3.fillna(round(df3.mean(),1))\n",
        "PrivateRoom"
      ],
      "metadata": {
        "id": "hjw_fn9bcuvj"
      },
      "execution_count": null,
      "outputs": []
    },
    {
      "cell_type": "code",
      "source": [
        "print(len(PrivateRoom)-PrivateRoom.count())"
      ],
      "metadata": {
        "id": "BjWlMqJ9dCc_"
      },
      "execution_count": null,
      "outputs": []
    },
    {
      "cell_type": "markdown",
      "source": [
        "##SharedRoom"
      ],
      "metadata": {
        "id": "5NlAUJMwdaIv"
      }
    },
    {
      "cell_type": "code",
      "source": [
        "#Remplazar datos nulos con promedios\n",
        "from numpy import nan as NaN\n",
        "SharedRoom=SharedRoom.fillna({'host_acceptance_rate':float(SharedRoom['host_acceptance_rate'].mean())})\n",
        "SharedRoom=SharedRoom.fillna({'review_scores_rating':float(SharedRoom['review_scores_rating'].mean())})\n",
        "SharedRoom=SharedRoom.fillna({'review_scores_cleanliness':float(SharedRoom['review_scores_cleanliness'].mean())})\n",
        "SharedRoom=SharedRoom.fillna({'review_scores_communication':float(SharedRoom['review_scores_communication'].mean())})\n",
        "\n",
        "SharedRoom"
      ],
      "metadata": {
        "id": "YLTZqqbddaIw"
      },
      "execution_count": null,
      "outputs": []
    },
    {
      "cell_type": "code",
      "source": [
        "#Eliminación de outliers\n",
        "y=SharedRoom\n",
        "\n",
        "percentile25=y.quantile(0.25) #Q1\n",
        "percentile75=y.quantile(0.75) #Q3\n",
        "iqr= percentile75 - percentile25\n",
        "\n",
        "Limite_Superior_iqr= percentile75 + 1.5*iqr\n",
        "Limite_Inferior_iqr= percentile25 - 1.5*iqr\n",
        "print(\"Limite superior permitido\", Limite_Superior_iqr)\n",
        "print(\"Limite inferior permitido\", Limite_Inferior_iqr)\n",
        "\n",
        "df3= df[(y<=Limite_Superior_iqr)&(y>=Limite_Inferior_iqr)]\n",
        "df3"
      ],
      "metadata": {
        "id": "TSmF6MYYdaIx"
      },
      "execution_count": null,
      "outputs": []
    },
    {
      "cell_type": "code",
      "source": [
        "#Llenar los outliers con el promedio\n",
        "SharedRoom=df3.fillna(round(df3.mean(),1))\n",
        "SharedRoom"
      ],
      "metadata": {
        "id": "dBTTeCOCdaIx"
      },
      "execution_count": null,
      "outputs": []
    },
    {
      "cell_type": "code",
      "source": [
        "print(len(SharedRoom)-SharedRoom.count())"
      ],
      "metadata": {
        "id": "kYKq0xqadaIx"
      },
      "execution_count": null,
      "outputs": []
    },
    {
      "cell_type": "markdown",
      "source": [
        "#Análisis de correlaciones por tipo de cuarto"
      ],
      "metadata": {
        "id": "Nbjb6ZuYA3GX"
      }
    },
    {
      "cell_type": "markdown",
      "source": [
        "##Entire home/apt"
      ],
      "metadata": {
        "id": "ZvdJLpjgA6RP"
      }
    },
    {
      "cell_type": "code",
      "source": [
        "Vars_Dep = EntireHome['number_of_reviews']\n",
        "Vars_Indep1 = EntireHome[['host_acceptance_rate']]\n",
        "Vars_Indep2 = EntireHome[['review_scores_rating']]\n",
        "Vars_Indep3 = EntireHome[['price']]\n",
        "Vars_Indep4 = EntireHome[['review_scores_cleanliness']]\n",
        "Vars_Indep5 = EntireHome[['availability_365']]\n",
        "Vars_Indep6 = EntireHome[['review_scores_communication']]\n",
        "from sklearn.linear_model import LinearRegression"
      ],
      "metadata": {
        "id": "3cY3ACGoBsS2"
      },
      "execution_count": 24,
      "outputs": []
    },
    {
      "cell_type": "code",
      "source": [
        "#Gráficas de correlaciones \n",
        "column_sels=['host_acceptance_rate','review_scores_rating', 'price', 'review_scores_cleanliness', 'availability_365','review_scores_communication']\n",
        "x=EntireHome.loc[:,column_sels]#variables explicativas\n",
        "\n",
        "y=EntireHome['number_of_reviews']#target, variable dependiente\n",
        "\n",
        "fig, axs=plt.subplots(ncols=3,nrows=2,figsize=(16,8))\n",
        "\n",
        "#index=0\n",
        "\n",
        "axs=axs.flatten()\n",
        "for i, k in enumerate(column_sels):\n",
        "  sns.regplot(x=x[k],y=y,data=EntireHome,ax=axs[i])\n",
        "  plt.tight_layout(pad=0.4)"
      ],
      "metadata": {
        "id": "ljqwzbRAMEfT",
        "colab": {
          "base_uri": "https://localhost:8080/",
          "height": 599
        },
        "outputId": "d5456304-d4f3-4dfb-f1ef-7318abb306d0"
      },
      "execution_count": 25,
      "outputs": [
        {
          "output_type": "display_data",
          "data": {
            "text/plain": [
              "<Figure size 1152x576 with 6 Axes>"
            ],
            "image/png": "[encoded data removed]"
          },
          "metadata": {
            "needs_background": "light"
          }
        }
      ]
    },
    {
      "cell_type": "code",
      "source": [
        "model1 = LinearRegression()\n",
        "model2 = LinearRegression()\n",
        "model3 = LinearRegression()\n",
        "model4 = LinearRegression()\n",
        "model5 = LinearRegression()\n",
        "model6 = LinearRegression()"
      ],
      "metadata": {
        "id": "ypHRnIvwFij8"
      },
      "execution_count": 26,
      "outputs": []
    },
    {
      "cell_type": "code",
      "source": [
        "# Correlación de number_of_reviews vs host_acceptance_rate \n",
        "\n",
        "model1.fit(X = Vars_Indep1, y = Vars_Dep)\n",
        "model1.__dict__\n",
        "model1.score(Vars_Indep1, Vars_Dep)"
      ],
      "metadata": {
        "colab": {
          "base_uri": "https://localhost:8080/"
        },
        "id": "J-R3RcngFwGA",
        "outputId": "ca9da7c4-47e0-4dbf-e646-27c900a5434d"
      },
      "execution_count": 27,
      "outputs": [
        {
          "output_type": "execute_result",
          "data": {
            "text/plain": [
              "0.017459295033169675"
            ]
          },
          "metadata": {},
          "execution_count": 27
        }
      ]
    },
    {
      "cell_type": "code",
      "source": [
        "# Correlación de number_of_reviews vs review_scores_rating \n",
        "\n",
        "model2.fit(X = Vars_Indep2, y = Vars_Dep)\n",
        "model2.__dict__\n",
        "model2.score(Vars_Indep2, Vars_Dep)"
      ],
      "metadata": {
        "colab": {
          "base_uri": "https://localhost:8080/"
        },
        "id": "gKL8VbA7E8hH",
        "outputId": "b9d2fe7e-f300-4d7f-cbd9-67f2ba7487e6"
      },
      "execution_count": 28,
      "outputs": [
        {
          "output_type": "execute_result",
          "data": {
            "text/plain": [
              "0.04621230983727076"
            ]
          },
          "metadata": {},
          "execution_count": 28
        }
      ]
    },
    {
      "cell_type": "code",
      "source": [
        "# Correlación de number_of_reviews vs price \n",
        "\n",
        "model3.fit(X = Vars_Indep3, y = Vars_Dep)\n",
        "model3.__dict__\n",
        "model3.score(Vars_Indep3, Vars_Dep)"
      ],
      "metadata": {
        "colab": {
          "base_uri": "https://localhost:8080/"
        },
        "id": "ltAeSqyXe7CW",
        "outputId": "4bb26845-7d61-4f06-adcb-f855486510aa"
      },
      "execution_count": 29,
      "outputs": [
        {
          "output_type": "execute_result",
          "data": {
            "text/plain": [
              "0.00023064650634752049"
            ]
          },
          "metadata": {},
          "execution_count": 29
        }
      ]
    },
    {
      "cell_type": "code",
      "source": [
        "# Correlación de number_of_reviews vs review_scores_cleanliness \n",
        "\n",
        "model4.fit(X = Vars_Indep4, y = Vars_Dep)\n",
        "model4.__dict__\n",
        "model4.score(Vars_Indep4, Vars_Dep)"
      ],
      "metadata": {
        "colab": {
          "base_uri": "https://localhost:8080/"
        },
        "id": "iuWtFuB4e7nh",
        "outputId": "5d78169b-9d30-4a7a-af7b-907b0545d34f"
      },
      "execution_count": 30,
      "outputs": [
        {
          "output_type": "execute_result",
          "data": {
            "text/plain": [
              "0.02225925841143528"
            ]
          },
          "metadata": {},
          "execution_count": 30
        }
      ]
    },
    {
      "cell_type": "code",
      "source": [
        "# Correlación de number_of_reviews vs availability_365\n",
        "\n",
        "model5.fit(X = Vars_Indep5, y = Vars_Dep)\n",
        "model5.__dict__\n",
        "model5.score(Vars_Indep5, Vars_Dep)"
      ],
      "metadata": {
        "colab": {
          "base_uri": "https://localhost:8080/"
        },
        "id": "RRk94-ple75r",
        "outputId": "1f9e77e0-fb6f-46d0-f38f-e65340696319"
      },
      "execution_count": 31,
      "outputs": [
        {
          "output_type": "execute_result",
          "data": {
            "text/plain": [
              "8.392285531189092e-05"
            ]
          },
          "metadata": {},
          "execution_count": 31
        }
      ]
    },
    {
      "cell_type": "code",
      "source": [
        "# Correlación de number_of_reviews vs review_scores_communication\n",
        "\n",
        "model6.fit(X = Vars_Indep6, y = Vars_Dep)\n",
        "model6.__dict__\n",
        "model6.score(Vars_Indep6, Vars_Dep)"
      ],
      "metadata": {
        "colab": {
          "base_uri": "https://localhost:8080/"
        },
        "id": "9VLyueiNe8PK",
        "outputId": "a19a96ff-476b-4b5a-dfb1-42002fdf240e"
      },
      "execution_count": 32,
      "outputs": [
        {
          "output_type": "execute_result",
          "data": {
            "text/plain": [
              "0.037736902030740205"
            ]
          },
          "metadata": {},
          "execution_count": 32
        }
      ]
    },
    {
      "cell_type": "markdown",
      "source": [
        "## Private room"
      ],
      "metadata": {
        "id": "ek_TZRcY04pb"
      }
    },
    {
      "cell_type": "code",
      "source": [
        "Vars_Dep = PrivateRoom['number_of_reviews']\n",
        "Vars_Indep1 = PrivateRoom[['host_acceptance_rate']]\n",
        "Vars_Indep2 = PrivateRoom[['review_scores_rating']]\n",
        "Vars_Indep3 = PrivateRoom[['price']]\n",
        "Vars_Indep4 = PrivateRoom[['review_scores_cleanliness']]\n",
        "Vars_Indep5 = PrivateRoom[['availability_365']]\n",
        "Vars_Indep6 = PrivateRoom[['review_scores_communication']]\n",
        "from sklearn.linear_model import LinearRegression"
      ],
      "metadata": {
        "id": "rc6We6pT080b"
      },
      "execution_count": 34,
      "outputs": []
    },
    {
      "cell_type": "code",
      "source": [
        "#Gráficas de correlaciones \n",
        "column_sels=['host_acceptance_rate','review_scores_rating', 'price', 'review_scores_cleanliness', 'availability_365','review_scores_communication']\n",
        "x=PrivateRoom.loc[:,column_sels]#variables explicativas\n",
        "\n",
        "y=PrivateRoom['number_of_reviews']#target, variable dependiente\n",
        "\n",
        "fig, axs=plt.subplots(ncols=3,nrows=2,figsize=(16,8))\n",
        "\n",
        "#index=0\n",
        "\n",
        "axs=axs.flatten()\n",
        "for i, k in enumerate(column_sels):\n",
        "  sns.regplot(x=x[k],y=y,data=PrivateRoom,ax=axs[i])\n",
        "  plt.tight_layout(pad=0.4)"
      ],
      "metadata": {
        "id": "qzPkqaGdMf1d",
        "colab": {
          "base_uri": "https://localhost:8080/",
          "height": 599
        },
        "outputId": "fb45cee9-c482-4926-e9b1-c62e26ab1a24"
      },
      "execution_count": 35,
      "outputs": [
        {
          "output_type": "display_data",
          "data": {
            "text/plain": [
              "<Figure size 1152x576 with 6 Axes>"
            ],
            "image/png": "[encoded data removed]"
          },
          "metadata": {
            "needs_background": "light"
          }
        }
      ]
    },
    {
      "cell_type": "code",
      "source": [
        "model1 = LinearRegression()\n",
        "model2 = LinearRegression()\n",
        "model3 = LinearRegression()\n",
        "model4 = LinearRegression()\n",
        "model5 = LinearRegression()\n",
        "model6 = LinearRegression()"
      ],
      "metadata": {
        "id": "GMhcvabM080c"
      },
      "execution_count": 36,
      "outputs": []
    },
    {
      "cell_type": "code",
      "source": [
        "# Correlación de number_of_reviews vs host_acceptance_rate \n",
        "\n",
        "model1.fit(X = Vars_Indep1, y = Vars_Dep)\n",
        "model1.__dict__\n",
        "model1.score(Vars_Indep1, Vars_Dep)"
      ],
      "metadata": {
        "colab": {
          "base_uri": "https://localhost:8080/"
        },
        "outputId": "c79a8dd3-768f-406e-856d-5cb937930898",
        "id": "GAsKBGhD080c"
      },
      "execution_count": 37,
      "outputs": [
        {
          "output_type": "execute_result",
          "data": {
            "text/plain": [
              "0.0033161440387409202"
            ]
          },
          "metadata": {},
          "execution_count": 37
        }
      ]
    },
    {
      "cell_type": "code",
      "source": [
        "# Correlación de number_of_reviews vs review_scores_rating \n",
        "\n",
        "model2.fit(X = Vars_Indep2, y = Vars_Dep)\n",
        "model2.__dict__\n",
        "model2.score(Vars_Indep2, Vars_Dep)"
      ],
      "metadata": {
        "colab": {
          "base_uri": "https://localhost:8080/"
        },
        "outputId": "568821d1-0630-49ca-a343-2028aa90427e",
        "id": "oh1wlrjp080d"
      },
      "execution_count": 38,
      "outputs": [
        {
          "output_type": "execute_result",
          "data": {
            "text/plain": [
              "0.018298283219005618"
            ]
          },
          "metadata": {},
          "execution_count": 38
        }
      ]
    },
    {
      "cell_type": "code",
      "source": [
        "# Correlación de number_of_reviews vs price \n",
        "\n",
        "model3.fit(X = Vars_Indep3, y = Vars_Dep)\n",
        "model3.__dict__\n",
        "model3.score(Vars_Indep3, Vars_Dep)"
      ],
      "metadata": {
        "colab": {
          "base_uri": "https://localhost:8080/"
        },
        "outputId": "613219bf-a41b-411f-b6f1-05d374e1855c",
        "id": "ylLEG0IO080e"
      },
      "execution_count": 39,
      "outputs": [
        {
          "output_type": "execute_result",
          "data": {
            "text/plain": [
              "0.0004659969330322866"
            ]
          },
          "metadata": {},
          "execution_count": 39
        }
      ]
    },
    {
      "cell_type": "code",
      "source": [
        "# Correlación de number_of_reviews vs review_scores_cleanliness \n",
        "\n",
        "model4.fit(X = Vars_Indep4, y = Vars_Dep)\n",
        "model4.__dict__\n",
        "model4.score(Vars_Indep4, Vars_Dep)"
      ],
      "metadata": {
        "colab": {
          "base_uri": "https://localhost:8080/"
        },
        "outputId": "91c57b9d-a44d-45d6-bb01-ab58717d036a",
        "id": "xOOg_lGe080e"
      },
      "execution_count": 40,
      "outputs": [
        {
          "output_type": "execute_result",
          "data": {
            "text/plain": [
              "0.009825615777177"
            ]
          },
          "metadata": {},
          "execution_count": 40
        }
      ]
    },
    {
      "cell_type": "code",
      "source": [
        "# Correlación de number_of_reviews vs availability_365\n",
        "\n",
        "model5.fit(X = Vars_Indep5, y = Vars_Dep)\n",
        "model5.__dict__\n",
        "model5.score(Vars_Indep5, Vars_Dep)"
      ],
      "metadata": {
        "colab": {
          "base_uri": "https://localhost:8080/"
        },
        "outputId": "89ac1ca7-ccca-4cee-b00d-0116cba1aa86",
        "id": "MNZDDjYq080f"
      },
      "execution_count": 41,
      "outputs": [
        {
          "output_type": "execute_result",
          "data": {
            "text/plain": [
              "0.015093429305918393"
            ]
          },
          "metadata": {},
          "execution_count": 41
        }
      ]
    },
    {
      "cell_type": "code",
      "source": [
        "# Correlación de number_of_reviews vs review_scores_communication\n",
        "\n",
        "model6.fit(X = Vars_Indep6, y = Vars_Dep)\n",
        "model6.__dict__\n",
        "model6.score(Vars_Indep6, Vars_Dep)"
      ],
      "metadata": {
        "colab": {
          "base_uri": "https://localhost:8080/"
        },
        "outputId": "d26dd44a-ee97-4afe-e1c7-c7573ec3cd94",
        "id": "u_jtkvwe080g"
      },
      "execution_count": 42,
      "outputs": [
        {
          "output_type": "execute_result",
          "data": {
            "text/plain": [
              "0.023151881002164587"
            ]
          },
          "metadata": {},
          "execution_count": 42
        }
      ]
    },
    {
      "cell_type": "markdown",
      "source": [
        "## Shared room"
      ],
      "metadata": {
        "id": "1xg7DlYw3_Jo"
      }
    },
    {
      "cell_type": "code",
      "source": [
        "Vars_Dep = SharedRoom['number_of_reviews']\n",
        "Vars_Indep1 = SharedRoom[['host_acceptance_rate']]\n",
        "Vars_Indep2 = SharedRoom[['review_scores_rating']]\n",
        "Vars_Indep3 = SharedRoom[['price']]\n",
        "Vars_Indep4 = SharedRoom[['review_scores_cleanliness']]\n",
        "Vars_Indep5 = SharedRoom[['availability_365']]\n",
        "Vars_Indep6 = SharedRoom[['review_scores_communication']]\n",
        "from sklearn.linear_model import LinearRegression"
      ],
      "metadata": {
        "id": "K3R4x_OV4GlM"
      },
      "execution_count": 45,
      "outputs": []
    },
    {
      "cell_type": "code",
      "source": [
        "column_sels=['host_acceptance_rate','review_scores_rating', 'price', 'review_scores_cleanliness', 'availability_365','review_scores_communication']\n",
        "x=SharedRoom.loc[:,column_sels]#variables explicativas\n",
        "\n",
        "y=SharedRoom['number_of_reviews']#target, variable dependiente\n",
        "\n",
        "fig, axs=plt.subplots(ncols=3,nrows=2,figsize=(16,8))\n",
        "\n",
        "#index=0\n",
        "\n",
        "axs=axs.flatten()\n",
        "for i, k in enumerate(column_sels):\n",
        "  sns.regplot(x=x[k],y=y,data=SharedRoom,ax=axs[i])\n",
        "  plt.tight_layout(pad=0.4)"
      ],
      "metadata": {
        "id": "P9RYvpDKMw_S",
        "colab": {
          "base_uri": "https://localhost:8080/",
          "height": 599
        },
        "outputId": "806e7555-f207-4e76-c0d0-3d1f601485d4"
      },
      "execution_count": 46,
      "outputs": [
        {
          "output_type": "display_data",
          "data": {
            "text/plain": [
              "<Figure size 1152x576 with 6 Axes>"
            ],
            "image/png": "[encoded data removed]"
          },
          "metadata": {
            "needs_background": "light"
          }
        }
      ]
    },
    {
      "cell_type": "code",
      "source": [
        "model1 = LinearRegression()\n",
        "model2 = LinearRegression()\n",
        "model3 = LinearRegression()\n",
        "model4 = LinearRegression()\n",
        "model5 = LinearRegression()\n",
        "model6 = LinearRegression()"
      ],
      "metadata": {
        "id": "8EJJ-5YK4GlM"
      },
      "execution_count": 47,
      "outputs": []
    },
    {
      "cell_type": "code",
      "source": [
        "# Correlación de number_of_reviews vs host_acceptance_rate \n",
        "\n",
        "model1.fit(X = Vars_Indep1, y = Vars_Dep)\n",
        "model1.__dict__\n",
        "model1.score(Vars_Indep1, Vars_Dep)"
      ],
      "metadata": {
        "id": "q4bkiW0X4GlM",
        "colab": {
          "base_uri": "https://localhost:8080/"
        },
        "outputId": "08b5ec93-e579-469e-e2f1-9665cc80e451"
      },
      "execution_count": 48,
      "outputs": [
        {
          "output_type": "execute_result",
          "data": {
            "text/plain": [
              "0.036672607347529085"
            ]
          },
          "metadata": {},
          "execution_count": 48
        }
      ]
    },
    {
      "cell_type": "code",
      "source": [
        "# Correlación de number_of_reviews vs review_scores_rating \n",
        "\n",
        "model2.fit(X = Vars_Indep2, y = Vars_Dep)\n",
        "model2.__dict__\n",
        "model2.score(Vars_Indep2, Vars_Dep)"
      ],
      "metadata": {
        "id": "HRQzEjsb4GlM",
        "colab": {
          "base_uri": "https://localhost:8080/"
        },
        "outputId": "15758d4e-2070-45a1-b24a-642867b98dd6"
      },
      "execution_count": 49,
      "outputs": [
        {
          "output_type": "execute_result",
          "data": {
            "text/plain": [
              "9.743412821561215e-05"
            ]
          },
          "metadata": {},
          "execution_count": 49
        }
      ]
    },
    {
      "cell_type": "code",
      "source": [
        "# Correlación de number_of_reviews vs price \n",
        "\n",
        "model3.fit(X = Vars_Indep3, y = Vars_Dep)\n",
        "model3.__dict__\n",
        "model3.score(Vars_Indep3, Vars_Dep)"
      ],
      "metadata": {
        "id": "bGyt5gja4GlN",
        "colab": {
          "base_uri": "https://localhost:8080/"
        },
        "outputId": "46817f3c-34de-4b96-f201-5f2d6816dcdd"
      },
      "execution_count": 50,
      "outputs": [
        {
          "output_type": "execute_result",
          "data": {
            "text/plain": [
              "0.14961174188266135"
            ]
          },
          "metadata": {},
          "execution_count": 50
        }
      ]
    },
    {
      "cell_type": "code",
      "source": [
        "# Correlación de number_of_reviews vs review_scores_cleanliness \n",
        "\n",
        "model4.fit(X = Vars_Indep4, y = Vars_Dep)\n",
        "model4.__dict__\n",
        "model4.score(Vars_Indep4, Vars_Dep)"
      ],
      "metadata": {
        "id": "Vucz_xBM4GlN",
        "colab": {
          "base_uri": "https://localhost:8080/"
        },
        "outputId": "62e6409f-88a6-4f61-af8e-3c25f593b2f7"
      },
      "execution_count": 51,
      "outputs": [
        {
          "output_type": "execute_result",
          "data": {
            "text/plain": [
              "0.14265082142544916"
            ]
          },
          "metadata": {},
          "execution_count": 51
        }
      ]
    },
    {
      "cell_type": "code",
      "source": [
        "# Correlación de number_of_reviews vs availability_365\n",
        "\n",
        "model5.fit(X = Vars_Indep5, y = Vars_Dep)\n",
        "model5.__dict__\n",
        "model5.score(Vars_Indep5, Vars_Dep)"
      ],
      "metadata": {
        "id": "Trvlp5kE4GlN",
        "colab": {
          "base_uri": "https://localhost:8080/"
        },
        "outputId": "1ff803cd-15a3-4bcd-e441-5f6b8e3011a4"
      },
      "execution_count": 52,
      "outputs": [
        {
          "output_type": "execute_result",
          "data": {
            "text/plain": [
              "0.1685048201181535"
            ]
          },
          "metadata": {},
          "execution_count": 52
        }
      ]
    },
    {
      "cell_type": "code",
      "source": [
        "# Correlación de number_of_reviews vs review_scores_communication\n",
        "\n",
        "model6.fit(X = Vars_Indep6, y = Vars_Dep)\n",
        "model6.__dict__\n",
        "model6.score(Vars_Indep6, Vars_Dep)"
      ],
      "metadata": {
        "id": "7qbfN5UD4GlN",
        "colab": {
          "base_uri": "https://localhost:8080/"
        },
        "outputId": "4438afb4-4842-4f03-a7b8-5d69e0f0e93f"
      },
      "execution_count": 53,
      "outputs": [
        {
          "output_type": "execute_result",
          "data": {
            "text/plain": [
              "0.027904067194022275"
            ]
          },
          "metadata": {},
          "execution_count": 53
        }
      ]
    },
    {
      "cell_type": "markdown",
      "source": [
        "#Creación del modelo predictivo"
      ],
      "metadata": {
        "id": "aZEF8vCMvgaK"
      }
    },
    {
      "cell_type": "code",
      "source": [
        "from sklearn.linear_model import LinearRegression"
      ],
      "metadata": {
        "id": "g7-P1rgnv1Wv"
      },
      "execution_count": null,
      "outputs": []
    },
    {
      "cell_type": "markdown",
      "source": [
        "##Entire home/apt"
      ],
      "metadata": {
        "id": "7B8sE0Uxvuce"
      }
    },
    {
      "cell_type": "code",
      "source": [
        "#Declaramos las variables dependientes e independientes para la regresión lineal\n",
        "Vars_Indep_EntHom= EntireHome[['review_scores_rating','review_scores_cleanliness']]\n",
        "Var_Dep_EntHom= EntireHome['number_of_reviews']\n",
        "\n",
        "#Se define model como la función de regresión lineal\n",
        "from sklearn.linear_model import LinearRegression\n",
        "modelEntHom= LinearRegression()\n",
        "#Ajustamos el modelo con las variables antes declaradas\n",
        "modelEntHom.fit(X=Vars_Indep_EntHom, y=Var_Dep_EntHom)\n",
        "\n",
        "#Verificamos los coeficientes obtenidos para el modelo ajustado\n",
        "modelEntHom.__dict__\n",
        "\n",
        "#Predecimos los valores de total de number_of_reviews a partir de las variables: 'review_scores_rating','review_scores_cleanliness'\n",
        "y_pred_EntHom= modelEntHom.predict(X=EntireHome[['review_scores_rating','review_scores_cleanliness']])\n",
        "y_pred_EntHom\n",
        "\n",
        "#Insertamos la columna de predicciones en el DataFrame\n",
        "EntireHome.insert(0, 'Predicciones_EntireHome', y_pred_EntHom)\n",
        "EntireHome\n",
        "\n",
        "#Corroboramos cual es el coeficiente de Determinación de nuestro modelo\n",
        "coef_Deter_EntHom=modelEntHom.score(X=Vars_Indep_EntHom, y=Var_Dep_EntHom)\n",
        "print(\"Coeficiente de Determinación: \", coef_Deter_EntHom)\n",
        "\n",
        "#Corroboramos cual es el coeficiente de Correlación de nuestro modelo\n",
        "coef_Correl_EntHome=np.sqrt(coef_Deter_EntHom)\n",
        "print(\"Coeficiente de Correlación: \", coef_Correl_EntHome)"
      ],
      "metadata": {
        "id": "OozVD3cEg0St",
        "colab": {
          "base_uri": "https://localhost:8080/"
        },
        "outputId": "3b443432-6267-406a-dc9c-7aa41f6b7d2a"
      },
      "execution_count": 33,
      "outputs": [
        {
          "output_type": "stream",
          "name": "stdout",
          "text": [
            "Coeficiente de Determinación:  0.04691614677506184\n",
            "Coeficiente de Correlación:  0.21660135450883458\n"
          ]
        }
      ]
    },
    {
      "cell_type": "markdown",
      "source": [
        "##Private room"
      ],
      "metadata": {
        "id": "A1Pnn8X70ifP"
      }
    },
    {
      "cell_type": "code",
      "source": [
        "#Declaramos las variables dependientes e independientes para la regresión lineal\n",
        "Vars_Indep_PrivRoom= PrivateRoom[['review_scores_rating', 'availability_365', 'review_scores_communication']]\n",
        "Var_Dep_PrivRoom= PrivateRoom['number_of_reviews']\n",
        "\n",
        "#Se define model como la función de regresión lineal\n",
        "from sklearn.linear_model import LinearRegression\n",
        "modelPrivRoom= LinearRegression()\n",
        "#Ajustamos el modelo con las variables antes declaradas\n",
        "modelPrivRoom.fit(X=Vars_Indep_PrivRoom, y=Var_Dep_PrivRoom)\n",
        "\n",
        "#Verificamos los coeficientes obtenidos para el modelo ajustado\n",
        "modelPrivRoom.__dict__\n",
        "\n",
        "#Predecimos los valores de total de number_of_reviews a partir de las variables: 'review_scores_rating', 'availability_3650', 'review_scores_communication'\n",
        "y_pred_PrivRoom= modelPrivRoom.predict(X=PrivateRoom[['review_scores_rating', 'availability_365', 'review_scores_communication']])\n",
        "y_pred_PrivRoom\n",
        "\n",
        "#Insertamos la columna de predicciones en el DataFrame\n",
        "PrivateRoom.insert(0, 'Predicciones_PrivateRoom', y_pred_PrivRoom)\n",
        "PrivateRoom\n",
        "\n",
        "#Corroboramos cual es el coeficiente de Determinación de nuestro modelo\n",
        "coef_Deter_PrivRoom=modelPrivRoom.score(X=Vars_Indep_PrivRoom, y=Var_Dep_PrivRoom)\n",
        "print(\"Coeficiente de Determinación: \", coef_Deter_PrivRoom)\n",
        "\n",
        "#Corroboramos cual es el coeficiente de Correlación de nuestro modelo\n",
        "coef_Correl_PrivRoom=np.sqrt(coef_Deter_PrivRoom)\n",
        "print(\"Coeficiente de Correlación: \", coef_Correl_PrivRoom)"
      ],
      "metadata": {
        "id": "irs_UPb5mzxI",
        "colab": {
          "base_uri": "https://localhost:8080/"
        },
        "outputId": "867a9b7c-27f1-44ad-9c59-838f3c00816d"
      },
      "execution_count": 44,
      "outputs": [
        {
          "output_type": "stream",
          "name": "stdout",
          "text": [
            "Coeficiente de Determinación:  0.04279004472491843\n",
            "Coeficiente de Correlación:  0.2068575469373028\n"
          ]
        }
      ]
    },
    {
      "cell_type": "markdown",
      "source": [
        "##Shared room"
      ],
      "metadata": {
        "id": "bLfZuo_Q3SYp"
      }
    },
    {
      "cell_type": "code",
      "source": [
        "#Declaramos las variables dependientes e independientes para la regresión lineal\n",
        "Vars_Indep_SharedRoom= SharedRoom[['price', 'review_scores_cleanliness', 'availability_365']]\n",
        "Var_Dep_SharedRoom= SharedRoom['number_of_reviews']\n",
        "\n",
        "#Se define model como la función de regresión lineal\n",
        "from sklearn.linear_model import LinearRegression\n",
        "modelSharedRoom= LinearRegression()\n",
        "#Ajustamos el modelo con las variables antes declaradas\n",
        "modelSharedRoom.fit(X=Vars_Indep_SharedRoom, y=Var_Dep_SharedRoom)\n",
        "\n",
        "#Verificamos los coeficientes obtenidos para el modelo ajustado\n",
        "modelSharedRoom.__dict__\n",
        "\n",
        "#Predecimos los valores de total de number_of_reviews a partir de las variables: 'price', 'review_scores_cleanliness', 'availability_365'\n",
        "y_pred_SharedRoom= modelSharedRoom.predict(X=SharedRoom[['price', 'review_scores_cleanliness', 'availability_365']])\n",
        "y_pred_SharedRoom\n",
        "\n",
        "#Insertamos la columna de predicciones en el DataFrame\n",
        "SharedRoom.insert(0, 'Predicciones_SharedRoom', y_pred_SharedRoom)\n",
        "SharedRoom\n",
        "\n",
        "#Corroboramos cual es el coeficiente de Determinación de nuestro modelo\n",
        "coef_Deter_SharedRoom=modelSharedRoom.score(X=Vars_Indep_SharedRoom, y=Var_Dep_SharedRoom)\n",
        "print(\"Coeficiente de Determinación: \", coef_Deter_SharedRoom)\n",
        "\n",
        "#Corroboramos cual es el coeficiente de Correlación de nuestro modelo\n",
        "coef_Correl_SharedRoom=np.sqrt(coef_Deter_SharedRoom)\n",
        "print(\"Coeficiente de Correlación: \", coef_Correl_SharedRoom)"
      ],
      "metadata": {
        "id": "xVvXJ2z6oP2p",
        "colab": {
          "base_uri": "https://localhost:8080/"
        },
        "outputId": "3d801642-bb4e-4b0c-a72e-681ce5d6342b"
      },
      "execution_count": 54,
      "outputs": [
        {
          "output_type": "stream",
          "name": "stdout",
          "text": [
            "Coeficiente de Determinación:  0.2632881302787117\n",
            "Coeficiente de Correlación:  0.5131160982455254\n"
          ]
        }
      ]
    },
    {
      "cell_type": "markdown",
      "source": [
        "# Tablas de correlación y determinación"
      ],
      "metadata": {
        "id": "sCEoay6f6qvq"
      }
    },
    {
      "cell_type": "markdown",
      "source": [
        "##Entire home/apt"
      ],
      "metadata": {
        "id": "Z0jFt2FN6zSL"
      }
    },
    {
      "cell_type": "code",
      "source": [
        "#Tabla de correlación\n",
        "\n",
        "Corr_factoresEntireHome=EntireHome.corr()\n",
        "Corr_factoresEntireHome"
      ],
      "metadata": {
        "colab": {
          "base_uri": "https://localhost:8080/",
          "height": 332
        },
        "id": "UhEeswtn64hl",
        "outputId": "e7046c40-e65f-4f7d-e6ba-845e6abeb85c"
      },
      "execution_count": 55,
      "outputs": [
        {
          "output_type": "execute_result",
          "data": {
            "text/plain": [
              "                             Predicciones_EntireHome  host_acceptance_rate  \\\n",
              "Predicciones_EntireHome                     1.000000              0.073027   \n",
              "host_acceptance_rate                        0.073027              1.000000   \n",
              "review_scores_rating                       -0.992471             -0.081236   \n",
              "price                                      -0.079887             -0.016178   \n",
              "review_scores_cleanliness                  -0.688802              0.001535   \n",
              "availability_365                            0.084881             -0.020611   \n",
              "review_scores_communication                -0.536688             -0.048468   \n",
              "room_type                                        NaN                   NaN   \n",
              "number_of_reviews                           0.216601              0.132134   \n",
              "\n",
              "                             review_scores_rating     price  \\\n",
              "Predicciones_EntireHome                 -0.992471 -0.079887   \n",
              "host_acceptance_rate                    -0.081236 -0.016178   \n",
              "review_scores_rating                     1.000000  0.077637   \n",
              "price                                    0.077637  1.000000   \n",
              "review_scores_cleanliness                0.594822  0.064782   \n",
              "availability_365                        -0.088048  0.019127   \n",
              "review_scores_communication              0.527860  0.038552   \n",
              "room_type                                     NaN       NaN   \n",
              "number_of_reviews                       -0.214970  0.015187   \n",
              "\n",
              "                             review_scores_cleanliness  availability_365  \\\n",
              "Predicciones_EntireHome                      -0.688802          0.084881   \n",
              "host_acceptance_rate                          0.001535         -0.020611   \n",
              "review_scores_rating                          0.594822         -0.088048   \n",
              "price                                         0.064782          0.019127   \n",
              "review_scores_cleanliness                     1.000000         -0.035940   \n",
              "availability_365                             -0.035940          1.000000   \n",
              "review_scores_communication                   0.398008         -0.072671   \n",
              "room_type                                          NaN               NaN   \n",
              "number_of_reviews                            -0.149195         -0.009161   \n",
              "\n",
              "                             review_scores_communication  room_type  \\\n",
              "Predicciones_EntireHome                        -0.536688        NaN   \n",
              "host_acceptance_rate                           -0.048468        NaN   \n",
              "review_scores_rating                            0.527860        NaN   \n",
              "price                                           0.038552        NaN   \n",
              "review_scores_cleanliness                       0.398008        NaN   \n",
              "availability_365                               -0.072671        NaN   \n",
              "review_scores_communication                     1.000000        NaN   \n",
              "room_type                                            NaN        NaN   \n",
              "number_of_reviews                              -0.194260        NaN   \n",
              "\n",
              "                             number_of_reviews  \n",
              "Predicciones_EntireHome               0.216601  \n",
              "host_acceptance_rate                  0.132134  \n",
              "review_scores_rating                 -0.214970  \n",
              "price                                 0.015187  \n",
              "review_scores_cleanliness            -0.149195  \n",
              "availability_365                     -0.009161  \n",
              "review_scores_communication          -0.194260  \n",
              "room_type                                  NaN  \n",
              "number_of_reviews                     1.000000  "
            ],
            "text/html": [
              "\n",
              "  <div id=\"df-dfd10a91-b91e-47df-a457-01e3027b1e4b\">\n",
              "    <div class=\"colab-df-container\">\n",
              "      <div>\n",
              "<style scoped>\n",
              "    .dataframe tbody tr th:only-of-type {\n",
              "        vertical-align: middle;\n",
              "    }\n",
              "\n",
              "    .dataframe tbody tr th {\n",
              "        vertical-align: top;\n",
              "    }\n",
              "\n",
              "    .dataframe thead th {\n",
              "        text-align: right;\n",
              "    }\n",
              "</style>\n",
              "<table border=\"1\" class=\"dataframe\">\n",
              "  <thead>\n",
              "    <tr style=\"text-align: right;\">\n",
              "      <th></th>\n",
              "      <th>Predicciones_EntireHome</th>\n",
              "      <th>host_acceptance_rate</th>\n",
              "      <th>review_scores_rating</th>\n",
              "      <th>price</th>\n",
              "      <th>review_scores_cleanliness</th>\n",
              "      <th>availability_365</th>\n",
              "      <th>review_scores_communication</th>\n",
              "      <th>room_type</th>\n",
              "      <th>number_of_reviews</th>\n",
              "    </tr>\n",
              "  </thead>\n",
              "  <tbody>\n",
              "    <tr>\n",
              "      <th>Predicciones_EntireHome</th>\n",
              "      <td>1.000000</td>\n",
              "      <td>0.073027</td>\n",
              "      <td>-0.992471</td>\n",
              "      <td>-0.079887</td>\n",
              "      <td>-0.688802</td>\n",
              "      <td>0.084881</td>\n",
              "      <td>-0.536688</td>\n",
              "      <td>NaN</td>\n",
              "      <td>0.216601</td>\n",
              "    </tr>\n",
              "    <tr>\n",
              "      <th>host_acceptance_rate</th>\n",
              "      <td>0.073027</td>\n",
              "      <td>1.000000</td>\n",
              "      <td>-0.081236</td>\n",
              "      <td>-0.016178</td>\n",
              "      <td>0.001535</td>\n",
              "      <td>-0.020611</td>\n",
              "      <td>-0.048468</td>\n",
              "      <td>NaN</td>\n",
              "      <td>0.132134</td>\n",
              "    </tr>\n",
              "    <tr>\n",
              "      <th>review_scores_rating</th>\n",
              "      <td>-0.992471</td>\n",
              "      <td>-0.081236</td>\n",
              "      <td>1.000000</td>\n",
              "      <td>0.077637</td>\n",
              "      <td>0.594822</td>\n",
              "      <td>-0.088048</td>\n",
              "      <td>0.527860</td>\n",
              "      <td>NaN</td>\n",
              "      <td>-0.214970</td>\n",
              "    </tr>\n",
              "    <tr>\n",
              "      <th>price</th>\n",
              "      <td>-0.079887</td>\n",
              "      <td>-0.016178</td>\n",
              "      <td>0.077637</td>\n",
              "      <td>1.000000</td>\n",
              "      <td>0.064782</td>\n",
              "      <td>0.019127</td>\n",
              "      <td>0.038552</td>\n",
              "      <td>NaN</td>\n",
              "      <td>0.015187</td>\n",
              "    </tr>\n",
              "    <tr>\n",
              "      <th>review_scores_cleanliness</th>\n",
              "      <td>-0.688802</td>\n",
              "      <td>0.001535</td>\n",
              "      <td>0.594822</td>\n",
              "      <td>0.064782</td>\n",
              "      <td>1.000000</td>\n",
              "      <td>-0.035940</td>\n",
              "      <td>0.398008</td>\n",
              "      <td>NaN</td>\n",
              "      <td>-0.149195</td>\n",
              "    </tr>\n",
              "    <tr>\n",
              "      <th>availability_365</th>\n",
              "      <td>0.084881</td>\n",
              "      <td>-0.020611</td>\n",
              "      <td>-0.088048</td>\n",
              "      <td>0.019127</td>\n",
              "      <td>-0.035940</td>\n",
              "      <td>1.000000</td>\n",
              "      <td>-0.072671</td>\n",
              "      <td>NaN</td>\n",
              "      <td>-0.009161</td>\n",
              "    </tr>\n",
              "    <tr>\n",
              "      <th>review_scores_communication</th>\n",
              "      <td>-0.536688</td>\n",
              "      <td>-0.048468</td>\n",
              "      <td>0.527860</td>\n",
              "      <td>0.038552</td>\n",
              "      <td>0.398008</td>\n",
              "      <td>-0.072671</td>\n",
              "      <td>1.000000</td>\n",
              "      <td>NaN</td>\n",
              "      <td>-0.194260</td>\n",
              "    </tr>\n",
              "    <tr>\n",
              "      <th>room_type</th>\n",
              "      <td>NaN</td>\n",
              "      <td>NaN</td>\n",
              "      <td>NaN</td>\n",
              "      <td>NaN</td>\n",
              "      <td>NaN</td>\n",
              "      <td>NaN</td>\n",
              "      <td>NaN</td>\n",
              "      <td>NaN</td>\n",
              "      <td>NaN</td>\n",
              "    </tr>\n",
              "    <tr>\n",
              "      <th>number_of_reviews</th>\n",
              "      <td>0.216601</td>\n",
              "      <td>0.132134</td>\n",
              "      <td>-0.214970</td>\n",
              "      <td>0.015187</td>\n",
              "      <td>-0.149195</td>\n",
              "      <td>-0.009161</td>\n",
              "      <td>-0.194260</td>\n",
              "      <td>NaN</td>\n",
              "      <td>1.000000</td>\n",
              "    </tr>\n",
              "  </tbody>\n",
              "</table>\n",
              "</div>\n",
              "      <button class=\"colab-df-convert\" onclick=\"convertToInteractive('df-dfd10a91-b91e-47df-a457-01e3027b1e4b')\"\n",
              "              title=\"Convert this dataframe to an interactive table.\"\n",
              "              style=\"display:none;\">\n",
              "        \n",
              "  <svg xmlns=\"http://www.w3.org/2000/svg\" height=\"24px\"viewBox=\"0 0 24 24\"\n",
              "       width=\"24px\">\n",
              "    <path d=\"M0 0h24v24H0V0z\" fill=\"none\"/>\n",
              "    <path d=\"M18.56 5.44l.94 2.06.94-2.06 2.06-.94-2.06-.94-.94-2.06-.94 2.06-2.06.94zm-11 1L8.5 8.5l.94-2.06 2.06-.94-2.06-.94L8.5 2.5l-.94 2.06-2.06.94zm10 10l.94 2.06.94-2.06 2.06-.94-2.06-.94-.94-2.06-.94 2.06-2.06.94z\"/><path d=\"M17.41 7.96l-1.37-1.37c-.4-.4-.92-.59-1.43-.59-.52 0-1.04.2-1.43.59L10.3 9.45l-7.72 7.72c-.78.78-.78 2.05 0 2.83L4 21.41c.39.39.9.59 1.41.59.51 0 1.02-.2 1.41-.59l7.78-7.78 2.81-2.81c.8-.78.8-2.07 0-2.86zM5.41 20L4 18.59l7.72-7.72 1.47 1.35L5.41 20z\"/>\n",
              "  </svg>\n",
              "      </button>\n",
              "      \n",
              "  <style>\n",
              "    .colab-df-container {\n",
              "      display:flex;\n",
              "      flex-wrap:wrap;\n",
              "      gap: 12px;\n",
              "    }\n",
              "\n",
              "    .colab-df-convert {\n",
              "      background-color: #E8F0FE;\n",
              "      border: none;\n",
              "      border-radius: 50%;\n",
              "      cursor: pointer;\n",
              "      display: none;\n",
              "      fill: #1967D2;\n",
              "      height: 32px;\n",
              "      padding: 0 0 0 0;\n",
              "      width: 32px;\n",
              "    }\n",
              "\n",
              "    .colab-df-convert:hover {\n",
              "      background-color: #E2EBFA;\n",
              "      box-shadow: 0px 1px 2px rgba(60, 64, 67, 0.3), 0px 1px 3px 1px rgba(60, 64, 67, 0.15);\n",
              "      fill: #174EA6;\n",
              "    }\n",
              "\n",
              "    [theme=dark] .colab-df-convert {\n",
              "      background-color: #3B4455;\n",
              "      fill: #D2E3FC;\n",
              "    }\n",
              "\n",
              "    [theme=dark] .colab-df-convert:hover {\n",
              "      background-color: #434B5C;\n",
              "      box-shadow: 0px 1px 3px 1px rgba(0, 0, 0, 0.15);\n",
              "      filter: drop-shadow(0px 1px 2px rgba(0, 0, 0, 0.3));\n",
              "      fill: #FFFFFF;\n",
              "    }\n",
              "  </style>\n",
              "\n",
              "      <script>\n",
              "        const buttonEl =\n",
              "          document.querySelector('#df-dfd10a91-b91e-47df-a457-01e3027b1e4b button.colab-df-convert');\n",
              "        buttonEl.style.display =\n",
              "          google.colab.kernel.accessAllowed ? 'block' : 'none';\n",
              "\n",
              "        async function convertToInteractive(key) {\n",
              "          const element = document.querySelector('#df-dfd10a91-b91e-47df-a457-01e3027b1e4b');\n",
              "          const dataTable =\n",
              "            await google.colab.kernel.invokeFunction('convertToInteractive',\n",
              "                                                     [key], {});\n",
              "          if (!dataTable) return;\n",
              "\n",
              "          const docLinkHtml = 'Like what you see? Visit the ' +\n",
              "            '<a target=\"_blank\" href=https://colab.research.google.com/notebooks/data_table.ipynb>data table notebook</a>'\n",
              "            + ' to learn more about interactive tables.';\n",
              "          element.innerHTML = '';\n",
              "          dataTable['output_type'] = 'display_data';\n",
              "          await google.colab.output.renderOutput(dataTable, element);\n",
              "          const docLink = document.createElement('div');\n",
              "          docLink.innerHTML = docLinkHtml;\n",
              "          element.appendChild(docLink);\n",
              "        }\n",
              "      </script>\n",
              "    </div>\n",
              "  </div>\n",
              "  "
            ]
          },
          "metadata": {},
          "execution_count": 55
        }
      ]
    },
    {
      "cell_type": "code",
      "source": [
        "#Tabla de determinación\n",
        "\n",
        "Det_factoresEntireHome=(EntireHome.corr())**2\n",
        "Det_factoresEntireHome"
      ],
      "metadata": {
        "colab": {
          "base_uri": "https://localhost:8080/",
          "height": 332
        },
        "id": "28WAdpFCNWiQ",
        "outputId": "d7219101-d543-48f3-88a1-9c3e7084b802"
      },
      "execution_count": 56,
      "outputs": [
        {
          "output_type": "execute_result",
          "data": {
            "text/plain": [
              "                             Predicciones_EntireHome  host_acceptance_rate  \\\n",
              "Predicciones_EntireHome                     1.000000              0.005333   \n",
              "host_acceptance_rate                        0.005333              1.000000   \n",
              "review_scores_rating                        0.984998              0.006599   \n",
              "price                                       0.006382              0.000262   \n",
              "review_scores_cleanliness                   0.474448              0.000002   \n",
              "availability_365                            0.007205              0.000425   \n",
              "review_scores_communication                 0.288034              0.002349   \n",
              "room_type                                        NaN                   NaN   \n",
              "number_of_reviews                           0.046916              0.017459   \n",
              "\n",
              "                             review_scores_rating     price  \\\n",
              "Predicciones_EntireHome                  0.984998  0.006382   \n",
              "host_acceptance_rate                     0.006599  0.000262   \n",
              "review_scores_rating                     1.000000  0.006027   \n",
              "price                                    0.006027  1.000000   \n",
              "review_scores_cleanliness                0.353813  0.004197   \n",
              "availability_365                         0.007752  0.000366   \n",
              "review_scores_communication              0.278636  0.001486   \n",
              "room_type                                     NaN       NaN   \n",
              "number_of_reviews                        0.046212  0.000231   \n",
              "\n",
              "                             review_scores_cleanliness  availability_365  \\\n",
              "Predicciones_EntireHome                       0.474448          0.007205   \n",
              "host_acceptance_rate                          0.000002          0.000425   \n",
              "review_scores_rating                          0.353813          0.007752   \n",
              "price                                         0.004197          0.000366   \n",
              "review_scores_cleanliness                     1.000000          0.001292   \n",
              "availability_365                              0.001292          1.000000   \n",
              "review_scores_communication                   0.158411          0.005281   \n",
              "room_type                                          NaN               NaN   \n",
              "number_of_reviews                             0.022259          0.000084   \n",
              "\n",
              "                             review_scores_communication  room_type  \\\n",
              "Predicciones_EntireHome                         0.288034        NaN   \n",
              "host_acceptance_rate                            0.002349        NaN   \n",
              "review_scores_rating                            0.278636        NaN   \n",
              "price                                           0.001486        NaN   \n",
              "review_scores_cleanliness                       0.158411        NaN   \n",
              "availability_365                                0.005281        NaN   \n",
              "review_scores_communication                     1.000000        NaN   \n",
              "room_type                                            NaN        NaN   \n",
              "number_of_reviews                               0.037737        NaN   \n",
              "\n",
              "                             number_of_reviews  \n",
              "Predicciones_EntireHome               0.046916  \n",
              "host_acceptance_rate                  0.017459  \n",
              "review_scores_rating                  0.046212  \n",
              "price                                 0.000231  \n",
              "review_scores_cleanliness             0.022259  \n",
              "availability_365                      0.000084  \n",
              "review_scores_communication           0.037737  \n",
              "room_type                                  NaN  \n",
              "number_of_reviews                     1.000000  "
            ],
            "text/html": [
              "\n",
              "  <div id=\"df-3daa6d00-63c7-442b-bb1a-eb85df78754a\">\n",
              "    <div class=\"colab-df-container\">\n",
              "      <div>\n",
              "<style scoped>\n",
              "    .dataframe tbody tr th:only-of-type {\n",
              "        vertical-align: middle;\n",
              "    }\n",
              "\n",
              "    .dataframe tbody tr th {\n",
              "        vertical-align: top;\n",
              "    }\n",
              "\n",
              "    .dataframe thead th {\n",
              "        text-align: right;\n",
              "    }\n",
              "</style>\n",
              "<table border=\"1\" class=\"dataframe\">\n",
              "  <thead>\n",
              "    <tr style=\"text-align: right;\">\n",
              "      <th></th>\n",
              "      <th>Predicciones_EntireHome</th>\n",
              "      <th>host_acceptance_rate</th>\n",
              "      <th>review_scores_rating</th>\n",
              "      <th>price</th>\n",
              "      <th>review_scores_cleanliness</th>\n",
              "      <th>availability_365</th>\n",
              "      <th>review_scores_communication</th>\n",
              "      <th>room_type</th>\n",
              "      <th>number_of_reviews</th>\n",
              "    </tr>\n",
              "  </thead>\n",
              "  <tbody>\n",
              "    <tr>\n",
              "      <th>Predicciones_EntireHome</th>\n",
              "      <td>1.000000</td>\n",
              "      <td>0.005333</td>\n",
              "      <td>0.984998</td>\n",
              "      <td>0.006382</td>\n",
              "      <td>0.474448</td>\n",
              "      <td>0.007205</td>\n",
              "      <td>0.288034</td>\n",
              "      <td>NaN</td>\n",
              "      <td>0.046916</td>\n",
              "    </tr>\n",
              "    <tr>\n",
              "      <th>host_acceptance_rate</th>\n",
              "      <td>0.005333</td>\n",
              "      <td>1.000000</td>\n",
              "      <td>0.006599</td>\n",
              "      <td>0.000262</td>\n",
              "      <td>0.000002</td>\n",
              "      <td>0.000425</td>\n",
              "      <td>0.002349</td>\n",
              "      <td>NaN</td>\n",
              "      <td>0.017459</td>\n",
              "    </tr>\n",
              "    <tr>\n",
              "      <th>review_scores_rating</th>\n",
              "      <td>0.984998</td>\n",
              "      <td>0.006599</td>\n",
              "      <td>1.000000</td>\n",
              "      <td>0.006027</td>\n",
              "      <td>0.353813</td>\n",
              "      <td>0.007752</td>\n",
              "      <td>0.278636</td>\n",
              "      <td>NaN</td>\n",
              "      <td>0.046212</td>\n",
              "    </tr>\n",
              "    <tr>\n",
              "      <th>price</th>\n",
              "      <td>0.006382</td>\n",
              "      <td>0.000262</td>\n",
              "      <td>0.006027</td>\n",
              "      <td>1.000000</td>\n",
              "      <td>0.004197</td>\n",
              "      <td>0.000366</td>\n",
              "      <td>0.001486</td>\n",
              "      <td>NaN</td>\n",
              "      <td>0.000231</td>\n",
              "    </tr>\n",
              "    <tr>\n",
              "      <th>review_scores_cleanliness</th>\n",
              "      <td>0.474448</td>\n",
              "      <td>0.000002</td>\n",
              "      <td>0.353813</td>\n",
              "      <td>0.004197</td>\n",
              "      <td>1.000000</td>\n",
              "      <td>0.001292</td>\n",
              "      <td>0.158411</td>\n",
              "      <td>NaN</td>\n",
              "      <td>0.022259</td>\n",
              "    </tr>\n",
              "    <tr>\n",
              "      <th>availability_365</th>\n",
              "      <td>0.007205</td>\n",
              "      <td>0.000425</td>\n",
              "      <td>0.007752</td>\n",
              "      <td>0.000366</td>\n",
              "      <td>0.001292</td>\n",
              "      <td>1.000000</td>\n",
              "      <td>0.005281</td>\n",
              "      <td>NaN</td>\n",
              "      <td>0.000084</td>\n",
              "    </tr>\n",
              "    <tr>\n",
              "      <th>review_scores_communication</th>\n",
              "      <td>0.288034</td>\n",
              "      <td>0.002349</td>\n",
              "      <td>0.278636</td>\n",
              "      <td>0.001486</td>\n",
              "      <td>0.158411</td>\n",
              "      <td>0.005281</td>\n",
              "      <td>1.000000</td>\n",
              "      <td>NaN</td>\n",
              "      <td>0.037737</td>\n",
              "    </tr>\n",
              "    <tr>\n",
              "      <th>room_type</th>\n",
              "      <td>NaN</td>\n",
              "      <td>NaN</td>\n",
              "      <td>NaN</td>\n",
              "      <td>NaN</td>\n",
              "      <td>NaN</td>\n",
              "      <td>NaN</td>\n",
              "      <td>NaN</td>\n",
              "      <td>NaN</td>\n",
              "      <td>NaN</td>\n",
              "    </tr>\n",
              "    <tr>\n",
              "      <th>number_of_reviews</th>\n",
              "      <td>0.046916</td>\n",
              "      <td>0.017459</td>\n",
              "      <td>0.046212</td>\n",
              "      <td>0.000231</td>\n",
              "      <td>0.022259</td>\n",
              "      <td>0.000084</td>\n",
              "      <td>0.037737</td>\n",
              "      <td>NaN</td>\n",
              "      <td>1.000000</td>\n",
              "    </tr>\n",
              "  </tbody>\n",
              "</table>\n",
              "</div>\n",
              "      <button class=\"colab-df-convert\" onclick=\"convertToInteractive('df-3daa6d00-63c7-442b-bb1a-eb85df78754a')\"\n",
              "              title=\"Convert this dataframe to an interactive table.\"\n",
              "              style=\"display:none;\">\n",
              "        \n",
              "  <svg xmlns=\"http://www.w3.org/2000/svg\" height=\"24px\"viewBox=\"0 0 24 24\"\n",
              "       width=\"24px\">\n",
              "    <path d=\"M0 0h24v24H0V0z\" fill=\"none\"/>\n",
              "    <path d=\"M18.56 5.44l.94 2.06.94-2.06 2.06-.94-2.06-.94-.94-2.06-.94 2.06-2.06.94zm-11 1L8.5 8.5l.94-2.06 2.06-.94-2.06-.94L8.5 2.5l-.94 2.06-2.06.94zm10 10l.94 2.06.94-2.06 2.06-.94-2.06-.94-.94-2.06-.94 2.06-2.06.94z\"/><path d=\"M17.41 7.96l-1.37-1.37c-.4-.4-.92-.59-1.43-.59-.52 0-1.04.2-1.43.59L10.3 9.45l-7.72 7.72c-.78.78-.78 2.05 0 2.83L4 21.41c.39.39.9.59 1.41.59.51 0 1.02-.2 1.41-.59l7.78-7.78 2.81-2.81c.8-.78.8-2.07 0-2.86zM5.41 20L4 18.59l7.72-7.72 1.47 1.35L5.41 20z\"/>\n",
              "  </svg>\n",
              "      </button>\n",
              "      \n",
              "  <style>\n",
              "    .colab-df-container {\n",
              "      display:flex;\n",
              "      flex-wrap:wrap;\n",
              "      gap: 12px;\n",
              "    }\n",
              "\n",
              "    .colab-df-convert {\n",
              "      background-color: #E8F0FE;\n",
              "      border: none;\n",
              "      border-radius: 50%;\n",
              "      cursor: pointer;\n",
              "      display: none;\n",
              "      fill: #1967D2;\n",
              "      height: 32px;\n",
              "      padding: 0 0 0 0;\n",
              "      width: 32px;\n",
              "    }\n",
              "\n",
              "    .colab-df-convert:hover {\n",
              "      background-color: #E2EBFA;\n",
              "      box-shadow: 0px 1px 2px rgba(60, 64, 67, 0.3), 0px 1px 3px 1px rgba(60, 64, 67, 0.15);\n",
              "      fill: #174EA6;\n",
              "    }\n",
              "\n",
              "    [theme=dark] .colab-df-convert {\n",
              "      background-color: #3B4455;\n",
              "      fill: #D2E3FC;\n",
              "    }\n",
              "\n",
              "    [theme=dark] .colab-df-convert:hover {\n",
              "      background-color: #434B5C;\n",
              "      box-shadow: 0px 1px 3px 1px rgba(0, 0, 0, 0.15);\n",
              "      filter: drop-shadow(0px 1px 2px rgba(0, 0, 0, 0.3));\n",
              "      fill: #FFFFFF;\n",
              "    }\n",
              "  </style>\n",
              "\n",
              "      <script>\n",
              "        const buttonEl =\n",
              "          document.querySelector('#df-3daa6d00-63c7-442b-bb1a-eb85df78754a button.colab-df-convert');\n",
              "        buttonEl.style.display =\n",
              "          google.colab.kernel.accessAllowed ? 'block' : 'none';\n",
              "\n",
              "        async function convertToInteractive(key) {\n",
              "          const element = document.querySelector('#df-3daa6d00-63c7-442b-bb1a-eb85df78754a');\n",
              "          const dataTable =\n",
              "            await google.colab.kernel.invokeFunction('convertToInteractive',\n",
              "                                                     [key], {});\n",
              "          if (!dataTable) return;\n",
              "\n",
              "          const docLinkHtml = 'Like what you see? Visit the ' +\n",
              "            '<a target=\"_blank\" href=https://colab.research.google.com/notebooks/data_table.ipynb>data table notebook</a>'\n",
              "            + ' to learn more about interactive tables.';\n",
              "          element.innerHTML = '';\n",
              "          dataTable['output_type'] = 'display_data';\n",
              "          await google.colab.output.renderOutput(dataTable, element);\n",
              "          const docLink = document.createElement('div');\n",
              "          docLink.innerHTML = docLinkHtml;\n",
              "          element.appendChild(docLink);\n",
              "        }\n",
              "      </script>\n",
              "    </div>\n",
              "  </div>\n",
              "  "
            ]
          },
          "metadata": {},
          "execution_count": 56
        }
      ]
    },
    {
      "cell_type": "markdown",
      "source": [
        "## Private room"
      ],
      "metadata": {
        "id": "q6g4tlj36wC5"
      }
    },
    {
      "cell_type": "code",
      "source": [
        "#Tabla de correlación\n",
        "\n",
        "Corr_factoresPrivRoom=PrivateRoom.corr()\n",
        "Corr_factoresPrivRoom"
      ],
      "metadata": {
        "id": "jl4yzYUD7JTv",
        "colab": {
          "base_uri": "https://localhost:8080/",
          "height": 332
        },
        "outputId": "388812ea-6e35-4948-b2c0-2d63cfd51e09"
      },
      "execution_count": 57,
      "outputs": [
        {
          "output_type": "execute_result",
          "data": {
            "text/plain": [
              "                             Predicciones_PrivateRoom  host_acceptance_rate  \\\n",
              "Predicciones_PrivateRoom                     1.000000              0.088140   \n",
              "host_acceptance_rate                         0.088140              1.000000   \n",
              "review_scores_rating                        -0.653934             -0.043562   \n",
              "price                                       -0.032219             -0.024675   \n",
              "review_scores_cleanliness                   -0.403042             -0.004043   \n",
              "availability_365                            -0.593913             -0.041801   \n",
              "review_scores_communication                 -0.735566             -0.086383   \n",
              "room_type                                         NaN                   NaN   \n",
              "number_of_reviews                            0.206858              0.057586   \n",
              "\n",
              "                             review_scores_rating     price  \\\n",
              "Predicciones_PrivateRoom                -0.653934 -0.032219   \n",
              "host_acceptance_rate                    -0.043562 -0.024675   \n",
              "review_scores_rating                     1.000000  0.017231   \n",
              "price                                    0.017231  1.000000   \n",
              "review_scores_cleanliness                0.579605  0.064617   \n",
              "availability_365                        -0.013255  0.037403   \n",
              "review_scores_communication              0.530967  0.005994   \n",
              "room_type                                     NaN       NaN   \n",
              "number_of_reviews                       -0.135271 -0.021587   \n",
              "\n",
              "                             review_scores_cleanliness  availability_365  \\\n",
              "Predicciones_PrivateRoom                     -0.403042         -0.593913   \n",
              "host_acceptance_rate                         -0.004043         -0.041801   \n",
              "review_scores_rating                          0.579605         -0.013255   \n",
              "price                                         0.064617          0.037403   \n",
              "review_scores_cleanliness                     1.000000         -0.009293   \n",
              "availability_365                             -0.009293          1.000000   \n",
              "review_scores_communication                   0.354045         -0.005773   \n",
              "room_type                                          NaN               NaN   \n",
              "number_of_reviews                            -0.099124         -0.122855   \n",
              "\n",
              "                             review_scores_communication  room_type  \\\n",
              "Predicciones_PrivateRoom                       -0.735566        NaN   \n",
              "host_acceptance_rate                           -0.086383        NaN   \n",
              "review_scores_rating                            0.530967        NaN   \n",
              "price                                           0.005994        NaN   \n",
              "review_scores_cleanliness                       0.354045        NaN   \n",
              "availability_365                               -0.005773        NaN   \n",
              "review_scores_communication                     1.000000        NaN   \n",
              "room_type                                            NaN        NaN   \n",
              "number_of_reviews                              -0.152157        NaN   \n",
              "\n",
              "                             number_of_reviews  \n",
              "Predicciones_PrivateRoom              0.206858  \n",
              "host_acceptance_rate                  0.057586  \n",
              "review_scores_rating                 -0.135271  \n",
              "price                                -0.021587  \n",
              "review_scores_cleanliness            -0.099124  \n",
              "availability_365                     -0.122855  \n",
              "review_scores_communication          -0.152157  \n",
              "room_type                                  NaN  \n",
              "number_of_reviews                     1.000000  "
            ],
            "text/html": [
              "\n",
              "  <div id=\"df-7ef4316c-c41a-4c6a-8703-b3f56b87b8a5\">\n",
              "    <div class=\"colab-df-container\">\n",
              "      <div>\n",
              "<style scoped>\n",
              "    .dataframe tbody tr th:only-of-type {\n",
              "        vertical-align: middle;\n",
              "    }\n",
              "\n",
              "    .dataframe tbody tr th {\n",
              "        vertical-align: top;\n",
              "    }\n",
              "\n",
              "    .dataframe thead th {\n",
              "        text-align: right;\n",
              "    }\n",
              "</style>\n",
              "<table border=\"1\" class=\"dataframe\">\n",
              "  <thead>\n",
              "    <tr style=\"text-align: right;\">\n",
              "      <th></th>\n",
              "      <th>Predicciones_PrivateRoom</th>\n",
              "      <th>host_acceptance_rate</th>\n",
              "      <th>review_scores_rating</th>\n",
              "      <th>price</th>\n",
              "      <th>review_scores_cleanliness</th>\n",
              "      <th>availability_365</th>\n",
              "      <th>review_scores_communication</th>\n",
              "      <th>room_type</th>\n",
              "      <th>number_of_reviews</th>\n",
              "    </tr>\n",
              "  </thead>\n",
              "  <tbody>\n",
              "    <tr>\n",
              "      <th>Predicciones_PrivateRoom</th>\n",
              "      <td>1.000000</td>\n",
              "      <td>0.088140</td>\n",
              "      <td>-0.653934</td>\n",
              "      <td>-0.032219</td>\n",
              "      <td>-0.403042</td>\n",
              "      <td>-0.593913</td>\n",
              "      <td>-0.735566</td>\n",
              "      <td>NaN</td>\n",
              "      <td>0.206858</td>\n",
              "    </tr>\n",
              "    <tr>\n",
              "      <th>host_acceptance_rate</th>\n",
              "      <td>0.088140</td>\n",
              "      <td>1.000000</td>\n",
              "      <td>-0.043562</td>\n",
              "      <td>-0.024675</td>\n",
              "      <td>-0.004043</td>\n",
              "      <td>-0.041801</td>\n",
              "      <td>-0.086383</td>\n",
              "      <td>NaN</td>\n",
              "      <td>0.057586</td>\n",
              "    </tr>\n",
              "    <tr>\n",
              "      <th>review_scores_rating</th>\n",
              "      <td>-0.653934</td>\n",
              "      <td>-0.043562</td>\n",
              "      <td>1.000000</td>\n",
              "      <td>0.017231</td>\n",
              "      <td>0.579605</td>\n",
              "      <td>-0.013255</td>\n",
              "      <td>0.530967</td>\n",
              "      <td>NaN</td>\n",
              "      <td>-0.135271</td>\n",
              "    </tr>\n",
              "    <tr>\n",
              "      <th>price</th>\n",
              "      <td>-0.032219</td>\n",
              "      <td>-0.024675</td>\n",
              "      <td>0.017231</td>\n",
              "      <td>1.000000</td>\n",
              "      <td>0.064617</td>\n",
              "      <td>0.037403</td>\n",
              "      <td>0.005994</td>\n",
              "      <td>NaN</td>\n",
              "      <td>-0.021587</td>\n",
              "    </tr>\n",
              "    <tr>\n",
              "      <th>review_scores_cleanliness</th>\n",
              "      <td>-0.403042</td>\n",
              "      <td>-0.004043</td>\n",
              "      <td>0.579605</td>\n",
              "      <td>0.064617</td>\n",
              "      <td>1.000000</td>\n",
              "      <td>-0.009293</td>\n",
              "      <td>0.354045</td>\n",
              "      <td>NaN</td>\n",
              "      <td>-0.099124</td>\n",
              "    </tr>\n",
              "    <tr>\n",
              "      <th>availability_365</th>\n",
              "      <td>-0.593913</td>\n",
              "      <td>-0.041801</td>\n",
              "      <td>-0.013255</td>\n",
              "      <td>0.037403</td>\n",
              "      <td>-0.009293</td>\n",
              "      <td>1.000000</td>\n",
              "      <td>-0.005773</td>\n",
              "      <td>NaN</td>\n",
              "      <td>-0.122855</td>\n",
              "    </tr>\n",
              "    <tr>\n",
              "      <th>review_scores_communication</th>\n",
              "      <td>-0.735566</td>\n",
              "      <td>-0.086383</td>\n",
              "      <td>0.530967</td>\n",
              "      <td>0.005994</td>\n",
              "      <td>0.354045</td>\n",
              "      <td>-0.005773</td>\n",
              "      <td>1.000000</td>\n",
              "      <td>NaN</td>\n",
              "      <td>-0.152157</td>\n",
              "    </tr>\n",
              "    <tr>\n",
              "      <th>room_type</th>\n",
              "      <td>NaN</td>\n",
              "      <td>NaN</td>\n",
              "      <td>NaN</td>\n",
              "      <td>NaN</td>\n",
              "      <td>NaN</td>\n",
              "      <td>NaN</td>\n",
              "      <td>NaN</td>\n",
              "      <td>NaN</td>\n",
              "      <td>NaN</td>\n",
              "    </tr>\n",
              "    <tr>\n",
              "      <th>number_of_reviews</th>\n",
              "      <td>0.206858</td>\n",
              "      <td>0.057586</td>\n",
              "      <td>-0.135271</td>\n",
              "      <td>-0.021587</td>\n",
              "      <td>-0.099124</td>\n",
              "      <td>-0.122855</td>\n",
              "      <td>-0.152157</td>\n",
              "      <td>NaN</td>\n",
              "      <td>1.000000</td>\n",
              "    </tr>\n",
              "  </tbody>\n",
              "</table>\n",
              "</div>\n",
              "      <button class=\"colab-df-convert\" onclick=\"convertToInteractive('df-7ef4316c-c41a-4c6a-8703-b3f56b87b8a5')\"\n",
              "              title=\"Convert this dataframe to an interactive table.\"\n",
              "              style=\"display:none;\">\n",
              "        \n",
              "  <svg xmlns=\"http://www.w3.org/2000/svg\" height=\"24px\"viewBox=\"0 0 24 24\"\n",
              "       width=\"24px\">\n",
              "    <path d=\"M0 0h24v24H0V0z\" fill=\"none\"/>\n",
              "    <path d=\"M18.56 5.44l.94 2.06.94-2.06 2.06-.94-2.06-.94-.94-2.06-.94 2.06-2.06.94zm-11 1L8.5 8.5l.94-2.06 2.06-.94-2.06-.94L8.5 2.5l-.94 2.06-2.06.94zm10 10l.94 2.06.94-2.06 2.06-.94-2.06-.94-.94-2.06-.94 2.06-2.06.94z\"/><path d=\"M17.41 7.96l-1.37-1.37c-.4-.4-.92-.59-1.43-.59-.52 0-1.04.2-1.43.59L10.3 9.45l-7.72 7.72c-.78.78-.78 2.05 0 2.83L4 21.41c.39.39.9.59 1.41.59.51 0 1.02-.2 1.41-.59l7.78-7.78 2.81-2.81c.8-.78.8-2.07 0-2.86zM5.41 20L4 18.59l7.72-7.72 1.47 1.35L5.41 20z\"/>\n",
              "  </svg>\n",
              "      </button>\n",
              "      \n",
              "  <style>\n",
              "    .colab-df-container {\n",
              "      display:flex;\n",
              "      flex-wrap:wrap;\n",
              "      gap: 12px;\n",
              "    }\n",
              "\n",
              "    .colab-df-convert {\n",
              "      background-color: #E8F0FE;\n",
              "      border: none;\n",
              "      border-radius: 50%;\n",
              "      cursor: pointer;\n",
              "      display: none;\n",
              "      fill: #1967D2;\n",
              "      height: 32px;\n",
              "      padding: 0 0 0 0;\n",
              "      width: 32px;\n",
              "    }\n",
              "\n",
              "    .colab-df-convert:hover {\n",
              "      background-color: #E2EBFA;\n",
              "      box-shadow: 0px 1px 2px rgba(60, 64, 67, 0.3), 0px 1px 3px 1px rgba(60, 64, 67, 0.15);\n",
              "      fill: #174EA6;\n",
              "    }\n",
              "\n",
              "    [theme=dark] .colab-df-convert {\n",
              "      background-color: #3B4455;\n",
              "      fill: #D2E3FC;\n",
              "    }\n",
              "\n",
              "    [theme=dark] .colab-df-convert:hover {\n",
              "      background-color: #434B5C;\n",
              "      box-shadow: 0px 1px 3px 1px rgba(0, 0, 0, 0.15);\n",
              "      filter: drop-shadow(0px 1px 2px rgba(0, 0, 0, 0.3));\n",
              "      fill: #FFFFFF;\n",
              "    }\n",
              "  </style>\n",
              "\n",
              "      <script>\n",
              "        const buttonEl =\n",
              "          document.querySelector('#df-7ef4316c-c41a-4c6a-8703-b3f56b87b8a5 button.colab-df-convert');\n",
              "        buttonEl.style.display =\n",
              "          google.colab.kernel.accessAllowed ? 'block' : 'none';\n",
              "\n",
              "        async function convertToInteractive(key) {\n",
              "          const element = document.querySelector('#df-7ef4316c-c41a-4c6a-8703-b3f56b87b8a5');\n",
              "          const dataTable =\n",
              "            await google.colab.kernel.invokeFunction('convertToInteractive',\n",
              "                                                     [key], {});\n",
              "          if (!dataTable) return;\n",
              "\n",
              "          const docLinkHtml = 'Like what you see? Visit the ' +\n",
              "            '<a target=\"_blank\" href=https://colab.research.google.com/notebooks/data_table.ipynb>data table notebook</a>'\n",
              "            + ' to learn more about interactive tables.';\n",
              "          element.innerHTML = '';\n",
              "          dataTable['output_type'] = 'display_data';\n",
              "          await google.colab.output.renderOutput(dataTable, element);\n",
              "          const docLink = document.createElement('div');\n",
              "          docLink.innerHTML = docLinkHtml;\n",
              "          element.appendChild(docLink);\n",
              "        }\n",
              "      </script>\n",
              "    </div>\n",
              "  </div>\n",
              "  "
            ]
          },
          "metadata": {},
          "execution_count": 57
        }
      ]
    },
    {
      "cell_type": "code",
      "source": [
        "#Tabla de determinación\n",
        "\n",
        "Det_factoresPrivRoom=(PrivateRoom.corr())**2\n",
        "Det_factoresPrivRoom"
      ],
      "metadata": {
        "id": "Dtjl-yf3NjuW",
        "colab": {
          "base_uri": "https://localhost:8080/",
          "height": 332
        },
        "outputId": "f9827de8-d843-4ef8-b17c-f50b3455a526"
      },
      "execution_count": 60,
      "outputs": [
        {
          "output_type": "execute_result",
          "data": {
            "text/plain": [
              "                             Predicciones_PrivateRoom  host_acceptance_rate  \\\n",
              "Predicciones_PrivateRoom                     1.000000              0.007769   \n",
              "host_acceptance_rate                         0.007769              1.000000   \n",
              "review_scores_rating                         0.427629              0.001898   \n",
              "price                                        0.001038              0.000609   \n",
              "review_scores_cleanliness                    0.162443              0.000016   \n",
              "availability_365                             0.352732              0.001747   \n",
              "review_scores_communication                  0.541058              0.007462   \n",
              "room_type                                         NaN                   NaN   \n",
              "number_of_reviews                            0.042790              0.003316   \n",
              "\n",
              "                             review_scores_rating     price  \\\n",
              "Predicciones_PrivateRoom                 0.427629  0.001038   \n",
              "host_acceptance_rate                     0.001898  0.000609   \n",
              "review_scores_rating                     1.000000  0.000297   \n",
              "price                                    0.000297  1.000000   \n",
              "review_scores_cleanliness                0.335942  0.004175   \n",
              "availability_365                         0.000176  0.001399   \n",
              "review_scores_communication              0.281926  0.000036   \n",
              "room_type                                     NaN       NaN   \n",
              "number_of_reviews                        0.018298  0.000466   \n",
              "\n",
              "                             review_scores_cleanliness  availability_365  \\\n",
              "Predicciones_PrivateRoom                      0.162443          0.352732   \n",
              "host_acceptance_rate                          0.000016          0.001747   \n",
              "review_scores_rating                          0.335942          0.000176   \n",
              "price                                         0.004175          0.001399   \n",
              "review_scores_cleanliness                     1.000000          0.000086   \n",
              "availability_365                              0.000086          1.000000   \n",
              "review_scores_communication                   0.125348          0.000033   \n",
              "room_type                                          NaN               NaN   \n",
              "number_of_reviews                             0.009826          0.015093   \n",
              "\n",
              "                             review_scores_communication  room_type  \\\n",
              "Predicciones_PrivateRoom                        0.541058        NaN   \n",
              "host_acceptance_rate                            0.007462        NaN   \n",
              "review_scores_rating                            0.281926        NaN   \n",
              "price                                           0.000036        NaN   \n",
              "review_scores_cleanliness                       0.125348        NaN   \n",
              "availability_365                                0.000033        NaN   \n",
              "review_scores_communication                     1.000000        NaN   \n",
              "room_type                                            NaN        NaN   \n",
              "number_of_reviews                               0.023152        NaN   \n",
              "\n",
              "                             number_of_reviews  \n",
              "Predicciones_PrivateRoom              0.042790  \n",
              "host_acceptance_rate                  0.003316  \n",
              "review_scores_rating                  0.018298  \n",
              "price                                 0.000466  \n",
              "review_scores_cleanliness             0.009826  \n",
              "availability_365                      0.015093  \n",
              "review_scores_communication           0.023152  \n",
              "room_type                                  NaN  \n",
              "number_of_reviews                     1.000000  "
            ],
            "text/html": [
              "\n",
              "  <div id=\"df-220ef33e-bdef-4e65-9fd2-157db7401911\">\n",
              "    <div class=\"colab-df-container\">\n",
              "      <div>\n",
              "<style scoped>\n",
              "    .dataframe tbody tr th:only-of-type {\n",
              "        vertical-align: middle;\n",
              "    }\n",
              "\n",
              "    .dataframe tbody tr th {\n",
              "        vertical-align: top;\n",
              "    }\n",
              "\n",
              "    .dataframe thead th {\n",
              "        text-align: right;\n",
              "    }\n",
              "</style>\n",
              "<table border=\"1\" class=\"dataframe\">\n",
              "  <thead>\n",
              "    <tr style=\"text-align: right;\">\n",
              "      <th></th>\n",
              "      <th>Predicciones_PrivateRoom</th>\n",
              "      <th>host_acceptance_rate</th>\n",
              "      <th>review_scores_rating</th>\n",
              "      <th>price</th>\n",
              "      <th>review_scores_cleanliness</th>\n",
              "      <th>availability_365</th>\n",
              "      <th>review_scores_communication</th>\n",
              "      <th>room_type</th>\n",
              "      <th>number_of_reviews</th>\n",
              "    </tr>\n",
              "  </thead>\n",
              "  <tbody>\n",
              "    <tr>\n",
              "      <th>Predicciones_PrivateRoom</th>\n",
              "      <td>1.000000</td>\n",
              "      <td>0.007769</td>\n",
              "      <td>0.427629</td>\n",
              "      <td>0.001038</td>\n",
              "      <td>0.162443</td>\n",
              "      <td>0.352732</td>\n",
              "      <td>0.541058</td>\n",
              "      <td>NaN</td>\n",
              "      <td>0.042790</td>\n",
              "    </tr>\n",
              "    <tr>\n",
              "      <th>host_acceptance_rate</th>\n",
              "      <td>0.007769</td>\n",
              "      <td>1.000000</td>\n",
              "      <td>0.001898</td>\n",
              "      <td>0.000609</td>\n",
              "      <td>0.000016</td>\n",
              "      <td>0.001747</td>\n",
              "      <td>0.007462</td>\n",
              "      <td>NaN</td>\n",
              "      <td>0.003316</td>\n",
              "    </tr>\n",
              "    <tr>\n",
              "      <th>review_scores_rating</th>\n",
              "      <td>0.427629</td>\n",
              "      <td>0.001898</td>\n",
              "      <td>1.000000</td>\n",
              "      <td>0.000297</td>\n",
              "      <td>0.335942</td>\n",
              "      <td>0.000176</td>\n",
              "      <td>0.281926</td>\n",
              "      <td>NaN</td>\n",
              "      <td>0.018298</td>\n",
              "    </tr>\n",
              "    <tr>\n",
              "      <th>price</th>\n",
              "      <td>0.001038</td>\n",
              "      <td>0.000609</td>\n",
              "      <td>0.000297</td>\n",
              "      <td>1.000000</td>\n",
              "      <td>0.004175</td>\n",
              "      <td>0.001399</td>\n",
              "      <td>0.000036</td>\n",
              "      <td>NaN</td>\n",
              "      <td>0.000466</td>\n",
              "    </tr>\n",
              "    <tr>\n",
              "      <th>review_scores_cleanliness</th>\n",
              "      <td>0.162443</td>\n",
              "      <td>0.000016</td>\n",
              "      <td>0.335942</td>\n",
              "      <td>0.004175</td>\n",
              "      <td>1.000000</td>\n",
              "      <td>0.000086</td>\n",
              "      <td>0.125348</td>\n",
              "      <td>NaN</td>\n",
              "      <td>0.009826</td>\n",
              "    </tr>\n",
              "    <tr>\n",
              "      <th>availability_365</th>\n",
              "      <td>0.352732</td>\n",
              "      <td>0.001747</td>\n",
              "      <td>0.000176</td>\n",
              "      <td>0.001399</td>\n",
              "      <td>0.000086</td>\n",
              "      <td>1.000000</td>\n",
              "      <td>0.000033</td>\n",
              "      <td>NaN</td>\n",
              "      <td>0.015093</td>\n",
              "    </tr>\n",
              "    <tr>\n",
              "      <th>review_scores_communication</th>\n",
              "      <td>0.541058</td>\n",
              "      <td>0.007462</td>\n",
              "      <td>0.281926</td>\n",
              "      <td>0.000036</td>\n",
              "      <td>0.125348</td>\n",
              "      <td>0.000033</td>\n",
              "      <td>1.000000</td>\n",
              "      <td>NaN</td>\n",
              "      <td>0.023152</td>\n",
              "    </tr>\n",
              "    <tr>\n",
              "      <th>room_type</th>\n",
              "      <td>NaN</td>\n",
              "      <td>NaN</td>\n",
              "      <td>NaN</td>\n",
              "      <td>NaN</td>\n",
              "      <td>NaN</td>\n",
              "      <td>NaN</td>\n",
              "      <td>NaN</td>\n",
              "      <td>NaN</td>\n",
              "      <td>NaN</td>\n",
              "    </tr>\n",
              "    <tr>\n",
              "      <th>number_of_reviews</th>\n",
              "      <td>0.042790</td>\n",
              "      <td>0.003316</td>\n",
              "      <td>0.018298</td>\n",
              "      <td>0.000466</td>\n",
              "      <td>0.009826</td>\n",
              "      <td>0.015093</td>\n",
              "      <td>0.023152</td>\n",
              "      <td>NaN</td>\n",
              "      <td>1.000000</td>\n",
              "    </tr>\n",
              "  </tbody>\n",
              "</table>\n",
              "</div>\n",
              "      <button class=\"colab-df-convert\" onclick=\"convertToInteractive('df-220ef33e-bdef-4e65-9fd2-157db7401911')\"\n",
              "              title=\"Convert this dataframe to an interactive table.\"\n",
              "              style=\"display:none;\">\n",
              "        \n",
              "  <svg xmlns=\"http://www.w3.org/2000/svg\" height=\"24px\"viewBox=\"0 0 24 24\"\n",
              "       width=\"24px\">\n",
              "    <path d=\"M0 0h24v24H0V0z\" fill=\"none\"/>\n",
              "    <path d=\"M18.56 5.44l.94 2.06.94-2.06 2.06-.94-2.06-.94-.94-2.06-.94 2.06-2.06.94zm-11 1L8.5 8.5l.94-2.06 2.06-.94-2.06-.94L8.5 2.5l-.94 2.06-2.06.94zm10 10l.94 2.06.94-2.06 2.06-.94-2.06-.94-.94-2.06-.94 2.06-2.06.94z\"/><path d=\"M17.41 7.96l-1.37-1.37c-.4-.4-.92-.59-1.43-.59-.52 0-1.04.2-1.43.59L10.3 9.45l-7.72 7.72c-.78.78-.78 2.05 0 2.83L4 21.41c.39.39.9.59 1.41.59.51 0 1.02-.2 1.41-.59l7.78-7.78 2.81-2.81c.8-.78.8-2.07 0-2.86zM5.41 20L4 18.59l7.72-7.72 1.47 1.35L5.41 20z\"/>\n",
              "  </svg>\n",
              "      </button>\n",
              "      \n",
              "  <style>\n",
              "    .colab-df-container {\n",
              "      display:flex;\n",
              "      flex-wrap:wrap;\n",
              "      gap: 12px;\n",
              "    }\n",
              "\n",
              "    .colab-df-convert {\n",
              "      background-color: #E8F0FE;\n",
              "      border: none;\n",
              "      border-radius: 50%;\n",
              "      cursor: pointer;\n",
              "      display: none;\n",
              "      fill: #1967D2;\n",
              "      height: 32px;\n",
              "      padding: 0 0 0 0;\n",
              "      width: 32px;\n",
              "    }\n",
              "\n",
              "    .colab-df-convert:hover {\n",
              "      background-color: #E2EBFA;\n",
              "      box-shadow: 0px 1px 2px rgba(60, 64, 67, 0.3), 0px 1px 3px 1px rgba(60, 64, 67, 0.15);\n",
              "      fill: #174EA6;\n",
              "    }\n",
              "\n",
              "    [theme=dark] .colab-df-convert {\n",
              "      background-color: #3B4455;\n",
              "      fill: #D2E3FC;\n",
              "    }\n",
              "\n",
              "    [theme=dark] .colab-df-convert:hover {\n",
              "      background-color: #434B5C;\n",
              "      box-shadow: 0px 1px 3px 1px rgba(0, 0, 0, 0.15);\n",
              "      filter: drop-shadow(0px 1px 2px rgba(0, 0, 0, 0.3));\n",
              "      fill: #FFFFFF;\n",
              "    }\n",
              "  </style>\n",
              "\n",
              "      <script>\n",
              "        const buttonEl =\n",
              "          document.querySelector('#df-220ef33e-bdef-4e65-9fd2-157db7401911 button.colab-df-convert');\n",
              "        buttonEl.style.display =\n",
              "          google.colab.kernel.accessAllowed ? 'block' : 'none';\n",
              "\n",
              "        async function convertToInteractive(key) {\n",
              "          const element = document.querySelector('#df-220ef33e-bdef-4e65-9fd2-157db7401911');\n",
              "          const dataTable =\n",
              "            await google.colab.kernel.invokeFunction('convertToInteractive',\n",
              "                                                     [key], {});\n",
              "          if (!dataTable) return;\n",
              "\n",
              "          const docLinkHtml = 'Like what you see? Visit the ' +\n",
              "            '<a target=\"_blank\" href=https://colab.research.google.com/notebooks/data_table.ipynb>data table notebook</a>'\n",
              "            + ' to learn more about interactive tables.';\n",
              "          element.innerHTML = '';\n",
              "          dataTable['output_type'] = 'display_data';\n",
              "          await google.colab.output.renderOutput(dataTable, element);\n",
              "          const docLink = document.createElement('div');\n",
              "          docLink.innerHTML = docLinkHtml;\n",
              "          element.appendChild(docLink);\n",
              "        }\n",
              "      </script>\n",
              "    </div>\n",
              "  </div>\n",
              "  "
            ]
          },
          "metadata": {},
          "execution_count": 60
        }
      ]
    },
    {
      "cell_type": "markdown",
      "source": [
        "##Shared room"
      ],
      "metadata": {
        "id": "1Dxs3cCA6uNt"
      }
    },
    {
      "cell_type": "code",
      "source": [
        "#Tabla de correlación\n",
        "\n",
        "Corr_factoresSharRoom=SharedRoom.corr()\n",
        "Corr_factoresSharRoom"
      ],
      "metadata": {
        "id": "hoYcGHA66tix",
        "colab": {
          "base_uri": "https://localhost:8080/",
          "height": 332
        },
        "outputId": "5bd39708-2f5a-489f-975f-4ba6a7854358"
      },
      "execution_count": 59,
      "outputs": [
        {
          "output_type": "execute_result",
          "data": {
            "text/plain": [
              "                             Predicciones_SharedRoom  host_acceptance_rate  \\\n",
              "Predicciones_SharedRoom                     1.000000             -0.642003   \n",
              "host_acceptance_rate                       -0.642003              1.000000   \n",
              "review_scores_rating                        0.333232             -0.317128   \n",
              "price                                      -0.753819              0.590454   \n",
              "review_scores_cleanliness                   0.736074             -0.198566   \n",
              "availability_365                           -0.800001              0.744135   \n",
              "review_scores_communication                 0.178134             -0.188534   \n",
              "room_type                                        NaN                   NaN   \n",
              "number_of_reviews                           0.513116             -0.191501   \n",
              "\n",
              "                             review_scores_rating     price  \\\n",
              "Predicciones_SharedRoom                  0.333232 -0.753819   \n",
              "host_acceptance_rate                    -0.317128  0.590454   \n",
              "review_scores_rating                     1.000000 -0.213914   \n",
              "price                                   -0.213914  1.000000   \n",
              "review_scores_cleanliness                0.198766 -0.238905   \n",
              "availability_365                        -0.363435  0.546856   \n",
              "review_scores_communication              0.603333  0.010361   \n",
              "room_type                                     NaN       NaN   \n",
              "number_of_reviews                        0.009871 -0.386797   \n",
              "\n",
              "                             review_scores_cleanliness  availability_365  \\\n",
              "Predicciones_SharedRoom                       0.736074         -0.800001   \n",
              "host_acceptance_rate                         -0.198566          0.744135   \n",
              "review_scores_rating                          0.198766         -0.363435   \n",
              "price                                        -0.238905          0.546856   \n",
              "review_scores_cleanliness                     1.000000         -0.347058   \n",
              "availability_365                             -0.347058          1.000000   \n",
              "review_scores_communication                   0.363207         -0.003974   \n",
              "room_type                                          NaN               NaN   \n",
              "number_of_reviews                             0.377691         -0.410493   \n",
              "\n",
              "                             review_scores_communication  room_type  \\\n",
              "Predicciones_SharedRoom                         0.178134        NaN   \n",
              "host_acceptance_rate                           -0.188534        NaN   \n",
              "review_scores_rating                            0.603333        NaN   \n",
              "price                                           0.010361        NaN   \n",
              "review_scores_cleanliness                       0.363207        NaN   \n",
              "availability_365                               -0.003974        NaN   \n",
              "review_scores_communication                     1.000000        NaN   \n",
              "room_type                                            NaN        NaN   \n",
              "number_of_reviews                              -0.167045        NaN   \n",
              "\n",
              "                             number_of_reviews  \n",
              "Predicciones_SharedRoom               0.513116  \n",
              "host_acceptance_rate                 -0.191501  \n",
              "review_scores_rating                  0.009871  \n",
              "price                                -0.386797  \n",
              "review_scores_cleanliness             0.377691  \n",
              "availability_365                     -0.410493  \n",
              "review_scores_communication          -0.167045  \n",
              "room_type                                  NaN  \n",
              "number_of_reviews                     1.000000  "
            ],
            "text/html": [
              "\n",
              "  <div id=\"df-eea5e44a-bfb2-4d1e-be81-485518419fba\">\n",
              "    <div class=\"colab-df-container\">\n",
              "      <div>\n",
              "<style scoped>\n",
              "    .dataframe tbody tr th:only-of-type {\n",
              "        vertical-align: middle;\n",
              "    }\n",
              "\n",
              "    .dataframe tbody tr th {\n",
              "        vertical-align: top;\n",
              "    }\n",
              "\n",
              "    .dataframe thead th {\n",
              "        text-align: right;\n",
              "    }\n",
              "</style>\n",
              "<table border=\"1\" class=\"dataframe\">\n",
              "  <thead>\n",
              "    <tr style=\"text-align: right;\">\n",
              "      <th></th>\n",
              "      <th>Predicciones_SharedRoom</th>\n",
              "      <th>host_acceptance_rate</th>\n",
              "      <th>review_scores_rating</th>\n",
              "      <th>price</th>\n",
              "      <th>review_scores_cleanliness</th>\n",
              "      <th>availability_365</th>\n",
              "      <th>review_scores_communication</th>\n",
              "      <th>room_type</th>\n",
              "      <th>number_of_reviews</th>\n",
              "    </tr>\n",
              "  </thead>\n",
              "  <tbody>\n",
              "    <tr>\n",
              "      <th>Predicciones_SharedRoom</th>\n",
              "      <td>1.000000</td>\n",
              "      <td>-0.642003</td>\n",
              "      <td>0.333232</td>\n",
              "      <td>-0.753819</td>\n",
              "      <td>0.736074</td>\n",
              "      <td>-0.800001</td>\n",
              "      <td>0.178134</td>\n",
              "      <td>NaN</td>\n",
              "      <td>0.513116</td>\n",
              "    </tr>\n",
              "    <tr>\n",
              "      <th>host_acceptance_rate</th>\n",
              "      <td>-0.642003</td>\n",
              "      <td>1.000000</td>\n",
              "      <td>-0.317128</td>\n",
              "      <td>0.590454</td>\n",
              "      <td>-0.198566</td>\n",
              "      <td>0.744135</td>\n",
              "      <td>-0.188534</td>\n",
              "      <td>NaN</td>\n",
              "      <td>-0.191501</td>\n",
              "    </tr>\n",
              "    <tr>\n",
              "      <th>review_scores_rating</th>\n",
              "      <td>0.333232</td>\n",
              "      <td>-0.317128</td>\n",
              "      <td>1.000000</td>\n",
              "      <td>-0.213914</td>\n",
              "      <td>0.198766</td>\n",
              "      <td>-0.363435</td>\n",
              "      <td>0.603333</td>\n",
              "      <td>NaN</td>\n",
              "      <td>0.009871</td>\n",
              "    </tr>\n",
              "    <tr>\n",
              "      <th>price</th>\n",
              "      <td>-0.753819</td>\n",
              "      <td>0.590454</td>\n",
              "      <td>-0.213914</td>\n",
              "      <td>1.000000</td>\n",
              "      <td>-0.238905</td>\n",
              "      <td>0.546856</td>\n",
              "      <td>0.010361</td>\n",
              "      <td>NaN</td>\n",
              "      <td>-0.386797</td>\n",
              "    </tr>\n",
              "    <tr>\n",
              "      <th>review_scores_cleanliness</th>\n",
              "      <td>0.736074</td>\n",
              "      <td>-0.198566</td>\n",
              "      <td>0.198766</td>\n",
              "      <td>-0.238905</td>\n",
              "      <td>1.000000</td>\n",
              "      <td>-0.347058</td>\n",
              "      <td>0.363207</td>\n",
              "      <td>NaN</td>\n",
              "      <td>0.377691</td>\n",
              "    </tr>\n",
              "    <tr>\n",
              "      <th>availability_365</th>\n",
              "      <td>-0.800001</td>\n",
              "      <td>0.744135</td>\n",
              "      <td>-0.363435</td>\n",
              "      <td>0.546856</td>\n",
              "      <td>-0.347058</td>\n",
              "      <td>1.000000</td>\n",
              "      <td>-0.003974</td>\n",
              "      <td>NaN</td>\n",
              "      <td>-0.410493</td>\n",
              "    </tr>\n",
              "    <tr>\n",
              "      <th>review_scores_communication</th>\n",
              "      <td>0.178134</td>\n",
              "      <td>-0.188534</td>\n",
              "      <td>0.603333</td>\n",
              "      <td>0.010361</td>\n",
              "      <td>0.363207</td>\n",
              "      <td>-0.003974</td>\n",
              "      <td>1.000000</td>\n",
              "      <td>NaN</td>\n",
              "      <td>-0.167045</td>\n",
              "    </tr>\n",
              "    <tr>\n",
              "      <th>room_type</th>\n",
              "      <td>NaN</td>\n",
              "      <td>NaN</td>\n",
              "      <td>NaN</td>\n",
              "      <td>NaN</td>\n",
              "      <td>NaN</td>\n",
              "      <td>NaN</td>\n",
              "      <td>NaN</td>\n",
              "      <td>NaN</td>\n",
              "      <td>NaN</td>\n",
              "    </tr>\n",
              "    <tr>\n",
              "      <th>number_of_reviews</th>\n",
              "      <td>0.513116</td>\n",
              "      <td>-0.191501</td>\n",
              "      <td>0.009871</td>\n",
              "      <td>-0.386797</td>\n",
              "      <td>0.377691</td>\n",
              "      <td>-0.410493</td>\n",
              "      <td>-0.167045</td>\n",
              "      <td>NaN</td>\n",
              "      <td>1.000000</td>\n",
              "    </tr>\n",
              "  </tbody>\n",
              "</table>\n",
              "</div>\n",
              "      <button class=\"colab-df-convert\" onclick=\"convertToInteractive('df-eea5e44a-bfb2-4d1e-be81-485518419fba')\"\n",
              "              title=\"Convert this dataframe to an interactive table.\"\n",
              "              style=\"display:none;\">\n",
              "        \n",
              "  <svg xmlns=\"http://www.w3.org/2000/svg\" height=\"24px\"viewBox=\"0 0 24 24\"\n",
              "       width=\"24px\">\n",
              "    <path d=\"M0 0h24v24H0V0z\" fill=\"none\"/>\n",
              "    <path d=\"M18.56 5.44l.94 2.06.94-2.06 2.06-.94-2.06-.94-.94-2.06-.94 2.06-2.06.94zm-11 1L8.5 8.5l.94-2.06 2.06-.94-2.06-.94L8.5 2.5l-.94 2.06-2.06.94zm10 10l.94 2.06.94-2.06 2.06-.94-2.06-.94-.94-2.06-.94 2.06-2.06.94z\"/><path d=\"M17.41 7.96l-1.37-1.37c-.4-.4-.92-.59-1.43-.59-.52 0-1.04.2-1.43.59L10.3 9.45l-7.72 7.72c-.78.78-.78 2.05 0 2.83L4 21.41c.39.39.9.59 1.41.59.51 0 1.02-.2 1.41-.59l7.78-7.78 2.81-2.81c.8-.78.8-2.07 0-2.86zM5.41 20L4 18.59l7.72-7.72 1.47 1.35L5.41 20z\"/>\n",
              "  </svg>\n",
              "      </button>\n",
              "      \n",
              "  <style>\n",
              "    .colab-df-container {\n",
              "      display:flex;\n",
              "      flex-wrap:wrap;\n",
              "      gap: 12px;\n",
              "    }\n",
              "\n",
              "    .colab-df-convert {\n",
              "      background-color: #E8F0FE;\n",
              "      border: none;\n",
              "      border-radius: 50%;\n",
              "      cursor: pointer;\n",
              "      display: none;\n",
              "      fill: #1967D2;\n",
              "      height: 32px;\n",
              "      padding: 0 0 0 0;\n",
              "      width: 32px;\n",
              "    }\n",
              "\n",
              "    .colab-df-convert:hover {\n",
              "      background-color: #E2EBFA;\n",
              "      box-shadow: 0px 1px 2px rgba(60, 64, 67, 0.3), 0px 1px 3px 1px rgba(60, 64, 67, 0.15);\n",
              "      fill: #174EA6;\n",
              "    }\n",
              "\n",
              "    [theme=dark] .colab-df-convert {\n",
              "      background-color: #3B4455;\n",
              "      fill: #D2E3FC;\n",
              "    }\n",
              "\n",
              "    [theme=dark] .colab-df-convert:hover {\n",
              "      background-color: #434B5C;\n",
              "      box-shadow: 0px 1px 3px 1px rgba(0, 0, 0, 0.15);\n",
              "      filter: drop-shadow(0px 1px 2px rgba(0, 0, 0, 0.3));\n",
              "      fill: #FFFFFF;\n",
              "    }\n",
              "  </style>\n",
              "\n",
              "      <script>\n",
              "        const buttonEl =\n",
              "          document.querySelector('#df-eea5e44a-bfb2-4d1e-be81-485518419fba button.colab-df-convert');\n",
              "        buttonEl.style.display =\n",
              "          google.colab.kernel.accessAllowed ? 'block' : 'none';\n",
              "\n",
              "        async function convertToInteractive(key) {\n",
              "          const element = document.querySelector('#df-eea5e44a-bfb2-4d1e-be81-485518419fba');\n",
              "          const dataTable =\n",
              "            await google.colab.kernel.invokeFunction('convertToInteractive',\n",
              "                                                     [key], {});\n",
              "          if (!dataTable) return;\n",
              "\n",
              "          const docLinkHtml = 'Like what you see? Visit the ' +\n",
              "            '<a target=\"_blank\" href=https://colab.research.google.com/notebooks/data_table.ipynb>data table notebook</a>'\n",
              "            + ' to learn more about interactive tables.';\n",
              "          element.innerHTML = '';\n",
              "          dataTable['output_type'] = 'display_data';\n",
              "          await google.colab.output.renderOutput(dataTable, element);\n",
              "          const docLink = document.createElement('div');\n",
              "          docLink.innerHTML = docLinkHtml;\n",
              "          element.appendChild(docLink);\n",
              "        }\n",
              "      </script>\n",
              "    </div>\n",
              "  </div>\n",
              "  "
            ]
          },
          "metadata": {},
          "execution_count": 59
        }
      ]
    },
    {
      "cell_type": "code",
      "source": [
        "#Tabla de determinación\n",
        "\n",
        "Det_factoresSharRoom=(SharedRoom.corr())**2\n",
        "Det_factoresSharRoom"
      ],
      "metadata": {
        "id": "KFeFo8IKN2M1",
        "colab": {
          "base_uri": "https://localhost:8080/",
          "height": 332
        },
        "outputId": "0be0ce0f-61ab-43d6-c90e-f28590e0d902"
      },
      "execution_count": 58,
      "outputs": [
        {
          "output_type": "execute_result",
          "data": {
            "text/plain": [
              "                             Predicciones_SharedRoom  host_acceptance_rate  \\\n",
              "Predicciones_SharedRoom                     1.000000              0.412168   \n",
              "host_acceptance_rate                        0.412168              1.000000   \n",
              "review_scores_rating                        0.111044              0.100570   \n",
              "price                                       0.568243              0.348636   \n",
              "review_scores_cleanliness                   0.541805              0.039429   \n",
              "availability_365                            0.640002              0.553737   \n",
              "review_scores_communication                 0.031732              0.035545   \n",
              "room_type                                        NaN                   NaN   \n",
              "number_of_reviews                           0.263288              0.036673   \n",
              "\n",
              "                             review_scores_rating     price  \\\n",
              "Predicciones_SharedRoom                  0.111044  0.568243   \n",
              "host_acceptance_rate                     0.100570  0.348636   \n",
              "review_scores_rating                     1.000000  0.045759   \n",
              "price                                    0.045759  1.000000   \n",
              "review_scores_cleanliness                0.039508  0.057076   \n",
              "availability_365                         0.132085  0.299051   \n",
              "review_scores_communication              0.364011  0.000107   \n",
              "room_type                                     NaN       NaN   \n",
              "number_of_reviews                        0.000097  0.149612   \n",
              "\n",
              "                             review_scores_cleanliness  availability_365  \\\n",
              "Predicciones_SharedRoom                       0.541805          0.640002   \n",
              "host_acceptance_rate                          0.039429          0.553737   \n",
              "review_scores_rating                          0.039508          0.132085   \n",
              "price                                         0.057076          0.299051   \n",
              "review_scores_cleanliness                     1.000000          0.120449   \n",
              "availability_365                              0.120449          1.000000   \n",
              "review_scores_communication                   0.131920          0.000016   \n",
              "room_type                                          NaN               NaN   \n",
              "number_of_reviews                             0.142651          0.168505   \n",
              "\n",
              "                             review_scores_communication  room_type  \\\n",
              "Predicciones_SharedRoom                         0.031732        NaN   \n",
              "host_acceptance_rate                            0.035545        NaN   \n",
              "review_scores_rating                            0.364011        NaN   \n",
              "price                                           0.000107        NaN   \n",
              "review_scores_cleanliness                       0.131920        NaN   \n",
              "availability_365                                0.000016        NaN   \n",
              "review_scores_communication                     1.000000        NaN   \n",
              "room_type                                            NaN        NaN   \n",
              "number_of_reviews                               0.027904        NaN   \n",
              "\n",
              "                             number_of_reviews  \n",
              "Predicciones_SharedRoom               0.263288  \n",
              "host_acceptance_rate                  0.036673  \n",
              "review_scores_rating                  0.000097  \n",
              "price                                 0.149612  \n",
              "review_scores_cleanliness             0.142651  \n",
              "availability_365                      0.168505  \n",
              "review_scores_communication           0.027904  \n",
              "room_type                                  NaN  \n",
              "number_of_reviews                     1.000000  "
            ],
            "text/html": [
              "\n",
              "  <div id=\"df-9fcd83d0-d55c-4fe3-a5ad-261ee2659e73\">\n",
              "    <div class=\"colab-df-container\">\n",
              "      <div>\n",
              "<style scoped>\n",
              "    .dataframe tbody tr th:only-of-type {\n",
              "        vertical-align: middle;\n",
              "    }\n",
              "\n",
              "    .dataframe tbody tr th {\n",
              "        vertical-align: top;\n",
              "    }\n",
              "\n",
              "    .dataframe thead th {\n",
              "        text-align: right;\n",
              "    }\n",
              "</style>\n",
              "<table border=\"1\" class=\"dataframe\">\n",
              "  <thead>\n",
              "    <tr style=\"text-align: right;\">\n",
              "      <th></th>\n",
              "      <th>Predicciones_SharedRoom</th>\n",
              "      <th>host_acceptance_rate</th>\n",
              "      <th>review_scores_rating</th>\n",
              "      <th>price</th>\n",
              "      <th>review_scores_cleanliness</th>\n",
              "      <th>availability_365</th>\n",
              "      <th>review_scores_communication</th>\n",
              "      <th>room_type</th>\n",
              "      <th>number_of_reviews</th>\n",
              "    </tr>\n",
              "  </thead>\n",
              "  <tbody>\n",
              "    <tr>\n",
              "      <th>Predicciones_SharedRoom</th>\n",
              "      <td>1.000000</td>\n",
              "      <td>0.412168</td>\n",
              "      <td>0.111044</td>\n",
              "      <td>0.568243</td>\n",
              "      <td>0.541805</td>\n",
              "      <td>0.640002</td>\n",
              "      <td>0.031732</td>\n",
              "      <td>NaN</td>\n",
              "      <td>0.263288</td>\n",
              "    </tr>\n",
              "    <tr>\n",
              "      <th>host_acceptance_rate</th>\n",
              "      <td>0.412168</td>\n",
              "      <td>1.000000</td>\n",
              "      <td>0.100570</td>\n",
              "      <td>0.348636</td>\n",
              "      <td>0.039429</td>\n",
              "      <td>0.553737</td>\n",
              "      <td>0.035545</td>\n",
              "      <td>NaN</td>\n",
              "      <td>0.036673</td>\n",
              "    </tr>\n",
              "    <tr>\n",
              "      <th>review_scores_rating</th>\n",
              "      <td>0.111044</td>\n",
              "      <td>0.100570</td>\n",
              "      <td>1.000000</td>\n",
              "      <td>0.045759</td>\n",
              "      <td>0.039508</td>\n",
              "      <td>0.132085</td>\n",
              "      <td>0.364011</td>\n",
              "      <td>NaN</td>\n",
              "      <td>0.000097</td>\n",
              "    </tr>\n",
              "    <tr>\n",
              "      <th>price</th>\n",
              "      <td>0.568243</td>\n",
              "      <td>0.348636</td>\n",
              "      <td>0.045759</td>\n",
              "      <td>1.000000</td>\n",
              "      <td>0.057076</td>\n",
              "      <td>0.299051</td>\n",
              "      <td>0.000107</td>\n",
              "      <td>NaN</td>\n",
              "      <td>0.149612</td>\n",
              "    </tr>\n",
              "    <tr>\n",
              "      <th>review_scores_cleanliness</th>\n",
              "      <td>0.541805</td>\n",
              "      <td>0.039429</td>\n",
              "      <td>0.039508</td>\n",
              "      <td>0.057076</td>\n",
              "      <td>1.000000</td>\n",
              "      <td>0.120449</td>\n",
              "      <td>0.131920</td>\n",
              "      <td>NaN</td>\n",
              "      <td>0.142651</td>\n",
              "    </tr>\n",
              "    <tr>\n",
              "      <th>availability_365</th>\n",
              "      <td>0.640002</td>\n",
              "      <td>0.553737</td>\n",
              "      <td>0.132085</td>\n",
              "      <td>0.299051</td>\n",
              "      <td>0.120449</td>\n",
              "      <td>1.000000</td>\n",
              "      <td>0.000016</td>\n",
              "      <td>NaN</td>\n",
              "      <td>0.168505</td>\n",
              "    </tr>\n",
              "    <tr>\n",
              "      <th>review_scores_communication</th>\n",
              "      <td>0.031732</td>\n",
              "      <td>0.035545</td>\n",
              "      <td>0.364011</td>\n",
              "      <td>0.000107</td>\n",
              "      <td>0.131920</td>\n",
              "      <td>0.000016</td>\n",
              "      <td>1.000000</td>\n",
              "      <td>NaN</td>\n",
              "      <td>0.027904</td>\n",
              "    </tr>\n",
              "    <tr>\n",
              "      <th>room_type</th>\n",
              "      <td>NaN</td>\n",
              "      <td>NaN</td>\n",
              "      <td>NaN</td>\n",
              "      <td>NaN</td>\n",
              "      <td>NaN</td>\n",
              "      <td>NaN</td>\n",
              "      <td>NaN</td>\n",
              "      <td>NaN</td>\n",
              "      <td>NaN</td>\n",
              "    </tr>\n",
              "    <tr>\n",
              "      <th>number_of_reviews</th>\n",
              "      <td>0.263288</td>\n",
              "      <td>0.036673</td>\n",
              "      <td>0.000097</td>\n",
              "      <td>0.149612</td>\n",
              "      <td>0.142651</td>\n",
              "      <td>0.168505</td>\n",
              "      <td>0.027904</td>\n",
              "      <td>NaN</td>\n",
              "      <td>1.000000</td>\n",
              "    </tr>\n",
              "  </tbody>\n",
              "</table>\n",
              "</div>\n",
              "      <button class=\"colab-df-convert\" onclick=\"convertToInteractive('df-9fcd83d0-d55c-4fe3-a5ad-261ee2659e73')\"\n",
              "              title=\"Convert this dataframe to an interactive table.\"\n",
              "              style=\"display:none;\">\n",
              "        \n",
              "  <svg xmlns=\"http://www.w3.org/2000/svg\" height=\"24px\"viewBox=\"0 0 24 24\"\n",
              "       width=\"24px\">\n",
              "    <path d=\"M0 0h24v24H0V0z\" fill=\"none\"/>\n",
              "    <path d=\"M18.56 5.44l.94 2.06.94-2.06 2.06-.94-2.06-.94-.94-2.06-.94 2.06-2.06.94zm-11 1L8.5 8.5l.94-2.06 2.06-.94-2.06-.94L8.5 2.5l-.94 2.06-2.06.94zm10 10l.94 2.06.94-2.06 2.06-.94-2.06-.94-.94-2.06-.94 2.06-2.06.94z\"/><path d=\"M17.41 7.96l-1.37-1.37c-.4-.4-.92-.59-1.43-.59-.52 0-1.04.2-1.43.59L10.3 9.45l-7.72 7.72c-.78.78-.78 2.05 0 2.83L4 21.41c.39.39.9.59 1.41.59.51 0 1.02-.2 1.41-.59l7.78-7.78 2.81-2.81c.8-.78.8-2.07 0-2.86zM5.41 20L4 18.59l7.72-7.72 1.47 1.35L5.41 20z\"/>\n",
              "  </svg>\n",
              "      </button>\n",
              "      \n",
              "  <style>\n",
              "    .colab-df-container {\n",
              "      display:flex;\n",
              "      flex-wrap:wrap;\n",
              "      gap: 12px;\n",
              "    }\n",
              "\n",
              "    .colab-df-convert {\n",
              "      background-color: #E8F0FE;\n",
              "      border: none;\n",
              "      border-radius: 50%;\n",
              "      cursor: pointer;\n",
              "      display: none;\n",
              "      fill: #1967D2;\n",
              "      height: 32px;\n",
              "      padding: 0 0 0 0;\n",
              "      width: 32px;\n",
              "    }\n",
              "\n",
              "    .colab-df-convert:hover {\n",
              "      background-color: #E2EBFA;\n",
              "      box-shadow: 0px 1px 2px rgba(60, 64, 67, 0.3), 0px 1px 3px 1px rgba(60, 64, 67, 0.15);\n",
              "      fill: #174EA6;\n",
              "    }\n",
              "\n",
              "    [theme=dark] .colab-df-convert {\n",
              "      background-color: #3B4455;\n",
              "      fill: #D2E3FC;\n",
              "    }\n",
              "\n",
              "    [theme=dark] .colab-df-convert:hover {\n",
              "      background-color: #434B5C;\n",
              "      box-shadow: 0px 1px 3px 1px rgba(0, 0, 0, 0.15);\n",
              "      filter: drop-shadow(0px 1px 2px rgba(0, 0, 0, 0.3));\n",
              "      fill: #FFFFFF;\n",
              "    }\n",
              "  </style>\n",
              "\n",
              "      <script>\n",
              "        const buttonEl =\n",
              "          document.querySelector('#df-9fcd83d0-d55c-4fe3-a5ad-261ee2659e73 button.colab-df-convert');\n",
              "        buttonEl.style.display =\n",
              "          google.colab.kernel.accessAllowed ? 'block' : 'none';\n",
              "\n",
              "        async function convertToInteractive(key) {\n",
              "          const element = document.querySelector('#df-9fcd83d0-d55c-4fe3-a5ad-261ee2659e73');\n",
              "          const dataTable =\n",
              "            await google.colab.kernel.invokeFunction('convertToInteractive',\n",
              "                                                     [key], {});\n",
              "          if (!dataTable) return;\n",
              "\n",
              "          const docLinkHtml = 'Like what you see? Visit the ' +\n",
              "            '<a target=\"_blank\" href=https://colab.research.google.com/notebooks/data_table.ipynb>data table notebook</a>'\n",
              "            + ' to learn more about interactive tables.';\n",
              "          element.innerHTML = '';\n",
              "          dataTable['output_type'] = 'display_data';\n",
              "          await google.colab.output.renderOutput(dataTable, element);\n",
              "          const docLink = document.createElement('div');\n",
              "          docLink.innerHTML = docLinkHtml;\n",
              "          element.appendChild(docLink);\n",
              "        }\n",
              "      </script>\n",
              "    </div>\n",
              "  </div>\n",
              "  "
            ]
          },
          "metadata": {},
          "execution_count": 58
        }
      ]
    }
  ]
}