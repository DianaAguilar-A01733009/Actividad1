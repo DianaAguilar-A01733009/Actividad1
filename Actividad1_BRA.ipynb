{
  "nbformat": 4,
  "nbformat_minor": 0,
  "metadata": {
    "colab": {
      "provenance": [],
      "collapsed_sections": [],
      "authorship_tag": "ABX9TyOI3slTofLPc5cGhFyBijtw",
      "include_colab_link": true
    },
    "kernelspec": {
      "name": "python3",
      "display_name": "Python 3"
    },
    "language_info": {
      "name": "python"
    }
  },
  "cells": [
    {
      "cell_type": "markdown",
      "metadata": {
        "id": "view-in-github",
        "colab_type": "text"
      },
      "source": [
        "<a href=\"https://colab.research.google.com/github/DianaAguilar-A01733009/Actividad1/blob/main/Actividad1_BRA.ipynb\" target=\"_parent\"><img src=\"https://colab.research.google.com/assets/colab-badge.svg\" alt=\"Open In Colab\"/></a>"
      ]
    },
    {
      "cell_type": "markdown",
      "source": [
        "##Importar librerias y carga del documento"
      ],
      "metadata": {
        "id": "BP-pKUngL6cu"
      }
    },
    {
      "cell_type": "code",
      "execution_count": 1,
      "metadata": {
        "id": "jBkijY-v9im8"
      },
      "outputs": [],
      "source": [
        "import pandas as pd\n",
        "import numpy as np\n",
        "import matplotlib.pyplot as plt\n",
        "import seaborn as sns"
      ]
    },
    {
      "cell_type": "code",
      "source": [
        "# Cargar archivo csv desde el equipo\n",
        "\n",
        "from google.colab import files\n",
        "files.upload()"
      ],
      "metadata": {
        "id": "jNa6BlmV9xpH",
        "colab": {
          "base_uri": "https://localhost:8080/",
          "height": 72
        },
        "outputId": "240228c7-e38d-42db-af71-e8ccb499f719"
      },
      "execution_count": 2,
      "outputs": [
        {
          "output_type": "display_data",
          "data": {
            "text/plain": [
              "<IPython.core.display.HTML object>"
            ],
            "text/html": [
              "\n",
              "     <input type=\"file\" id=\"files-3a057a74-5704-439a-9b30-5dabbf55883c\" name=\"files[]\" multiple disabled\n",
              "        style=\"border:none\" />\n",
              "     <output id=\"result-3a057a74-5704-439a-9b30-5dabbf55883c\">\n",
              "      Upload widget is only available when the cell has been executed in the\n",
              "      current browser session. Please rerun this cell to enable.\n",
              "      </output>\n",
              "      <script>// Copyright 2017 Google LLC\n",
              "//\n",
              "// Licensed under the Apache License, Version 2.0 (the \"License\");\n",
              "// you may not use this file except in compliance with the License.\n",
              "// You may obtain a copy of the License at\n",
              "//\n",
              "//      http://www.apache.org/licenses/LICENSE-2.0\n",
              "//\n",
              "// Unless required by applicable law or agreed to in writing, software\n",
              "// distributed under the License is distributed on an \"AS IS\" BASIS,\n",
              "// WITHOUT WARRANTIES OR CONDITIONS OF ANY KIND, either express or implied.\n",
              "// See the License for the specific language governing permissions and\n",
              "// limitations under the License.\n",
              "\n",
              "/**\n",
              " * @fileoverview Helpers for google.colab Python module.\n",
              " */\n",
              "(function(scope) {\n",
              "function span(text, styleAttributes = {}) {\n",
              "  const element = document.createElement('span');\n",
              "  element.textContent = text;\n",
              "  for (const key of Object.keys(styleAttributes)) {\n",
              "    element.style[key] = styleAttributes[key];\n",
              "  }\n",
              "  return element;\n",
              "}\n",
              "\n",
              "// Max number of bytes which will be uploaded at a time.\n",
              "const MAX_PAYLOAD_SIZE = 100 * 1024;\n",
              "\n",
              "function _uploadFiles(inputId, outputId) {\n",
              "  const steps = uploadFilesStep(inputId, outputId);\n",
              "  const outputElement = document.getElementById(outputId);\n",
              "  // Cache steps on the outputElement to make it available for the next call\n",
              "  // to uploadFilesContinue from Python.\n",
              "  outputElement.steps = steps;\n",
              "\n",
              "  return _uploadFilesContinue(outputId);\n",
              "}\n",
              "\n",
              "// This is roughly an async generator (not supported in the browser yet),\n",
              "// where there are multiple asynchronous steps and the Python side is going\n",
              "// to poll for completion of each step.\n",
              "// This uses a Promise to block the python side on completion of each step,\n",
              "// then passes the result of the previous step as the input to the next step.\n",
              "function _uploadFilesContinue(outputId) {\n",
              "  const outputElement = document.getElementById(outputId);\n",
              "  const steps = outputElement.steps;\n",
              "\n",
              "  const next = steps.next(outputElement.lastPromiseValue);\n",
              "  return Promise.resolve(next.value.promise).then((value) => {\n",
              "    // Cache the last promise value to make it available to the next\n",
              "    // step of the generator.\n",
              "    outputElement.lastPromiseValue = value;\n",
              "    return next.value.response;\n",
              "  });\n",
              "}\n",
              "\n",
              "/**\n",
              " * Generator function which is called between each async step of the upload\n",
              " * process.\n",
              " * @param {string} inputId Element ID of the input file picker element.\n",
              " * @param {string} outputId Element ID of the output display.\n",
              " * @return {!Iterable<!Object>} Iterable of next steps.\n",
              " */\n",
              "function* uploadFilesStep(inputId, outputId) {\n",
              "  const inputElement = document.getElementById(inputId);\n",
              "  inputElement.disabled = false;\n",
              "\n",
              "  const outputElement = document.getElementById(outputId);\n",
              "  outputElement.innerHTML = '';\n",
              "\n",
              "  const pickedPromise = new Promise((resolve) => {\n",
              "    inputElement.addEventListener('change', (e) => {\n",
              "      resolve(e.target.files);\n",
              "    });\n",
              "  });\n",
              "\n",
              "  const cancel = document.createElement('button');\n",
              "  inputElement.parentElement.appendChild(cancel);\n",
              "  cancel.textContent = 'Cancel upload';\n",
              "  const cancelPromise = new Promise((resolve) => {\n",
              "    cancel.onclick = () => {\n",
              "      resolve(null);\n",
              "    };\n",
              "  });\n",
              "\n",
              "  // Wait for the user to pick the files.\n",
              "  const files = yield {\n",
              "    promise: Promise.race([pickedPromise, cancelPromise]),\n",
              "    response: {\n",
              "      action: 'starting',\n",
              "    }\n",
              "  };\n",
              "\n",
              "  cancel.remove();\n",
              "\n",
              "  // Disable the input element since further picks are not allowed.\n",
              "  inputElement.disabled = true;\n",
              "\n",
              "  if (!files) {\n",
              "    return {\n",
              "      response: {\n",
              "        action: 'complete',\n",
              "      }\n",
              "    };\n",
              "  }\n",
              "\n",
              "  for (const file of files) {\n",
              "    const li = document.createElement('li');\n",
              "    li.append(span(file.name, {fontWeight: 'bold'}));\n",
              "    li.append(span(\n",
              "        `(${file.type || 'n/a'}) - ${file.size} bytes, ` +\n",
              "        `last modified: ${\n",
              "            file.lastModifiedDate ? file.lastModifiedDate.toLocaleDateString() :\n",
              "                                    'n/a'} - `));\n",
              "    const percent = span('0% done');\n",
              "    li.appendChild(percent);\n",
              "\n",
              "    outputElement.appendChild(li);\n",
              "\n",
              "    const fileDataPromise = new Promise((resolve) => {\n",
              "      const reader = new FileReader();\n",
              "      reader.onload = (e) => {\n",
              "        resolve(e.target.result);\n",
              "      };\n",
              "      reader.readAsArrayBuffer(file);\n",
              "    });\n",
              "    // Wait for the data to be ready.\n",
              "    let fileData = yield {\n",
              "      promise: fileDataPromise,\n",
              "      response: {\n",
              "        action: 'continue',\n",
              "      }\n",
              "    };\n",
              "\n",
              "    // Use a chunked sending to avoid message size limits. See b/62115660.\n",
              "    let position = 0;\n",
              "    do {\n",
              "      const length = Math.min(fileData.byteLength - position, MAX_PAYLOAD_SIZE);\n",
              "      const chunk = new Uint8Array(fileData, position, length);\n",
              "      position += length;\n",
              "\n",
              "      const base64 = btoa(String.fromCharCode.apply(null, chunk));\n",
              "      yield {\n",
              "        response: {\n",
              "          action: 'append',\n",
              "          file: file.name,\n",
              "          data: base64,\n",
              "        },\n",
              "      };\n",
              "\n",
              "      let percentDone = fileData.byteLength === 0 ?\n",
              "          100 :\n",
              "          Math.round((position / fileData.byteLength) * 100);\n",
              "      percent.textContent = `${percentDone}% done`;\n",
              "\n",
              "    } while (position < fileData.byteLength);\n",
              "  }\n",
              "\n",
              "  // All done.\n",
              "  yield {\n",
              "    response: {\n",
              "      action: 'complete',\n",
              "    }\n",
              "  };\n",
              "}\n",
              "\n",
              "scope.google = scope.google || {};\n",
              "scope.google.colab = scope.google.colab || {};\n",
              "scope.google.colab._files = {\n",
              "  _uploadFiles,\n",
              "  _uploadFilesContinue,\n",
              "};\n",
              "})(self);\n",
              "</script> "
            ]
          },
          "metadata": {}
        },
        {
          "output_type": "stream",
          "name": "stdout",
          "text": [
            "Saving listings_BRA.csv to listings_BRA.csv\n"
          ]
        }
      ]
    },
    {
      "cell_type": "code",
      "source": [
        "df = pd.read_csv('listings_BRA.csv')\n",
        "df.head()"
      ],
      "metadata": {
        "id": "HFfBELwc92m2",
        "colab": {
          "base_uri": "https://localhost:8080/",
          "height": 647
        },
        "outputId": "30e0324b-c306-4bf3-f680-74f89dfd2a57"
      },
      "execution_count": 61,
      "outputs": [
        {
          "output_type": "execute_result",
          "data": {
            "text/plain": [
              "         id                            listing_url       scrape_id  \\\n",
              "0  53344884  https://www.airbnb.com/rooms/53344884  20220921172238   \n",
              "1   7801456   https://www.airbnb.com/rooms/7801456  20220921172238   \n",
              "2  14333905  https://www.airbnb.com/rooms/14333905  20220921172238   \n",
              "3  44708736  https://www.airbnb.com/rooms/44708736  20220921172238   \n",
              "4  35351763  https://www.airbnb.com/rooms/35351763  20220921172238   \n",
              "\n",
              "  last_scraped       source                                        name  \\\n",
              "0   2022-09-22  city scrape  Suntuoso apartamento em Copacabana posto 6   \n",
              "1   2022-09-22  city scrape          Ipanema Vieira Souto - Linda Vista   \n",
              "2   2022-09-22  city scrape                          Casa compartilhada   \n",
              "3   2022-09-22  city scrape         Aluguel de Lancha no Rio de Janeiro   \n",
              "4   2022-09-22  city scrape                          Uma grande família   \n",
              "\n",
              "                                         description  \\\n",
              "0  suntuoso apartamento de frente para o mar <br ...   \n",
              "1  Flat luxuoso com a melhor localização do Rio d...   \n",
              "2  A 15 min. do complexo esportivo de Deodoro, Ca...   \n",
              "3  Iate Intermarine 440 Full Gold c/ Fly p/ até 1...   \n",
              "4  Estou oferecendo minha casa ,minha família meu...   \n",
              "\n",
              "                               neighborhood_overview  \\\n",
              "0                                                NaN   \n",
              "1  Ipanema é considerado o berço do rio, cheio de...   \n",
              "2                                                NaN   \n",
              "3  A Marina da Glória fica no bairro do Flamengo ...   \n",
              "4                                         São Mateus   \n",
              "\n",
              "                                         picture_url    host_id  ...  \\\n",
              "0  https://a0.muscache.com/pictures/miso/Hosting-...  431412286  ...   \n",
              "1  https://a0.muscache.com/pictures/99276394/dc9c...   40650139  ...   \n",
              "2  https://a0.muscache.com/pictures/15235501-16c4...   87749071  ...   \n",
              "3  https://a0.muscache.com/pictures/210e9877-2854...   97164727  ...   \n",
              "4  https://a0.muscache.com/pictures/44713611-925b...  249666532  ...   \n",
              "\n",
              "  review_scores_communication review_scores_location review_scores_value  \\\n",
              "0                         NaN                    NaN                 NaN   \n",
              "1                         NaN                    NaN                 NaN   \n",
              "2                         NaN                    NaN                 NaN   \n",
              "3                         5.0                    5.0                 5.0   \n",
              "4                         NaN                    NaN                 NaN   \n",
              "\n",
              "  license instant_bookable calculated_host_listings_count  \\\n",
              "0     NaN                t                             10   \n",
              "1     NaN                t                              5   \n",
              "2     NaN                t                              1   \n",
              "3     NaN                f                              2   \n",
              "4     NaN                t                              1   \n",
              "\n",
              "  calculated_host_listings_count_entire_homes  \\\n",
              "0                                           8   \n",
              "1                                           5   \n",
              "2                                           1   \n",
              "3                                           2   \n",
              "4                                           1   \n",
              "\n",
              "  calculated_host_listings_count_private_rooms  \\\n",
              "0                                            2   \n",
              "1                                            0   \n",
              "2                                            0   \n",
              "3                                            0   \n",
              "4                                            0   \n",
              "\n",
              "  calculated_host_listings_count_shared_rooms reviews_per_month  \n",
              "0                                           0               NaN  \n",
              "1                                           0               NaN  \n",
              "2                                           0               NaN  \n",
              "3                                           0               0.1  \n",
              "4                                           0               NaN  \n",
              "\n",
              "[5 rows x 75 columns]"
            ],
            "text/html": [
              "\n",
              "  <div id=\"df-f2d5583e-ceb2-4536-b647-cf9026d95fb4\">\n",
              "    <div class=\"colab-df-container\">\n",
              "      <div>\n",
              "<style scoped>\n",
              "    .dataframe tbody tr th:only-of-type {\n",
              "        vertical-align: middle;\n",
              "    }\n",
              "\n",
              "    .dataframe tbody tr th {\n",
              "        vertical-align: top;\n",
              "    }\n",
              "\n",
              "    .dataframe thead th {\n",
              "        text-align: right;\n",
              "    }\n",
              "</style>\n",
              "<table border=\"1\" class=\"dataframe\">\n",
              "  <thead>\n",
              "    <tr style=\"text-align: right;\">\n",
              "      <th></th>\n",
              "      <th>id</th>\n",
              "      <th>listing_url</th>\n",
              "      <th>scrape_id</th>\n",
              "      <th>last_scraped</th>\n",
              "      <th>source</th>\n",
              "      <th>name</th>\n",
              "      <th>description</th>\n",
              "      <th>neighborhood_overview</th>\n",
              "      <th>picture_url</th>\n",
              "      <th>host_id</th>\n",
              "      <th>...</th>\n",
              "      <th>review_scores_communication</th>\n",
              "      <th>review_scores_location</th>\n",
              "      <th>review_scores_value</th>\n",
              "      <th>license</th>\n",
              "      <th>instant_bookable</th>\n",
              "      <th>calculated_host_listings_count</th>\n",
              "      <th>calculated_host_listings_count_entire_homes</th>\n",
              "      <th>calculated_host_listings_count_private_rooms</th>\n",
              "      <th>calculated_host_listings_count_shared_rooms</th>\n",
              "      <th>reviews_per_month</th>\n",
              "    </tr>\n",
              "  </thead>\n",
              "  <tbody>\n",
              "    <tr>\n",
              "      <th>0</th>\n",
              "      <td>53344884</td>\n",
              "      <td>https://www.airbnb.com/rooms/53344884</td>\n",
              "      <td>20220921172238</td>\n",
              "      <td>2022-09-22</td>\n",
              "      <td>city scrape</td>\n",
              "      <td>Suntuoso apartamento em Copacabana posto 6</td>\n",
              "      <td>suntuoso apartamento de frente para o mar &lt;br ...</td>\n",
              "      <td>NaN</td>\n",
              "      <td>https://a0.muscache.com/pictures/miso/Hosting-...</td>\n",
              "      <td>431412286</td>\n",
              "      <td>...</td>\n",
              "      <td>NaN</td>\n",
              "      <td>NaN</td>\n",
              "      <td>NaN</td>\n",
              "      <td>NaN</td>\n",
              "      <td>t</td>\n",
              "      <td>10</td>\n",
              "      <td>8</td>\n",
              "      <td>2</td>\n",
              "      <td>0</td>\n",
              "      <td>NaN</td>\n",
              "    </tr>\n",
              "    <tr>\n",
              "      <th>1</th>\n",
              "      <td>7801456</td>\n",
              "      <td>https://www.airbnb.com/rooms/7801456</td>\n",
              "      <td>20220921172238</td>\n",
              "      <td>2022-09-22</td>\n",
              "      <td>city scrape</td>\n",
              "      <td>Ipanema Vieira Souto - Linda Vista</td>\n",
              "      <td>Flat luxuoso com a melhor localização do Rio d...</td>\n",
              "      <td>Ipanema é considerado o berço do rio, cheio de...</td>\n",
              "      <td>https://a0.muscache.com/pictures/99276394/dc9c...</td>\n",
              "      <td>40650139</td>\n",
              "      <td>...</td>\n",
              "      <td>NaN</td>\n",
              "      <td>NaN</td>\n",
              "      <td>NaN</td>\n",
              "      <td>NaN</td>\n",
              "      <td>t</td>\n",
              "      <td>5</td>\n",
              "      <td>5</td>\n",
              "      <td>0</td>\n",
              "      <td>0</td>\n",
              "      <td>NaN</td>\n",
              "    </tr>\n",
              "    <tr>\n",
              "      <th>2</th>\n",
              "      <td>14333905</td>\n",
              "      <td>https://www.airbnb.com/rooms/14333905</td>\n",
              "      <td>20220921172238</td>\n",
              "      <td>2022-09-22</td>\n",
              "      <td>city scrape</td>\n",
              "      <td>Casa compartilhada</td>\n",
              "      <td>A 15 min. do complexo esportivo de Deodoro, Ca...</td>\n",
              "      <td>NaN</td>\n",
              "      <td>https://a0.muscache.com/pictures/15235501-16c4...</td>\n",
              "      <td>87749071</td>\n",
              "      <td>...</td>\n",
              "      <td>NaN</td>\n",
              "      <td>NaN</td>\n",
              "      <td>NaN</td>\n",
              "      <td>NaN</td>\n",
              "      <td>t</td>\n",
              "      <td>1</td>\n",
              "      <td>1</td>\n",
              "      <td>0</td>\n",
              "      <td>0</td>\n",
              "      <td>NaN</td>\n",
              "    </tr>\n",
              "    <tr>\n",
              "      <th>3</th>\n",
              "      <td>44708736</td>\n",
              "      <td>https://www.airbnb.com/rooms/44708736</td>\n",
              "      <td>20220921172238</td>\n",
              "      <td>2022-09-22</td>\n",
              "      <td>city scrape</td>\n",
              "      <td>Aluguel de Lancha no Rio de Janeiro</td>\n",
              "      <td>Iate Intermarine 440 Full Gold c/ Fly p/ até 1...</td>\n",
              "      <td>A Marina da Glória fica no bairro do Flamengo ...</td>\n",
              "      <td>https://a0.muscache.com/pictures/210e9877-2854...</td>\n",
              "      <td>97164727</td>\n",
              "      <td>...</td>\n",
              "      <td>5.0</td>\n",
              "      <td>5.0</td>\n",
              "      <td>5.0</td>\n",
              "      <td>NaN</td>\n",
              "      <td>f</td>\n",
              "      <td>2</td>\n",
              "      <td>2</td>\n",
              "      <td>0</td>\n",
              "      <td>0</td>\n",
              "      <td>0.1</td>\n",
              "    </tr>\n",
              "    <tr>\n",
              "      <th>4</th>\n",
              "      <td>35351763</td>\n",
              "      <td>https://www.airbnb.com/rooms/35351763</td>\n",
              "      <td>20220921172238</td>\n",
              "      <td>2022-09-22</td>\n",
              "      <td>city scrape</td>\n",
              "      <td>Uma grande família</td>\n",
              "      <td>Estou oferecendo minha casa ,minha família meu...</td>\n",
              "      <td>São Mateus</td>\n",
              "      <td>https://a0.muscache.com/pictures/44713611-925b...</td>\n",
              "      <td>249666532</td>\n",
              "      <td>...</td>\n",
              "      <td>NaN</td>\n",
              "      <td>NaN</td>\n",
              "      <td>NaN</td>\n",
              "      <td>NaN</td>\n",
              "      <td>t</td>\n",
              "      <td>1</td>\n",
              "      <td>1</td>\n",
              "      <td>0</td>\n",
              "      <td>0</td>\n",
              "      <td>NaN</td>\n",
              "    </tr>\n",
              "  </tbody>\n",
              "</table>\n",
              "<p>5 rows × 75 columns</p>\n",
              "</div>\n",
              "      <button class=\"colab-df-convert\" onclick=\"convertToInteractive('df-f2d5583e-ceb2-4536-b647-cf9026d95fb4')\"\n",
              "              title=\"Convert this dataframe to an interactive table.\"\n",
              "              style=\"display:none;\">\n",
              "        \n",
              "  <svg xmlns=\"http://www.w3.org/2000/svg\" height=\"24px\"viewBox=\"0 0 24 24\"\n",
              "       width=\"24px\">\n",
              "    <path d=\"M0 0h24v24H0V0z\" fill=\"none\"/>\n",
              "    <path d=\"M18.56 5.44l.94 2.06.94-2.06 2.06-.94-2.06-.94-.94-2.06-.94 2.06-2.06.94zm-11 1L8.5 8.5l.94-2.06 2.06-.94-2.06-.94L8.5 2.5l-.94 2.06-2.06.94zm10 10l.94 2.06.94-2.06 2.06-.94-2.06-.94-.94-2.06-.94 2.06-2.06.94z\"/><path d=\"M17.41 7.96l-1.37-1.37c-.4-.4-.92-.59-1.43-.59-.52 0-1.04.2-1.43.59L10.3 9.45l-7.72 7.72c-.78.78-.78 2.05 0 2.83L4 21.41c.39.39.9.59 1.41.59.51 0 1.02-.2 1.41-.59l7.78-7.78 2.81-2.81c.8-.78.8-2.07 0-2.86zM5.41 20L4 18.59l7.72-7.72 1.47 1.35L5.41 20z\"/>\n",
              "  </svg>\n",
              "      </button>\n",
              "      \n",
              "  <style>\n",
              "    .colab-df-container {\n",
              "      display:flex;\n",
              "      flex-wrap:wrap;\n",
              "      gap: 12px;\n",
              "    }\n",
              "\n",
              "    .colab-df-convert {\n",
              "      background-color: #E8F0FE;\n",
              "      border: none;\n",
              "      border-radius: 50%;\n",
              "      cursor: pointer;\n",
              "      display: none;\n",
              "      fill: #1967D2;\n",
              "      height: 32px;\n",
              "      padding: 0 0 0 0;\n",
              "      width: 32px;\n",
              "    }\n",
              "\n",
              "    .colab-df-convert:hover {\n",
              "      background-color: #E2EBFA;\n",
              "      box-shadow: 0px 1px 2px rgba(60, 64, 67, 0.3), 0px 1px 3px 1px rgba(60, 64, 67, 0.15);\n",
              "      fill: #174EA6;\n",
              "    }\n",
              "\n",
              "    [theme=dark] .colab-df-convert {\n",
              "      background-color: #3B4455;\n",
              "      fill: #D2E3FC;\n",
              "    }\n",
              "\n",
              "    [theme=dark] .colab-df-convert:hover {\n",
              "      background-color: #434B5C;\n",
              "      box-shadow: 0px 1px 3px 1px rgba(0, 0, 0, 0.15);\n",
              "      filter: drop-shadow(0px 1px 2px rgba(0, 0, 0, 0.3));\n",
              "      fill: #FFFFFF;\n",
              "    }\n",
              "  </style>\n",
              "\n",
              "      <script>\n",
              "        const buttonEl =\n",
              "          document.querySelector('#df-f2d5583e-ceb2-4536-b647-cf9026d95fb4 button.colab-df-convert');\n",
              "        buttonEl.style.display =\n",
              "          google.colab.kernel.accessAllowed ? 'block' : 'none';\n",
              "\n",
              "        async function convertToInteractive(key) {\n",
              "          const element = document.querySelector('#df-f2d5583e-ceb2-4536-b647-cf9026d95fb4');\n",
              "          const dataTable =\n",
              "            await google.colab.kernel.invokeFunction('convertToInteractive',\n",
              "                                                     [key], {});\n",
              "          if (!dataTable) return;\n",
              "\n",
              "          const docLinkHtml = 'Like what you see? Visit the ' +\n",
              "            '<a target=\"_blank\" href=https://colab.research.google.com/notebooks/data_table.ipynb>data table notebook</a>'\n",
              "            + ' to learn more about interactive tables.';\n",
              "          element.innerHTML = '';\n",
              "          dataTable['output_type'] = 'display_data';\n",
              "          await google.colab.output.renderOutput(dataTable, element);\n",
              "          const docLink = document.createElement('div');\n",
              "          docLink.innerHTML = docLinkHtml;\n",
              "          element.appendChild(docLink);\n",
              "        }\n",
              "      </script>\n",
              "    </div>\n",
              "  </div>\n",
              "  "
            ]
          },
          "metadata": {},
          "execution_count": 61
        }
      ]
    },
    {
      "cell_type": "code",
      "source": [
        "df.dtypes"
      ],
      "metadata": {
        "id": "0PLNgwTzrcjS"
      },
      "execution_count": null,
      "outputs": []
    },
    {
      "cell_type": "markdown",
      "source": [
        "#Filtrado"
      ],
      "metadata": {
        "id": "Pm91cniY8TnQ"
      }
    },
    {
      "cell_type": "code",
      "source": [
        "df = df[['host_acceptance_rate', 'review_scores_rating', 'price', 'review_scores_cleanliness', 'availability_365', 'review_scores_communication', 'room_type', 'number_of_reviews']]\n",
        "df"
      ],
      "metadata": {
        "id": "vZBM61N3a1n_"
      },
      "execution_count": null,
      "outputs": []
    },
    {
      "cell_type": "code",
      "source": [
        "df[\"host_acceptance_rate\"] = df[\"host_acceptance_rate\"].str.replace(\"%\",\"\")\n",
        "df[\"price\"] = df[\"price\"].str.replace(\"$\",\"\")\n",
        "df[\"price\"] = df[\"price\"].str.replace(\",\",\"\")\n",
        "df"
      ],
      "metadata": {
        "id": "HXsb1baCbKbO"
      },
      "execution_count": null,
      "outputs": []
    },
    {
      "cell_type": "code",
      "source": [
        "df['host_acceptance_rate']=df['host_acceptance_rate'].astype({'host_acceptance_rate': 'float64'})\n",
        "df['price']=df['price'].astype({'price': 'float64'})\n",
        "df['availability_365']=df['availability_365'].astype({'availability_365': 'float64'})\n",
        "df['number_of_reviews']=df['number_of_reviews'].astype({'number_of_reviews': 'float64'})"
      ],
      "metadata": {
        "id": "6vqBHsTRblo2"
      },
      "execution_count": null,
      "outputs": []
    },
    {
      "cell_type": "code",
      "source": [
        "df['room_type'].unique()"
      ],
      "metadata": {
        "id": "lJbpt7vR-XQK"
      },
      "execution_count": null,
      "outputs": []
    },
    {
      "cell_type": "code",
      "source": [
        "EntireHome=df[df['room_type']=='Entire home/apt']\n",
        "EntireHome.head()"
      ],
      "metadata": {
        "id": "y2kbcmaySP1D"
      },
      "execution_count": null,
      "outputs": []
    },
    {
      "cell_type": "code",
      "source": [
        "PrivateRoom=df[df['room_type']=='Private room']\n",
        "PrivateRoom.head()"
      ],
      "metadata": {
        "id": "3FtiY6bp_51i"
      },
      "execution_count": null,
      "outputs": []
    },
    {
      "cell_type": "code",
      "source": [
        "SharedRoom=df[df['room_type']=='Shared room']\n",
        "SharedRoom.head()"
      ],
      "metadata": {
        "id": "1flxC94TADnW"
      },
      "execution_count": null,
      "outputs": []
    },
    {
      "cell_type": "markdown",
      "source": [
        "#Limpieza de Base de datos"
      ],
      "metadata": {
        "id": "GxgN2FuTBanR"
      }
    },
    {
      "cell_type": "markdown",
      "source": [
        "##Entire Home"
      ],
      "metadata": {
        "id": "qzFUKBeUbUDN"
      }
    },
    {
      "cell_type": "code",
      "source": [
        "#Remplazar datos nulos con promedios\n",
        "from numpy import nan as NaN\n",
        "EntireHome=EntireHome.fillna({'host_acceptance_rate':float(EntireHome['host_acceptance_rate'].mean())})\n",
        "EntireHome=EntireHome.fillna({'review_scores_rating':float(EntireHome['review_scores_rating'].mean())})\n",
        "EntireHome=EntireHome.fillna({'review_scores_cleanliness':float(EntireHome['review_scores_cleanliness'].mean())})\n",
        "EntireHome=EntireHome.fillna({'review_scores_communication':float(EntireHome['review_scores_communication'].mean())})\n",
        "\n",
        "EntireHome"
      ],
      "metadata": {
        "id": "_eAX5mO9bS51"
      },
      "execution_count": null,
      "outputs": []
    },
    {
      "cell_type": "code",
      "source": [
        "#Eliminación de outliers\n",
        "y=EntireHome\n",
        "\n",
        "percentile25=y.quantile(0.25) #Q1\n",
        "percentile75=y.quantile(0.75) #Q3\n",
        "iqr= percentile75 - percentile25\n",
        "\n",
        "Limite_Superior_iqr= percentile75 + 1.5*iqr\n",
        "Limite_Inferior_iqr= percentile25 - 1.5*iqr\n",
        "print(\"Limite superior permitido\", Limite_Superior_iqr)\n",
        "print(\"Limite inferior permitido\", Limite_Inferior_iqr)\n",
        "\n",
        "df3= df[(y<=Limite_Superior_iqr)&(y>=Limite_Inferior_iqr)]\n",
        "df3"
      ],
      "metadata": {
        "id": "fDcAolhpFUOr"
      },
      "execution_count": null,
      "outputs": []
    },
    {
      "cell_type": "code",
      "source": [
        "#Llenar los outliers con el promedio\n",
        "EntireHome=df3.fillna(round(df3.mean(),1))\n",
        "EntireHome"
      ],
      "metadata": {
        "id": "0HJ0YKUYcHqW"
      },
      "execution_count": null,
      "outputs": []
    },
    {
      "cell_type": "code",
      "source": [
        "print(len(EntireHome)-EntireHome.count())"
      ],
      "metadata": {
        "id": "fzfTzHR4P_gs"
      },
      "execution_count": null,
      "outputs": []
    },
    {
      "cell_type": "markdown",
      "source": [
        "##PrivateRoom"
      ],
      "metadata": {
        "id": "kG4sIgcvcuvg"
      }
    },
    {
      "cell_type": "code",
      "source": [
        "#Remplazar datos nulos con promedios\n",
        "from numpy import nan as NaN\n",
        "PrivateRoom=PrivateRoom.fillna({'host_acceptance_rate':float(PrivateRoom['host_acceptance_rate'].mean())})\n",
        "PrivateRoom=PrivateRoom.fillna({'review_scores_rating':float(PrivateRoom['review_scores_rating'].mean())})\n",
        "PrivateRoom=PrivateRoom.fillna({'review_scores_cleanliness':float(PrivateRoom['review_scores_cleanliness'].mean())})\n",
        "PrivateRoom=PrivateRoom.fillna({'review_scores_communication':float(PrivateRoom['review_scores_communication'].mean())})\n",
        "\n",
        "PrivateRoom"
      ],
      "metadata": {
        "id": "VYhIvRCncuvh"
      },
      "execution_count": null,
      "outputs": []
    },
    {
      "cell_type": "code",
      "source": [
        "#Eliminación de outliers\n",
        "y=PrivateRoom\n",
        "\n",
        "percentile25=y.quantile(0.25) #Q1\n",
        "percentile75=y.quantile(0.75) #Q3\n",
        "iqr= percentile75 - percentile25\n",
        "\n",
        "Limite_Superior_iqr= percentile75 + 1.5*iqr\n",
        "Limite_Inferior_iqr= percentile25 - 1.5*iqr\n",
        "print(\"Limite superior permitido\", Limite_Superior_iqr)\n",
        "print(\"Limite inferior permitido\", Limite_Inferior_iqr)\n",
        "\n",
        "df3= df[(y<=Limite_Superior_iqr)&(y>=Limite_Inferior_iqr)]\n",
        "df3"
      ],
      "metadata": {
        "id": "bLhSIRDvcuvi"
      },
      "execution_count": null,
      "outputs": []
    },
    {
      "cell_type": "code",
      "source": [
        "#Llenar los outliers con el promedio\n",
        "PrivateRoom=df3.fillna(round(df3.mean(),1))\n",
        "PrivateRoom"
      ],
      "metadata": {
        "id": "hjw_fn9bcuvj"
      },
      "execution_count": null,
      "outputs": []
    },
    {
      "cell_type": "code",
      "source": [
        "print(len(PrivateRoom)-PrivateRoom.count())"
      ],
      "metadata": {
        "id": "BjWlMqJ9dCc_"
      },
      "execution_count": null,
      "outputs": []
    },
    {
      "cell_type": "markdown",
      "source": [
        "##SharedRoom"
      ],
      "metadata": {
        "id": "5NlAUJMwdaIv"
      }
    },
    {
      "cell_type": "code",
      "source": [
        "#Remplazar datos nulos con promedios\n",
        "from numpy import nan as NaN\n",
        "SharedRoom=SharedRoom.fillna({'host_acceptance_rate':float(SharedRoom['host_acceptance_rate'].mean())})\n",
        "SharedRoom=SharedRoom.fillna({'review_scores_rating':float(SharedRoom['review_scores_rating'].mean())})\n",
        "SharedRoom=SharedRoom.fillna({'review_scores_cleanliness':float(SharedRoom['review_scores_cleanliness'].mean())})\n",
        "SharedRoom=SharedRoom.fillna({'review_scores_communication':float(SharedRoom['review_scores_communication'].mean())})\n",
        "\n",
        "SharedRoom"
      ],
      "metadata": {
        "id": "YLTZqqbddaIw"
      },
      "execution_count": null,
      "outputs": []
    },
    {
      "cell_type": "code",
      "source": [
        "#Eliminación de outliers\n",
        "y=SharedRoom\n",
        "\n",
        "percentile25=y.quantile(0.25) #Q1\n",
        "percentile75=y.quantile(0.75) #Q3\n",
        "iqr= percentile75 - percentile25\n",
        "\n",
        "Limite_Superior_iqr= percentile75 + 1.5*iqr\n",
        "Limite_Inferior_iqr= percentile25 - 1.5*iqr\n",
        "print(\"Limite superior permitido\", Limite_Superior_iqr)\n",
        "print(\"Limite inferior permitido\", Limite_Inferior_iqr)\n",
        "\n",
        "df3= df[(y<=Limite_Superior_iqr)&(y>=Limite_Inferior_iqr)]\n",
        "df3"
      ],
      "metadata": {
        "id": "TSmF6MYYdaIx"
      },
      "execution_count": null,
      "outputs": []
    },
    {
      "cell_type": "code",
      "source": [
        "#Llenar los outliers con el promedio\n",
        "SharedRoom=df3.fillna(round(df3.mean(),1))\n",
        "SharedRoom"
      ],
      "metadata": {
        "id": "dBTTeCOCdaIx"
      },
      "execution_count": null,
      "outputs": []
    },
    {
      "cell_type": "code",
      "source": [
        "print(len(SharedRoom)-SharedRoom.count())"
      ],
      "metadata": {
        "id": "kYKq0xqadaIx"
      },
      "execution_count": null,
      "outputs": []
    },
    {
      "cell_type": "markdown",
      "source": [
        "#Análisis de correlaciones por tipo de cuarto"
      ],
      "metadata": {
        "id": "Nbjb6ZuYA3GX"
      }
    },
    {
      "cell_type": "markdown",
      "source": [
        "##Entire home/apt"
      ],
      "metadata": {
        "id": "ZvdJLpjgA6RP"
      }
    },
    {
      "cell_type": "code",
      "source": [
        "Vars_Dep = EntireHome['number_of_reviews']\n",
        "Vars_Indep1 = EntireHome[['host_acceptance_rate']]\n",
        "Vars_Indep2 = EntireHome[['review_scores_rating']]\n",
        "Vars_Indep3 = EntireHome[['price']]\n",
        "Vars_Indep4 = EntireHome[['review_scores_cleanliness']]\n",
        "Vars_Indep5 = EntireHome[['availability_365']]\n",
        "Vars_Indep6 = EntireHome[['review_scores_communication']]\n",
        "from sklearn.linear_model import LinearRegression"
      ],
      "metadata": {
        "id": "3cY3ACGoBsS2"
      },
      "execution_count": null,
      "outputs": []
    },
    {
      "cell_type": "code",
      "source": [
        "#Gráficas de correlaciones \n",
        "column_sels=['host_acceptance_rate','review_scores_rating', 'price', 'review_scores_cleanliness', 'availability_365','review_scores_communication']\n",
        "x=EntireHome.loc[:,column_sels]#variables explicativas\n",
        "\n",
        "y=EntireHome['number_of_reviews']#target, variable dependiente\n",
        "\n",
        "fig, axs=plt.subplots(ncols=3,nrows=2,figsize=(16,8))\n",
        "\n",
        "#index=0\n",
        "\n",
        "axs=axs.flatten()\n",
        "for i, k in enumerate(column_sels):\n",
        "  sns.regplot(x=x[k],y=y,data=EntireHome,ax=axs[i])\n",
        "  plt.tight_layout(pad=0.4)"
      ],
      "metadata": {
        "id": "ljqwzbRAMEfT"
      },
      "execution_count": null,
      "outputs": []
    },
    {
      "cell_type": "code",
      "source": [
        "model1 = LinearRegression()\n",
        "model2 = LinearRegression()\n",
        "model3 = LinearRegression()\n",
        "model4 = LinearRegression()\n",
        "model5 = LinearRegression()\n",
        "model6 = LinearRegression()"
      ],
      "metadata": {
        "id": "ypHRnIvwFij8"
      },
      "execution_count": null,
      "outputs": []
    },
    {
      "cell_type": "code",
      "source": [
        "# Correlación de number_of_reviews vs host_acceptance_rate \n",
        "\n",
        "model1.fit(X = Vars_Indep1, y = Vars_Dep)\n",
        "model1.__dict__\n",
        "model1.score(Vars_Indep1, Vars_Dep)"
      ],
      "metadata": {
        "colab": {
          "base_uri": "https://localhost:8080/"
        },
        "id": "J-R3RcngFwGA",
        "outputId": "e4a76a09-a5b1-40c8-d5f1-2d72f69cceba"
      },
      "execution_count": 64,
      "outputs": [
        {
          "output_type": "execute_result",
          "data": {
            "text/plain": [
              "0.001433652411038211"
            ]
          },
          "metadata": {},
          "execution_count": 64
        }
      ]
    },
    {
      "cell_type": "code",
      "source": [
        "# Correlación de number_of_reviews vs review_scores_rating \n",
        "\n",
        "model2.fit(X = Vars_Indep2, y = Vars_Dep)\n",
        "model2.__dict__\n",
        "model2.score(Vars_Indep2, Vars_Dep)"
      ],
      "metadata": {
        "colab": {
          "base_uri": "https://localhost:8080/"
        },
        "id": "gKL8VbA7E8hH",
        "outputId": "eae3c491-fa91-4c1f-982d-7f1208b77e3d"
      },
      "execution_count": 65,
      "outputs": [
        {
          "output_type": "execute_result",
          "data": {
            "text/plain": [
              "9.87093152698959e-05"
            ]
          },
          "metadata": {},
          "execution_count": 65
        }
      ]
    },
    {
      "cell_type": "code",
      "source": [
        "# Correlación de number_of_reviews vs price \n",
        "\n",
        "model3.fit(X = Vars_Indep3, y = Vars_Dep)\n",
        "model3.__dict__\n",
        "model3.score(Vars_Indep3, Vars_Dep)"
      ],
      "metadata": {
        "colab": {
          "base_uri": "https://localhost:8080/"
        },
        "id": "ltAeSqyXe7CW",
        "outputId": "8c5784b2-5481-4887-9026-520fd8b7d02c"
      },
      "execution_count": 66,
      "outputs": [
        {
          "output_type": "execute_result",
          "data": {
            "text/plain": [
              "0.0034465429189748376"
            ]
          },
          "metadata": {},
          "execution_count": 66
        }
      ]
    },
    {
      "cell_type": "code",
      "source": [
        "# Correlación de number_of_reviews vs review_scores_cleanliness \n",
        "\n",
        "model4.fit(X = Vars_Indep4, y = Vars_Dep)\n",
        "model4.__dict__\n",
        "model4.score(Vars_Indep4, Vars_Dep)"
      ],
      "metadata": {
        "colab": {
          "base_uri": "https://localhost:8080/"
        },
        "id": "iuWtFuB4e7nh",
        "outputId": "66ccf42e-d65d-4eba-902d-04b090688932"
      },
      "execution_count": 67,
      "outputs": [
        {
          "output_type": "execute_result",
          "data": {
            "text/plain": [
              "0.004610933419606944"
            ]
          },
          "metadata": {},
          "execution_count": 67
        }
      ]
    },
    {
      "cell_type": "code",
      "source": [
        "# Correlación de number_of_reviews vs availability_365\n",
        "\n",
        "model5.fit(X = Vars_Indep5, y = Vars_Dep)\n",
        "model5.__dict__\n",
        "model5.score(Vars_Indep5, Vars_Dep)"
      ],
      "metadata": {
        "colab": {
          "base_uri": "https://localhost:8080/"
        },
        "id": "RRk94-ple75r",
        "outputId": "e33e18e6-85ed-44b1-a528-239d4d99df94"
      },
      "execution_count": 68,
      "outputs": [
        {
          "output_type": "execute_result",
          "data": {
            "text/plain": [
              "0.001742554297590293"
            ]
          },
          "metadata": {},
          "execution_count": 68
        }
      ]
    },
    {
      "cell_type": "code",
      "source": [
        "# Correlación de number_of_reviews vs review_scores_communication\n",
        "\n",
        "model6.fit(X = Vars_Indep6, y = Vars_Dep)\n",
        "model6.__dict__\n",
        "model6.score(Vars_Indep6, Vars_Dep)"
      ],
      "metadata": {
        "colab": {
          "base_uri": "https://localhost:8080/"
        },
        "id": "9VLyueiNe8PK",
        "outputId": "18e07a0b-613f-484e-982a-9a0247fce3d7"
      },
      "execution_count": 69,
      "outputs": [
        {
          "output_type": "execute_result",
          "data": {
            "text/plain": [
              "0.0273435487378878"
            ]
          },
          "metadata": {},
          "execution_count": 69
        }
      ]
    },
    {
      "cell_type": "markdown",
      "source": [
        "## Private room"
      ],
      "metadata": {
        "id": "ek_TZRcY04pb"
      }
    },
    {
      "cell_type": "code",
      "source": [
        "Vars_Dep = PrivateRoom['number_of_reviews']\n",
        "Vars_Indep1 = PrivateRoom[['host_acceptance_rate']]\n",
        "Vars_Indep2 = PrivateRoom[['review_scores_rating']]\n",
        "Vars_Indep3 = PrivateRoom[['price']]\n",
        "Vars_Indep4 = PrivateRoom[['review_scores_cleanliness']]\n",
        "Vars_Indep5 = PrivateRoom[['availability_365']]\n",
        "Vars_Indep6 = PrivateRoom[['review_scores_communication']]\n",
        "from sklearn.linear_model import LinearRegression"
      ],
      "metadata": {
        "id": "rc6We6pT080b"
      },
      "execution_count": null,
      "outputs": []
    },
    {
      "cell_type": "code",
      "source": [
        "#Gráficas de correlaciones \n",
        "column_sels=['host_acceptance_rate','review_scores_rating', 'price', 'review_scores_cleanliness', 'availability_365','review_scores_communication']\n",
        "x=PrivateRoom.loc[:,column_sels]#variables explicativas\n",
        "\n",
        "y=PrivateRoom['number_of_reviews']#target, variable dependiente\n",
        "\n",
        "fig, axs=plt.subplots(ncols=3,nrows=2,figsize=(16,8))\n",
        "\n",
        "#index=0\n",
        "\n",
        "axs=axs.flatten()\n",
        "for i, k in enumerate(column_sels):\n",
        "  sns.regplot(x=x[k],y=y,data=PrivateRoom,ax=axs[i])\n",
        "  plt.tight_layout(pad=0.4)"
      ],
      "metadata": {
        "id": "qzPkqaGdMf1d"
      },
      "execution_count": null,
      "outputs": []
    },
    {
      "cell_type": "code",
      "source": [
        "model1 = LinearRegression()\n",
        "model2 = LinearRegression()\n",
        "model3 = LinearRegression()\n",
        "model4 = LinearRegression()\n",
        "model5 = LinearRegression()\n",
        "model6 = LinearRegression()"
      ],
      "metadata": {
        "id": "GMhcvabM080c"
      },
      "execution_count": null,
      "outputs": []
    },
    {
      "cell_type": "code",
      "source": [
        "# Correlación de number_of_reviews vs host_acceptance_rate \n",
        "\n",
        "model1.fit(X = Vars_Indep1, y = Vars_Dep)\n",
        "model1.__dict__\n",
        "model1.score(Vars_Indep1, Vars_Dep)"
      ],
      "metadata": {
        "colab": {
          "base_uri": "https://localhost:8080/"
        },
        "outputId": "256092f9-77b1-4416-a317-fff6e9657b7e",
        "id": "GAsKBGhD080c"
      },
      "execution_count": 70,
      "outputs": [
        {
          "output_type": "execute_result",
          "data": {
            "text/plain": [
              "0.001433652411038211"
            ]
          },
          "metadata": {},
          "execution_count": 70
        }
      ]
    },
    {
      "cell_type": "code",
      "source": [
        "# Correlación de number_of_reviews vs review_scores_rating \n",
        "\n",
        "model2.fit(X = Vars_Indep2, y = Vars_Dep)\n",
        "model2.__dict__\n",
        "model2.score(Vars_Indep2, Vars_Dep)"
      ],
      "metadata": {
        "colab": {
          "base_uri": "https://localhost:8080/"
        },
        "outputId": "7def2407-6871-4870-849f-749a18a1a81a",
        "id": "oh1wlrjp080d"
      },
      "execution_count": 71,
      "outputs": [
        {
          "output_type": "execute_result",
          "data": {
            "text/plain": [
              "9.87093152698959e-05"
            ]
          },
          "metadata": {},
          "execution_count": 71
        }
      ]
    },
    {
      "cell_type": "code",
      "source": [
        "# Correlación de number_of_reviews vs price \n",
        "\n",
        "model3.fit(X = Vars_Indep3, y = Vars_Dep)\n",
        "model3.__dict__\n",
        "model3.score(Vars_Indep3, Vars_Dep)"
      ],
      "metadata": {
        "colab": {
          "base_uri": "https://localhost:8080/"
        },
        "outputId": "6ad8105a-27ab-4064-ecce-aee4ade47ec1",
        "id": "ylLEG0IO080e"
      },
      "execution_count": 72,
      "outputs": [
        {
          "output_type": "execute_result",
          "data": {
            "text/plain": [
              "0.0034465429189748376"
            ]
          },
          "metadata": {},
          "execution_count": 72
        }
      ]
    },
    {
      "cell_type": "code",
      "source": [
        "# Correlación de number_of_reviews vs review_scores_cleanliness \n",
        "\n",
        "model4.fit(X = Vars_Indep4, y = Vars_Dep)\n",
        "model4.__dict__\n",
        "model4.score(Vars_Indep4, Vars_Dep)"
      ],
      "metadata": {
        "colab": {
          "base_uri": "https://localhost:8080/"
        },
        "outputId": "804cbc09-7936-46c5-b0a8-a50cfee81294",
        "id": "xOOg_lGe080e"
      },
      "execution_count": 73,
      "outputs": [
        {
          "output_type": "execute_result",
          "data": {
            "text/plain": [
              "0.004610933419606944"
            ]
          },
          "metadata": {},
          "execution_count": 73
        }
      ]
    },
    {
      "cell_type": "code",
      "source": [
        "# Correlación de number_of_reviews vs availability_365\n",
        "\n",
        "model5.fit(X = Vars_Indep5, y = Vars_Dep)\n",
        "model5.__dict__\n",
        "model5.score(Vars_Indep5, Vars_Dep)"
      ],
      "metadata": {
        "colab": {
          "base_uri": "https://localhost:8080/"
        },
        "outputId": "a7ee6ee8-af73-4134-f1df-e1020a6e4681",
        "id": "MNZDDjYq080f"
      },
      "execution_count": 74,
      "outputs": [
        {
          "output_type": "execute_result",
          "data": {
            "text/plain": [
              "0.001742554297590293"
            ]
          },
          "metadata": {},
          "execution_count": 74
        }
      ]
    },
    {
      "cell_type": "code",
      "source": [
        "# Correlación de number_of_reviews vs review_scores_communication\n",
        "\n",
        "model6.fit(X = Vars_Indep6, y = Vars_Dep)\n",
        "model6.__dict__\n",
        "model6.score(Vars_Indep6, Vars_Dep)"
      ],
      "metadata": {
        "colab": {
          "base_uri": "https://localhost:8080/"
        },
        "outputId": "59524b6f-cac3-4db3-fdd2-4bdc6328fa99",
        "id": "u_jtkvwe080g"
      },
      "execution_count": 75,
      "outputs": [
        {
          "output_type": "execute_result",
          "data": {
            "text/plain": [
              "0.0273435487378878"
            ]
          },
          "metadata": {},
          "execution_count": 75
        }
      ]
    },
    {
      "cell_type": "markdown",
      "source": [
        "## Shared room"
      ],
      "metadata": {
        "id": "1xg7DlYw3_Jo"
      }
    },
    {
      "cell_type": "code",
      "source": [
        "Vars_Dep = SharedRoom['number_of_reviews']\n",
        "Vars_Indep1 = SharedRoom[['host_acceptance_rate']]\n",
        "Vars_Indep2 = SharedRoom[['review_scores_rating']]\n",
        "Vars_Indep3 = SharedRoom[['price']]\n",
        "Vars_Indep4 = SharedRoom[['review_scores_cleanliness']]\n",
        "Vars_Indep5 = SharedRoom[['availability_365']]\n",
        "Vars_Indep6 = SharedRoom[['review_scores_communication']]\n",
        "from sklearn.linear_model import LinearRegression"
      ],
      "metadata": {
        "id": "K3R4x_OV4GlM"
      },
      "execution_count": null,
      "outputs": []
    },
    {
      "cell_type": "code",
      "source": [
        "column_sels=['host_acceptance_rate','review_scores_rating', 'price', 'review_scores_cleanliness', 'availability_365','review_scores_communication']\n",
        "x=SharedRoom.loc[:,column_sels]#variables explicativas\n",
        "\n",
        "y=SharedRoom['number_of_reviews']#target, variable dependiente\n",
        "\n",
        "fig, axs=plt.subplots(ncols=3,nrows=2,figsize=(16,8))\n",
        "\n",
        "#index=0\n",
        "\n",
        "axs=axs.flatten()\n",
        "for i, k in enumerate(column_sels):\n",
        "  sns.regplot(x=x[k],y=y,data=SharedRoom,ax=axs[i])\n",
        "  plt.tight_layout(pad=0.4)"
      ],
      "metadata": {
        "id": "P9RYvpDKMw_S"
      },
      "execution_count": null,
      "outputs": []
    },
    {
      "cell_type": "code",
      "source": [
        "model1 = LinearRegression()\n",
        "model2 = LinearRegression()\n",
        "model3 = LinearRegression()\n",
        "model4 = LinearRegression()\n",
        "model5 = LinearRegression()\n",
        "model6 = LinearRegression()"
      ],
      "metadata": {
        "id": "8EJJ-5YK4GlM"
      },
      "execution_count": null,
      "outputs": []
    },
    {
      "cell_type": "code",
      "source": [
        "# Correlación de number_of_reviews vs host_acceptance_rate \n",
        "\n",
        "model1.fit(X = Vars_Indep1, y = Vars_Dep)\n",
        "model1.__dict__\n",
        "model1.score(Vars_Indep1, Vars_Dep)"
      ],
      "metadata": {
        "id": "q4bkiW0X4GlM"
      },
      "execution_count": null,
      "outputs": []
    },
    {
      "cell_type": "code",
      "source": [
        "# Correlación de number_of_reviews vs review_scores_rating \n",
        "\n",
        "model2.fit(X = Vars_Indep2, y = Vars_Dep)\n",
        "model2.__dict__\n",
        "model2.score(Vars_Indep2, Vars_Dep)"
      ],
      "metadata": {
        "id": "HRQzEjsb4GlM"
      },
      "execution_count": null,
      "outputs": []
    },
    {
      "cell_type": "code",
      "source": [
        "# Correlación de number_of_reviews vs price \n",
        "\n",
        "model3.fit(X = Vars_Indep3, y = Vars_Dep)\n",
        "model3.__dict__\n",
        "model3.score(Vars_Indep3, Vars_Dep)"
      ],
      "metadata": {
        "id": "bGyt5gja4GlN"
      },
      "execution_count": null,
      "outputs": []
    },
    {
      "cell_type": "code",
      "source": [
        "# Correlación de number_of_reviews vs review_scores_cleanliness \n",
        "\n",
        "model4.fit(X = Vars_Indep4, y = Vars_Dep)\n",
        "model4.__dict__\n",
        "model4.score(Vars_Indep4, Vars_Dep)"
      ],
      "metadata": {
        "id": "Vucz_xBM4GlN"
      },
      "execution_count": null,
      "outputs": []
    },
    {
      "cell_type": "code",
      "source": [
        "# Correlación de number_of_reviews vs availability_365\n",
        "\n",
        "model5.fit(X = Vars_Indep5, y = Vars_Dep)\n",
        "model5.__dict__\n",
        "model5.score(Vars_Indep5, Vars_Dep)"
      ],
      "metadata": {
        "id": "Trvlp5kE4GlN"
      },
      "execution_count": null,
      "outputs": []
    },
    {
      "cell_type": "code",
      "source": [
        "# Correlación de number_of_reviews vs review_scores_communication\n",
        "\n",
        "model6.fit(X = Vars_Indep6, y = Vars_Dep)\n",
        "model6.__dict__\n",
        "model6.score(Vars_Indep6, Vars_Dep)"
      ],
      "metadata": {
        "id": "7qbfN5UD4GlN"
      },
      "execution_count": null,
      "outputs": []
    },
    {
      "cell_type": "markdown",
      "source": [
        "#Creación del modelo predictivo"
      ],
      "metadata": {
        "id": "aZEF8vCMvgaK"
      }
    },
    {
      "cell_type": "code",
      "source": [
        "from sklearn.linear_model import LinearRegression"
      ],
      "metadata": {
        "id": "g7-P1rgnv1Wv"
      },
      "execution_count": null,
      "outputs": []
    },
    {
      "cell_type": "markdown",
      "source": [
        "##Entire home/apt"
      ],
      "metadata": {
        "id": "7B8sE0Uxvuce"
      }
    },
    {
      "cell_type": "code",
      "source": [
        "#Declaramos las variables dependientes e independientes para la regresión lineal\n",
        "Vars_Indep_EntHom= EntireHome[['host_acceptance_rate', 'review_scores_rating','review_scores_cleanliness', 'availability_365']]\n",
        "Var_Dep_EntHom= EntireHome['number_of_reviews']\n",
        "\n",
        "#Se define model como la función de regresión lineal\n",
        "from sklearn.linear_model import LinearRegression\n",
        "modelEntHom= LinearRegression()\n",
        "#Ajustamos el modelo con las variables antes declaradas\n",
        "modelEntHom.fit(X=Vars_Indep_EntHom, y=Var_Dep_EntHom)\n",
        "\n",
        "#Verificamos los coeficientes obtenidos para el modelo ajustado\n",
        "modelEntHom.__dict__\n",
        "\n",
        "#Predecimos los valores de total de number_of_reviews a partir de las variables: 'host_acceptance_rate', 'review_scores_rating','review_scores_cleanliness', 'availability_365'\n",
        "y_pred_EntHom= modelEntHom.predict(X=EntireHome[['host_acceptance_rate', 'review_scores_rating','review_scores_cleanliness', 'availability_365']])\n",
        "y_pred_EntHom\n",
        "\n",
        "#Insertamos la columna de predicciones en el DataFrame\n",
        "EntireHome.insert(0, 'Predicciones_EntireHome', y_pred_EntHom)\n",
        "EntireHome\n",
        "\n",
        "#Corroboramos cual es el coeficiente de Determinación de nuestro modelo\n",
        "coef_Deter_EntHom=modelEntHom.score(X=Vars_Indep_EntHom, y=Var_Dep_EntHom)\n",
        "print(\"Coeficiente de Determinación: \", coef_Deter_EntHom)\n",
        "\n",
        "#Corroboramos cual es el coeficiente de Correlación de nuestro modelo\n",
        "coef_Correl_EntHome=np.sqrt(coef_Deter_EntHom)\n",
        "print(\"Coeficiente de Correlación: \", coef_Correl_EntHome)"
      ],
      "metadata": {
        "id": "OozVD3cEg0St"
      },
      "execution_count": null,
      "outputs": []
    },
    {
      "cell_type": "markdown",
      "source": [
        "##Private room"
      ],
      "metadata": {
        "id": "A1Pnn8X70ifP"
      }
    },
    {
      "cell_type": "code",
      "source": [
        "#Declaramos las variables dependientes e independientes para la regresión lineal\n",
        "Vars_Indep_PrivRoom= PrivateRoom[['review_scores_rating', 'review_scores_cleanliness', 'availability_365', 'review_scores_communication']]\n",
        "Var_Dep_PrivRoom= PrivateRoom['number_of_reviews']\n",
        "\n",
        "#Se define model como la función de regresión lineal\n",
        "from sklearn.linear_model import LinearRegression\n",
        "modelPrivRoom= LinearRegression()\n",
        "#Ajustamos el modelo con las variables antes declaradas\n",
        "modelPrivRoom.fit(X=Vars_Indep_PrivRoom, y=Var_Dep_PrivRoom)\n",
        "\n",
        "#Verificamos los coeficientes obtenidos para el modelo ajustado\n",
        "modelPrivRoom.__dict__\n",
        "\n",
        "#Predecimos los valores de total de number_of_reviews a partir de las variables: 'host_acceptance_rate', 'review_scores_rating','review_scores_cleanliness', 'availability_365'\n",
        "y_pred_PrivRoom= modelPrivRoom.predict(X=PrivateRoom[['review_scores_rating', 'review_scores_cleanliness', 'availability_365', 'review_scores_communication']])\n",
        "y_pred_PrivRoom\n",
        "\n",
        "#Insertamos la columna de predicciones en el DataFrame\n",
        "PrivateRoom.insert(0, 'Predicciones_PrivateRoom', y_pred_PrivRoom)\n",
        "PrivateRoom\n",
        "\n",
        "#Corroboramos cual es el coeficiente de Determinación de nuestro modelo\n",
        "coef_Deter_PrivRoom=modelPrivRoom.score(X=Vars_Indep_PrivRoom, y=Var_Dep_PrivRoom)\n",
        "print(\"Coeficiente de Determinación: \", coef_Deter_PrivRoom)\n",
        "\n",
        "#Corroboramos cual es el coeficiente de Correlación de nuestro modelo\n",
        "coef_Correl_PrivRoom=np.sqrt(coef_Deter_PrivRoom)\n",
        "print(\"Coeficiente de Correlación: \", coef_Correl_PrivRoom)"
      ],
      "metadata": {
        "id": "irs_UPb5mzxI"
      },
      "execution_count": null,
      "outputs": []
    },
    {
      "cell_type": "markdown",
      "source": [
        "##Shared room"
      ],
      "metadata": {
        "id": "bLfZuo_Q3SYp"
      }
    },
    {
      "cell_type": "code",
      "source": [
        "#Declaramos las variables dependientes e independientes para la regresión lineal\n",
        "Vars_Indep_SharedRoom= SharedRoom[['review_scores_rating', 'price', 'review_scores_cleanliness', 'availability_365']]\n",
        "Var_Dep_SharedRoom= SharedRoom['number_of_reviews']\n",
        "\n",
        "#Se define model como la función de regresión lineal\n",
        "from sklearn.linear_model import LinearRegression\n",
        "modelSharedRoom= LinearRegression()\n",
        "#Ajustamos el modelo con las variables antes declaradas\n",
        "modelSharedRoom.fit(X=Vars_Indep_SharedRoom, y=Var_Dep_SharedRoom)\n",
        "\n",
        "#Verificamos los coeficientes obtenidos para el modelo ajustado\n",
        "modelSharedRoom.__dict__\n",
        "\n",
        "#Predecimos los valores de total de number_of_reviews a partir de las variables: 'review_scores_rating', 'price', 'review_scores_cleanliness', 'availability_365'\n",
        "y_pred_SharedRoom= modelSharedRoom.predict(X=SharedRoom[['review_scores_rating', 'price', 'review_scores_cleanliness', 'availability_365']])\n",
        "y_pred_SharedRoom\n",
        "\n",
        "#Insertamos la columna de predicciones en el DataFrame\n",
        "SharedRoom.insert(0, 'Predicciones_SharedRoom', y_pred_SharedRoom)\n",
        "SharedRoom\n",
        "\n",
        "#Corroboramos cual es el coeficiente de Determinación de nuestro modelo\n",
        "coef_Deter_SharedRoom=modelSharedRoom.score(X=Vars_Indep_SharedRoom, y=Var_Dep_SharedRoom)\n",
        "print(\"Coeficiente de Determinación: \", coef_Deter_SharedRoom)\n",
        "\n",
        "#Corroboramos cual es el coeficiente de Correlación de nuestro modelo\n",
        "coef_Correl_SharedRoom=np.sqrt(coef_Deter_SharedRoom)\n",
        "print(\"Coeficiente de Correlación: \", coef_Correl_SharedRoom)"
      ],
      "metadata": {
        "id": "xVvXJ2z6oP2p"
      },
      "execution_count": null,
      "outputs": []
    },
    {
      "cell_type": "markdown",
      "source": [
        "# Tablas de correlación y determinación"
      ],
      "metadata": {
        "id": "sCEoay6f6qvq"
      }
    },
    {
      "cell_type": "markdown",
      "source": [
        "##Entire home/apt"
      ],
      "metadata": {
        "id": "Z0jFt2FN6zSL"
      }
    },
    {
      "cell_type": "code",
      "source": [
        "#Tabla de correlación\n",
        "\n",
        "Corr_factoresEntireHome=EntireHome.corr()\n",
        "Corr_factoresEntireHome"
      ],
      "metadata": {
        "colab": {
          "base_uri": "https://localhost:8080/",
          "height": 332
        },
        "id": "UhEeswtn64hl",
        "outputId": "4bd0e9a5-c5c7-4582-b0f5-7788f5c59224"
      },
      "execution_count": 62,
      "outputs": [
        {
          "output_type": "execute_result",
          "data": {
            "text/plain": [
              "                             Predicciones_EntireHome  host_acceptance_rate  \\\n",
              "Predicciones_EntireHome                     1.000000              0.472598   \n",
              "host_acceptance_rate                        0.472598              1.000000   \n",
              "review_scores_rating                       -0.755915             -0.026202   \n",
              "price                                      -0.201467             -0.101639   \n",
              "review_scores_cleanliness                  -0.449710              0.005280   \n",
              "availability_365                           -0.543707             -0.115269   \n",
              "review_scores_communication                -0.370022             -0.084198   \n",
              "room_type                                        NaN                   NaN   \n",
              "number_of_reviews                           0.315114              0.148922   \n",
              "\n",
              "                             review_scores_rating     price  \\\n",
              "Predicciones_EntireHome                 -0.755915 -0.201467   \n",
              "host_acceptance_rate                    -0.026202 -0.101639   \n",
              "review_scores_rating                     1.000000  0.117466   \n",
              "price                                    0.117466  1.000000   \n",
              "review_scores_cleanliness                0.523362  0.045982   \n",
              "availability_365                         0.040126  0.163409   \n",
              "review_scores_communication              0.401879  0.145417   \n",
              "room_type                                     NaN       NaN   \n",
              "number_of_reviews                       -0.238199 -0.209116   \n",
              "\n",
              "                             review_scores_cleanliness  availability_365  \\\n",
              "Predicciones_EntireHome                      -0.449710         -0.543707   \n",
              "host_acceptance_rate                          0.005280         -0.115269   \n",
              "review_scores_rating                          0.523362          0.040126   \n",
              "price                                         0.045982          0.163409   \n",
              "review_scores_cleanliness                     1.000000         -0.001216   \n",
              "availability_365                             -0.001216          1.000000   \n",
              "review_scores_communication                   0.252543          0.085163   \n",
              "room_type                                          NaN               NaN   \n",
              "number_of_reviews                            -0.141710         -0.171329   \n",
              "\n",
              "                             review_scores_communication  room_type  \\\n",
              "Predicciones_EntireHome                        -0.370022        NaN   \n",
              "host_acceptance_rate                           -0.084198        NaN   \n",
              "review_scores_rating                            0.401879        NaN   \n",
              "price                                           0.145417        NaN   \n",
              "review_scores_cleanliness                       0.252543        NaN   \n",
              "availability_365                                0.085163        NaN   \n",
              "review_scores_communication                     1.000000        NaN   \n",
              "room_type                                            NaN        NaN   \n",
              "number_of_reviews                              -0.368459        NaN   \n",
              "\n",
              "                             number_of_reviews  \n",
              "Predicciones_EntireHome               0.315114  \n",
              "host_acceptance_rate                  0.148922  \n",
              "review_scores_rating                 -0.238199  \n",
              "price                                -0.209116  \n",
              "review_scores_cleanliness            -0.141710  \n",
              "availability_365                     -0.171329  \n",
              "review_scores_communication          -0.368459  \n",
              "room_type                                  NaN  \n",
              "number_of_reviews                     1.000000  "
            ],
            "text/html": [
              "\n",
              "  <div id=\"df-e81e6a48-d40a-4d0b-96b6-44208ee9f2ba\">\n",
              "    <div class=\"colab-df-container\">\n",
              "      <div>\n",
              "<style scoped>\n",
              "    .dataframe tbody tr th:only-of-type {\n",
              "        vertical-align: middle;\n",
              "    }\n",
              "\n",
              "    .dataframe tbody tr th {\n",
              "        vertical-align: top;\n",
              "    }\n",
              "\n",
              "    .dataframe thead th {\n",
              "        text-align: right;\n",
              "    }\n",
              "</style>\n",
              "<table border=\"1\" class=\"dataframe\">\n",
              "  <thead>\n",
              "    <tr style=\"text-align: right;\">\n",
              "      <th></th>\n",
              "      <th>Predicciones_EntireHome</th>\n",
              "      <th>host_acceptance_rate</th>\n",
              "      <th>review_scores_rating</th>\n",
              "      <th>price</th>\n",
              "      <th>review_scores_cleanliness</th>\n",
              "      <th>availability_365</th>\n",
              "      <th>review_scores_communication</th>\n",
              "      <th>room_type</th>\n",
              "      <th>number_of_reviews</th>\n",
              "    </tr>\n",
              "  </thead>\n",
              "  <tbody>\n",
              "    <tr>\n",
              "      <th>Predicciones_EntireHome</th>\n",
              "      <td>1.000000</td>\n",
              "      <td>0.472598</td>\n",
              "      <td>-0.755915</td>\n",
              "      <td>-0.201467</td>\n",
              "      <td>-0.449710</td>\n",
              "      <td>-0.543707</td>\n",
              "      <td>-0.370022</td>\n",
              "      <td>NaN</td>\n",
              "      <td>0.315114</td>\n",
              "    </tr>\n",
              "    <tr>\n",
              "      <th>host_acceptance_rate</th>\n",
              "      <td>0.472598</td>\n",
              "      <td>1.000000</td>\n",
              "      <td>-0.026202</td>\n",
              "      <td>-0.101639</td>\n",
              "      <td>0.005280</td>\n",
              "      <td>-0.115269</td>\n",
              "      <td>-0.084198</td>\n",
              "      <td>NaN</td>\n",
              "      <td>0.148922</td>\n",
              "    </tr>\n",
              "    <tr>\n",
              "      <th>review_scores_rating</th>\n",
              "      <td>-0.755915</td>\n",
              "      <td>-0.026202</td>\n",
              "      <td>1.000000</td>\n",
              "      <td>0.117466</td>\n",
              "      <td>0.523362</td>\n",
              "      <td>0.040126</td>\n",
              "      <td>0.401879</td>\n",
              "      <td>NaN</td>\n",
              "      <td>-0.238199</td>\n",
              "    </tr>\n",
              "    <tr>\n",
              "      <th>price</th>\n",
              "      <td>-0.201467</td>\n",
              "      <td>-0.101639</td>\n",
              "      <td>0.117466</td>\n",
              "      <td>1.000000</td>\n",
              "      <td>0.045982</td>\n",
              "      <td>0.163409</td>\n",
              "      <td>0.145417</td>\n",
              "      <td>NaN</td>\n",
              "      <td>-0.209116</td>\n",
              "    </tr>\n",
              "    <tr>\n",
              "      <th>review_scores_cleanliness</th>\n",
              "      <td>-0.449710</td>\n",
              "      <td>0.005280</td>\n",
              "      <td>0.523362</td>\n",
              "      <td>0.045982</td>\n",
              "      <td>1.000000</td>\n",
              "      <td>-0.001216</td>\n",
              "      <td>0.252543</td>\n",
              "      <td>NaN</td>\n",
              "      <td>-0.141710</td>\n",
              "    </tr>\n",
              "    <tr>\n",
              "      <th>availability_365</th>\n",
              "      <td>-0.543707</td>\n",
              "      <td>-0.115269</td>\n",
              "      <td>0.040126</td>\n",
              "      <td>0.163409</td>\n",
              "      <td>-0.001216</td>\n",
              "      <td>1.000000</td>\n",
              "      <td>0.085163</td>\n",
              "      <td>NaN</td>\n",
              "      <td>-0.171329</td>\n",
              "    </tr>\n",
              "    <tr>\n",
              "      <th>review_scores_communication</th>\n",
              "      <td>-0.370022</td>\n",
              "      <td>-0.084198</td>\n",
              "      <td>0.401879</td>\n",
              "      <td>0.145417</td>\n",
              "      <td>0.252543</td>\n",
              "      <td>0.085163</td>\n",
              "      <td>1.000000</td>\n",
              "      <td>NaN</td>\n",
              "      <td>-0.368459</td>\n",
              "    </tr>\n",
              "    <tr>\n",
              "      <th>room_type</th>\n",
              "      <td>NaN</td>\n",
              "      <td>NaN</td>\n",
              "      <td>NaN</td>\n",
              "      <td>NaN</td>\n",
              "      <td>NaN</td>\n",
              "      <td>NaN</td>\n",
              "      <td>NaN</td>\n",
              "      <td>NaN</td>\n",
              "      <td>NaN</td>\n",
              "    </tr>\n",
              "    <tr>\n",
              "      <th>number_of_reviews</th>\n",
              "      <td>0.315114</td>\n",
              "      <td>0.148922</td>\n",
              "      <td>-0.238199</td>\n",
              "      <td>-0.209116</td>\n",
              "      <td>-0.141710</td>\n",
              "      <td>-0.171329</td>\n",
              "      <td>-0.368459</td>\n",
              "      <td>NaN</td>\n",
              "      <td>1.000000</td>\n",
              "    </tr>\n",
              "  </tbody>\n",
              "</table>\n",
              "</div>\n",
              "      <button class=\"colab-df-convert\" onclick=\"convertToInteractive('df-e81e6a48-d40a-4d0b-96b6-44208ee9f2ba')\"\n",
              "              title=\"Convert this dataframe to an interactive table.\"\n",
              "              style=\"display:none;\">\n",
              "        \n",
              "  <svg xmlns=\"http://www.w3.org/2000/svg\" height=\"24px\"viewBox=\"0 0 24 24\"\n",
              "       width=\"24px\">\n",
              "    <path d=\"M0 0h24v24H0V0z\" fill=\"none\"/>\n",
              "    <path d=\"M18.56 5.44l.94 2.06.94-2.06 2.06-.94-2.06-.94-.94-2.06-.94 2.06-2.06.94zm-11 1L8.5 8.5l.94-2.06 2.06-.94-2.06-.94L8.5 2.5l-.94 2.06-2.06.94zm10 10l.94 2.06.94-2.06 2.06-.94-2.06-.94-.94-2.06-.94 2.06-2.06.94z\"/><path d=\"M17.41 7.96l-1.37-1.37c-.4-.4-.92-.59-1.43-.59-.52 0-1.04.2-1.43.59L10.3 9.45l-7.72 7.72c-.78.78-.78 2.05 0 2.83L4 21.41c.39.39.9.59 1.41.59.51 0 1.02-.2 1.41-.59l7.78-7.78 2.81-2.81c.8-.78.8-2.07 0-2.86zM5.41 20L4 18.59l7.72-7.72 1.47 1.35L5.41 20z\"/>\n",
              "  </svg>\n",
              "      </button>\n",
              "      \n",
              "  <style>\n",
              "    .colab-df-container {\n",
              "      display:flex;\n",
              "      flex-wrap:wrap;\n",
              "      gap: 12px;\n",
              "    }\n",
              "\n",
              "    .colab-df-convert {\n",
              "      background-color: #E8F0FE;\n",
              "      border: none;\n",
              "      border-radius: 50%;\n",
              "      cursor: pointer;\n",
              "      display: none;\n",
              "      fill: #1967D2;\n",
              "      height: 32px;\n",
              "      padding: 0 0 0 0;\n",
              "      width: 32px;\n",
              "    }\n",
              "\n",
              "    .colab-df-convert:hover {\n",
              "      background-color: #E2EBFA;\n",
              "      box-shadow: 0px 1px 2px rgba(60, 64, 67, 0.3), 0px 1px 3px 1px rgba(60, 64, 67, 0.15);\n",
              "      fill: #174EA6;\n",
              "    }\n",
              "\n",
              "    [theme=dark] .colab-df-convert {\n",
              "      background-color: #3B4455;\n",
              "      fill: #D2E3FC;\n",
              "    }\n",
              "\n",
              "    [theme=dark] .colab-df-convert:hover {\n",
              "      background-color: #434B5C;\n",
              "      box-shadow: 0px 1px 3px 1px rgba(0, 0, 0, 0.15);\n",
              "      filter: drop-shadow(0px 1px 2px rgba(0, 0, 0, 0.3));\n",
              "      fill: #FFFFFF;\n",
              "    }\n",
              "  </style>\n",
              "\n",
              "      <script>\n",
              "        const buttonEl =\n",
              "          document.querySelector('#df-e81e6a48-d40a-4d0b-96b6-44208ee9f2ba button.colab-df-convert');\n",
              "        buttonEl.style.display =\n",
              "          google.colab.kernel.accessAllowed ? 'block' : 'none';\n",
              "\n",
              "        async function convertToInteractive(key) {\n",
              "          const element = document.querySelector('#df-e81e6a48-d40a-4d0b-96b6-44208ee9f2ba');\n",
              "          const dataTable =\n",
              "            await google.colab.kernel.invokeFunction('convertToInteractive',\n",
              "                                                     [key], {});\n",
              "          if (!dataTable) return;\n",
              "\n",
              "          const docLinkHtml = 'Like what you see? Visit the ' +\n",
              "            '<a target=\"_blank\" href=https://colab.research.google.com/notebooks/data_table.ipynb>data table notebook</a>'\n",
              "            + ' to learn more about interactive tables.';\n",
              "          element.innerHTML = '';\n",
              "          dataTable['output_type'] = 'display_data';\n",
              "          await google.colab.output.renderOutput(dataTable, element);\n",
              "          const docLink = document.createElement('div');\n",
              "          docLink.innerHTML = docLinkHtml;\n",
              "          element.appendChild(docLink);\n",
              "        }\n",
              "      </script>\n",
              "    </div>\n",
              "  </div>\n",
              "  "
            ]
          },
          "metadata": {},
          "execution_count": 62
        }
      ]
    },
    {
      "cell_type": "code",
      "source": [
        "#Tabla de determinación\n",
        "\n",
        "Det_factoresEntireHome=(EntireHome.corr())**2\n",
        "Det_factoresEntireHome"
      ],
      "metadata": {
        "colab": {
          "base_uri": "https://localhost:8080/",
          "height": 332
        },
        "id": "28WAdpFCNWiQ",
        "outputId": "b809d9c4-ba9a-43f0-86ad-d3dd594006ac"
      },
      "execution_count": 63,
      "outputs": [
        {
          "output_type": "execute_result",
          "data": {
            "text/plain": [
              "                             Predicciones_EntireHome  host_acceptance_rate  \\\n",
              "Predicciones_EntireHome                     1.000000              0.223349   \n",
              "host_acceptance_rate                        0.223349              1.000000   \n",
              "review_scores_rating                        0.571407              0.000687   \n",
              "price                                       0.040589              0.010330   \n",
              "review_scores_cleanliness                   0.202239              0.000028   \n",
              "availability_365                            0.295617              0.013287   \n",
              "review_scores_communication                 0.136916              0.007089   \n",
              "room_type                                        NaN                   NaN   \n",
              "number_of_reviews                           0.099297              0.022178   \n",
              "\n",
              "                             review_scores_rating     price  \\\n",
              "Predicciones_EntireHome                  0.571407  0.040589   \n",
              "host_acceptance_rate                     0.000687  0.010330   \n",
              "review_scores_rating                     1.000000  0.013798   \n",
              "price                                    0.013798  1.000000   \n",
              "review_scores_cleanliness                0.273908  0.002114   \n",
              "availability_365                         0.001610  0.026703   \n",
              "review_scores_communication              0.161507  0.021146   \n",
              "room_type                                     NaN       NaN   \n",
              "number_of_reviews                        0.056739  0.043730   \n",
              "\n",
              "                             review_scores_cleanliness  availability_365  \\\n",
              "Predicciones_EntireHome                       0.202239          0.295617   \n",
              "host_acceptance_rate                          0.000028          0.013287   \n",
              "review_scores_rating                          0.273908          0.001610   \n",
              "price                                         0.002114          0.026703   \n",
              "review_scores_cleanliness                     1.000000          0.000001   \n",
              "availability_365                              0.000001          1.000000   \n",
              "review_scores_communication                   0.063778          0.007253   \n",
              "room_type                                          NaN               NaN   \n",
              "number_of_reviews                             0.020082          0.029354   \n",
              "\n",
              "                             review_scores_communication  room_type  \\\n",
              "Predicciones_EntireHome                         0.136916        NaN   \n",
              "host_acceptance_rate                            0.007089        NaN   \n",
              "review_scores_rating                            0.161507        NaN   \n",
              "price                                           0.021146        NaN   \n",
              "review_scores_cleanliness                       0.063778        NaN   \n",
              "availability_365                                0.007253        NaN   \n",
              "review_scores_communication                     1.000000        NaN   \n",
              "room_type                                            NaN        NaN   \n",
              "number_of_reviews                               0.135762        NaN   \n",
              "\n",
              "                             number_of_reviews  \n",
              "Predicciones_EntireHome               0.099297  \n",
              "host_acceptance_rate                  0.022178  \n",
              "review_scores_rating                  0.056739  \n",
              "price                                 0.043730  \n",
              "review_scores_cleanliness             0.020082  \n",
              "availability_365                      0.029354  \n",
              "review_scores_communication           0.135762  \n",
              "room_type                                  NaN  \n",
              "number_of_reviews                     1.000000  "
            ],
            "text/html": [
              "\n",
              "  <div id=\"df-221bd777-ffb6-4c80-baca-1154111266b6\">\n",
              "    <div class=\"colab-df-container\">\n",
              "      <div>\n",
              "<style scoped>\n",
              "    .dataframe tbody tr th:only-of-type {\n",
              "        vertical-align: middle;\n",
              "    }\n",
              "\n",
              "    .dataframe tbody tr th {\n",
              "        vertical-align: top;\n",
              "    }\n",
              "\n",
              "    .dataframe thead th {\n",
              "        text-align: right;\n",
              "    }\n",
              "</style>\n",
              "<table border=\"1\" class=\"dataframe\">\n",
              "  <thead>\n",
              "    <tr style=\"text-align: right;\">\n",
              "      <th></th>\n",
              "      <th>Predicciones_EntireHome</th>\n",
              "      <th>host_acceptance_rate</th>\n",
              "      <th>review_scores_rating</th>\n",
              "      <th>price</th>\n",
              "      <th>review_scores_cleanliness</th>\n",
              "      <th>availability_365</th>\n",
              "      <th>review_scores_communication</th>\n",
              "      <th>room_type</th>\n",
              "      <th>number_of_reviews</th>\n",
              "    </tr>\n",
              "  </thead>\n",
              "  <tbody>\n",
              "    <tr>\n",
              "      <th>Predicciones_EntireHome</th>\n",
              "      <td>1.000000</td>\n",
              "      <td>0.223349</td>\n",
              "      <td>0.571407</td>\n",
              "      <td>0.040589</td>\n",
              "      <td>0.202239</td>\n",
              "      <td>0.295617</td>\n",
              "      <td>0.136916</td>\n",
              "      <td>NaN</td>\n",
              "      <td>0.099297</td>\n",
              "    </tr>\n",
              "    <tr>\n",
              "      <th>host_acceptance_rate</th>\n",
              "      <td>0.223349</td>\n",
              "      <td>1.000000</td>\n",
              "      <td>0.000687</td>\n",
              "      <td>0.010330</td>\n",
              "      <td>0.000028</td>\n",
              "      <td>0.013287</td>\n",
              "      <td>0.007089</td>\n",
              "      <td>NaN</td>\n",
              "      <td>0.022178</td>\n",
              "    </tr>\n",
              "    <tr>\n",
              "      <th>review_scores_rating</th>\n",
              "      <td>0.571407</td>\n",
              "      <td>0.000687</td>\n",
              "      <td>1.000000</td>\n",
              "      <td>0.013798</td>\n",
              "      <td>0.273908</td>\n",
              "      <td>0.001610</td>\n",
              "      <td>0.161507</td>\n",
              "      <td>NaN</td>\n",
              "      <td>0.056739</td>\n",
              "    </tr>\n",
              "    <tr>\n",
              "      <th>price</th>\n",
              "      <td>0.040589</td>\n",
              "      <td>0.010330</td>\n",
              "      <td>0.013798</td>\n",
              "      <td>1.000000</td>\n",
              "      <td>0.002114</td>\n",
              "      <td>0.026703</td>\n",
              "      <td>0.021146</td>\n",
              "      <td>NaN</td>\n",
              "      <td>0.043730</td>\n",
              "    </tr>\n",
              "    <tr>\n",
              "      <th>review_scores_cleanliness</th>\n",
              "      <td>0.202239</td>\n",
              "      <td>0.000028</td>\n",
              "      <td>0.273908</td>\n",
              "      <td>0.002114</td>\n",
              "      <td>1.000000</td>\n",
              "      <td>0.000001</td>\n",
              "      <td>0.063778</td>\n",
              "      <td>NaN</td>\n",
              "      <td>0.020082</td>\n",
              "    </tr>\n",
              "    <tr>\n",
              "      <th>availability_365</th>\n",
              "      <td>0.295617</td>\n",
              "      <td>0.013287</td>\n",
              "      <td>0.001610</td>\n",
              "      <td>0.026703</td>\n",
              "      <td>0.000001</td>\n",
              "      <td>1.000000</td>\n",
              "      <td>0.007253</td>\n",
              "      <td>NaN</td>\n",
              "      <td>0.029354</td>\n",
              "    </tr>\n",
              "    <tr>\n",
              "      <th>review_scores_communication</th>\n",
              "      <td>0.136916</td>\n",
              "      <td>0.007089</td>\n",
              "      <td>0.161507</td>\n",
              "      <td>0.021146</td>\n",
              "      <td>0.063778</td>\n",
              "      <td>0.007253</td>\n",
              "      <td>1.000000</td>\n",
              "      <td>NaN</td>\n",
              "      <td>0.135762</td>\n",
              "    </tr>\n",
              "    <tr>\n",
              "      <th>room_type</th>\n",
              "      <td>NaN</td>\n",
              "      <td>NaN</td>\n",
              "      <td>NaN</td>\n",
              "      <td>NaN</td>\n",
              "      <td>NaN</td>\n",
              "      <td>NaN</td>\n",
              "      <td>NaN</td>\n",
              "      <td>NaN</td>\n",
              "      <td>NaN</td>\n",
              "    </tr>\n",
              "    <tr>\n",
              "      <th>number_of_reviews</th>\n",
              "      <td>0.099297</td>\n",
              "      <td>0.022178</td>\n",
              "      <td>0.056739</td>\n",
              "      <td>0.043730</td>\n",
              "      <td>0.020082</td>\n",
              "      <td>0.029354</td>\n",
              "      <td>0.135762</td>\n",
              "      <td>NaN</td>\n",
              "      <td>1.000000</td>\n",
              "    </tr>\n",
              "  </tbody>\n",
              "</table>\n",
              "</div>\n",
              "      <button class=\"colab-df-convert\" onclick=\"convertToInteractive('df-221bd777-ffb6-4c80-baca-1154111266b6')\"\n",
              "              title=\"Convert this dataframe to an interactive table.\"\n",
              "              style=\"display:none;\">\n",
              "        \n",
              "  <svg xmlns=\"http://www.w3.org/2000/svg\" height=\"24px\"viewBox=\"0 0 24 24\"\n",
              "       width=\"24px\">\n",
              "    <path d=\"M0 0h24v24H0V0z\" fill=\"none\"/>\n",
              "    <path d=\"M18.56 5.44l.94 2.06.94-2.06 2.06-.94-2.06-.94-.94-2.06-.94 2.06-2.06.94zm-11 1L8.5 8.5l.94-2.06 2.06-.94-2.06-.94L8.5 2.5l-.94 2.06-2.06.94zm10 10l.94 2.06.94-2.06 2.06-.94-2.06-.94-.94-2.06-.94 2.06-2.06.94z\"/><path d=\"M17.41 7.96l-1.37-1.37c-.4-.4-.92-.59-1.43-.59-.52 0-1.04.2-1.43.59L10.3 9.45l-7.72 7.72c-.78.78-.78 2.05 0 2.83L4 21.41c.39.39.9.59 1.41.59.51 0 1.02-.2 1.41-.59l7.78-7.78 2.81-2.81c.8-.78.8-2.07 0-2.86zM5.41 20L4 18.59l7.72-7.72 1.47 1.35L5.41 20z\"/>\n",
              "  </svg>\n",
              "      </button>\n",
              "      \n",
              "  <style>\n",
              "    .colab-df-container {\n",
              "      display:flex;\n",
              "      flex-wrap:wrap;\n",
              "      gap: 12px;\n",
              "    }\n",
              "\n",
              "    .colab-df-convert {\n",
              "      background-color: #E8F0FE;\n",
              "      border: none;\n",
              "      border-radius: 50%;\n",
              "      cursor: pointer;\n",
              "      display: none;\n",
              "      fill: #1967D2;\n",
              "      height: 32px;\n",
              "      padding: 0 0 0 0;\n",
              "      width: 32px;\n",
              "    }\n",
              "\n",
              "    .colab-df-convert:hover {\n",
              "      background-color: #E2EBFA;\n",
              "      box-shadow: 0px 1px 2px rgba(60, 64, 67, 0.3), 0px 1px 3px 1px rgba(60, 64, 67, 0.15);\n",
              "      fill: #174EA6;\n",
              "    }\n",
              "\n",
              "    [theme=dark] .colab-df-convert {\n",
              "      background-color: #3B4455;\n",
              "      fill: #D2E3FC;\n",
              "    }\n",
              "\n",
              "    [theme=dark] .colab-df-convert:hover {\n",
              "      background-color: #434B5C;\n",
              "      box-shadow: 0px 1px 3px 1px rgba(0, 0, 0, 0.15);\n",
              "      filter: drop-shadow(0px 1px 2px rgba(0, 0, 0, 0.3));\n",
              "      fill: #FFFFFF;\n",
              "    }\n",
              "  </style>\n",
              "\n",
              "      <script>\n",
              "        const buttonEl =\n",
              "          document.querySelector('#df-221bd777-ffb6-4c80-baca-1154111266b6 button.colab-df-convert');\n",
              "        buttonEl.style.display =\n",
              "          google.colab.kernel.accessAllowed ? 'block' : 'none';\n",
              "\n",
              "        async function convertToInteractive(key) {\n",
              "          const element = document.querySelector('#df-221bd777-ffb6-4c80-baca-1154111266b6');\n",
              "          const dataTable =\n",
              "            await google.colab.kernel.invokeFunction('convertToInteractive',\n",
              "                                                     [key], {});\n",
              "          if (!dataTable) return;\n",
              "\n",
              "          const docLinkHtml = 'Like what you see? Visit the ' +\n",
              "            '<a target=\"_blank\" href=https://colab.research.google.com/notebooks/data_table.ipynb>data table notebook</a>'\n",
              "            + ' to learn more about interactive tables.';\n",
              "          element.innerHTML = '';\n",
              "          dataTable['output_type'] = 'display_data';\n",
              "          await google.colab.output.renderOutput(dataTable, element);\n",
              "          const docLink = document.createElement('div');\n",
              "          docLink.innerHTML = docLinkHtml;\n",
              "          element.appendChild(docLink);\n",
              "        }\n",
              "      </script>\n",
              "    </div>\n",
              "  </div>\n",
              "  "
            ]
          },
          "metadata": {},
          "execution_count": 63
        }
      ]
    },
    {
      "cell_type": "markdown",
      "source": [
        "## Private room"
      ],
      "metadata": {
        "id": "q6g4tlj36wC5"
      }
    },
    {
      "cell_type": "code",
      "source": [
        "#Tabla de correlación\n",
        "\n",
        "Corr_factoresPrivRoom=PrivateRoom.corr()\n",
        "Corr_factoresPrivRoom"
      ],
      "metadata": {
        "id": "jl4yzYUD7JTv"
      },
      "execution_count": null,
      "outputs": []
    },
    {
      "cell_type": "code",
      "source": [
        "#Tabla de determinación\n",
        "\n",
        "Det_factoresPrivRoom=(PrivateRoom.corr())**2\n",
        "Det_factoresPrivRoom"
      ],
      "metadata": {
        "id": "Dtjl-yf3NjuW"
      },
      "execution_count": null,
      "outputs": []
    },
    {
      "cell_type": "markdown",
      "source": [
        "##Shared room"
      ],
      "metadata": {
        "id": "1Dxs3cCA6uNt"
      }
    },
    {
      "cell_type": "code",
      "source": [
        "#Tabla de correlación\n",
        "\n",
        "Corr_factoresSharRoom=SharedRoom.corr()\n",
        "Corr_factoresSharRoom"
      ],
      "metadata": {
        "id": "hoYcGHA66tix"
      },
      "execution_count": null,
      "outputs": []
    },
    {
      "cell_type": "code",
      "source": [
        "#Tabla de determinación\n",
        "\n",
        "Det_factoresSharRoom=(SharedRoom.corr())**2\n",
        "Det_factoresSharRoom"
      ],
      "metadata": {
        "id": "KFeFo8IKN2M1"
      },
      "execution_count": null,
      "outputs": []
    }
  ]
}